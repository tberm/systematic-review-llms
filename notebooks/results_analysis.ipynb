{
 "cells": [
  {
   "cell_type": "code",
   "execution_count": 2,
   "id": "c70fd473-3d4a-451c-b54e-11ee0c6354da",
   "metadata": {},
   "outputs": [],
   "source": [
    "import wandb\n",
    "import pandas as pd"
   ]
  },
  {
   "cell_type": "code",
   "execution_count": 3,
   "id": "bfb6fa28-9993-4221-8fd1-e1e1d216866a",
   "metadata": {},
   "outputs": [],
   "source": [
    "%load_ext autoreload\n",
    "%autoreload 2\n",
    "\n",
    "from nb_funcs import (\n",
    "    get_results_df_for_run, get_review_from_eval_set,\n",
    "    add_av_prec_to_eval_run, get_wandb_runs_table, make_df_from_wandb_runs,\n",
    "    get_review_from_model_name\n",
    ")\n",
    "\n",
    "fig_dir = '/home/tom/msc/diss/report/latex/figures/'"
   ]
  },
  {
   "cell_type": "markdown",
   "id": "fc8f2321-54a5-4e9d-baeb-6bcdd35a6f18",
   "metadata": {},
   "source": [
    "## Datasets"
   ]
  },
  {
   "cell_type": "code",
   "execution_count": 48,
   "id": "44d511cd-c4df-45cd-8d34-a20ec8985776",
   "metadata": {},
   "outputs": [],
   "source": [
    "from pathlib import Path\n",
    "import numpy as np\n",
    "from nb_funcs import REVIEW_LABELS\n",
    "\n",
    "rows = []\n",
    "for review_dir in Path('.').glob('../data/covidence/review_*'):\n",
    "    try:\n",
    "        review_id = int(review_dir.parts[-1].split('_')[1])\n",
    "    except ValueError:\n",
    "        continue\n",
    "    row = {'review': review_id}\n",
    "    df = pd.read_csv(review_dir / 'full.csv', index_col=0)\n",
    "    row['size'] = len(df)\n",
    "    row['pos_items'] = df.label.sum()\n",
    "    row['support'] = df.label.sum() / len(df)\n",
    "    try:\n",
    "        nat_split = np.genfromtxt(review_dir / 'natural_train_split.txt')\n",
    "    except FileNotFoundError:\n",
    "        row['natural_split_size'] = None\n",
    "        row['balanced_split_size'] = None\n",
    "        row['validation_split_size'] = None\n",
    "        rows.append(row)\n",
    "        continue\n",
    "        \n",
    "    row['natural_split_size'] = len(nat_split)\n",
    "    row['natural_split_support'] = df.loc[nat_split].label.sum() / len(nat_split)\n",
    "    bal_split = np.genfromtxt(review_dir / 'balanced_train_split.txt')\n",
    "    row['balanced_split_size'] = len(bal_split)\n",
    "    val_split = np.genfromtxt(review_dir / 'val_split.txt')\n",
    "    row['validation_split_size'] = len(val_split)\n",
    "    row['validation_split_pos_items'] = df.loc[val_split].label.sum()\n",
    "    row['validation_split_support'] = df.loc[val_split].label.sum() / len(val_split)\n",
    "\n",
    "    row['balanced_train_set_frac'] = len(bal_split) / len(df)\n",
    "\n",
    "    rows.append(row)\n",
    "\n",
    "datasets = pd.DataFrame(rows)\n",
    "datasets['review_label'] = datasets.review.apply(REVIEW_LABELS.get)\n",
    "datasets = datasets.set_index('review')\n"
   ]
  },
  {
   "cell_type": "code",
   "execution_count": 941,
   "id": "7ae5ae5c-06fe-4d59-b7a9-31d7f8118104",
   "metadata": {},
   "outputs": [
    {
     "data": {
      "text/html": [
       "<div>\n",
       "<style scoped>\n",
       "    .dataframe tbody tr th:only-of-type {\n",
       "        vertical-align: middle;\n",
       "    }\n",
       "\n",
       "    .dataframe tbody tr th {\n",
       "        vertical-align: top;\n",
       "    }\n",
       "\n",
       "    .dataframe thead th {\n",
       "        text-align: right;\n",
       "    }\n",
       "</style>\n",
       "<table border=\"1\" class=\"dataframe\">\n",
       "  <thead>\n",
       "    <tr style=\"text-align: right;\">\n",
       "      <th></th>\n",
       "      <th>size</th>\n",
       "      <th>pos_items</th>\n",
       "      <th>support</th>\n",
       "      <th>natural_split_size</th>\n",
       "      <th>natural_split_support</th>\n",
       "      <th>balanced_split_size</th>\n",
       "      <th>validation_split_size</th>\n",
       "      <th>validation_split_pos_items</th>\n",
       "      <th>validation_split_support</th>\n",
       "      <th>balanced_train_set_frac</th>\n",
       "      <th>review_label</th>\n",
       "    </tr>\n",
       "    <tr>\n",
       "      <th>review</th>\n",
       "      <th></th>\n",
       "      <th></th>\n",
       "      <th></th>\n",
       "      <th></th>\n",
       "      <th></th>\n",
       "      <th></th>\n",
       "      <th></th>\n",
       "      <th></th>\n",
       "      <th></th>\n",
       "      <th></th>\n",
       "      <th></th>\n",
       "    </tr>\n",
       "  </thead>\n",
       "  <tbody>\n",
       "    <tr>\n",
       "      <th>121733</th>\n",
       "      <td>3707</td>\n",
       "      <td>1373</td>\n",
       "      <td>0.370380</td>\n",
       "      <td>3150.0</td>\n",
       "      <td>0.374286</td>\n",
       "      <td>2358.0</td>\n",
       "      <td>557.0</td>\n",
       "      <td>194.0</td>\n",
       "      <td>0.348294</td>\n",
       "      <td>0.636094</td>\n",
       "      <td>A</td>\n",
       "    </tr>\n",
       "    <tr>\n",
       "      <th>287708</th>\n",
       "      <td>1360</td>\n",
       "      <td>256</td>\n",
       "      <td>0.188235</td>\n",
       "      <td>1156.0</td>\n",
       "      <td>0.182526</td>\n",
       "      <td>422.0</td>\n",
       "      <td>204.0</td>\n",
       "      <td>45.0</td>\n",
       "      <td>0.220588</td>\n",
       "      <td>0.310294</td>\n",
       "      <td>B</td>\n",
       "    </tr>\n",
       "    <tr>\n",
       "      <th>165805</th>\n",
       "      <td>2292</td>\n",
       "      <td>239</td>\n",
       "      <td>0.104276</td>\n",
       "      <td>1948.0</td>\n",
       "      <td>0.104209</td>\n",
       "      <td>406.0</td>\n",
       "      <td>344.0</td>\n",
       "      <td>36.0</td>\n",
       "      <td>0.104651</td>\n",
       "      <td>0.177138</td>\n",
       "      <td>C</td>\n",
       "    </tr>\n",
       "    <tr>\n",
       "      <th>258698</th>\n",
       "      <td>6976</td>\n",
       "      <td>213</td>\n",
       "      <td>0.030533</td>\n",
       "      <td>5929.0</td>\n",
       "      <td>0.030697</td>\n",
       "      <td>364.0</td>\n",
       "      <td>1047.0</td>\n",
       "      <td>31.0</td>\n",
       "      <td>0.029608</td>\n",
       "      <td>0.052179</td>\n",
       "      <td>D</td>\n",
       "    </tr>\n",
       "    <tr>\n",
       "      <th>117787</th>\n",
       "      <td>1330</td>\n",
       "      <td>142</td>\n",
       "      <td>0.106767</td>\n",
       "      <td>1130.0</td>\n",
       "      <td>0.108850</td>\n",
       "      <td>246.0</td>\n",
       "      <td>200.0</td>\n",
       "      <td>19.0</td>\n",
       "      <td>0.095000</td>\n",
       "      <td>0.184962</td>\n",
       "      <td>E</td>\n",
       "    </tr>\n",
       "    <tr>\n",
       "      <th>240084</th>\n",
       "      <td>599</td>\n",
       "      <td>130</td>\n",
       "      <td>0.217028</td>\n",
       "      <td>509.0</td>\n",
       "      <td>0.227898</td>\n",
       "      <td>232.0</td>\n",
       "      <td>90.0</td>\n",
       "      <td>14.0</td>\n",
       "      <td>0.155556</td>\n",
       "      <td>0.387312</td>\n",
       "      <td>I</td>\n",
       "    </tr>\n",
       "    <tr>\n",
       "      <th>334317</th>\n",
       "      <td>4365</td>\n",
       "      <td>126</td>\n",
       "      <td>0.028866</td>\n",
       "      <td>3710.0</td>\n",
       "      <td>0.029111</td>\n",
       "      <td>216.0</td>\n",
       "      <td>655.0</td>\n",
       "      <td>18.0</td>\n",
       "      <td>0.027481</td>\n",
       "      <td>0.049485</td>\n",
       "      <td>F</td>\n",
       "    </tr>\n",
       "    <tr>\n",
       "      <th>378562</th>\n",
       "      <td>643</td>\n",
       "      <td>98</td>\n",
       "      <td>0.152411</td>\n",
       "      <td>546.0</td>\n",
       "      <td>0.163004</td>\n",
       "      <td>178.0</td>\n",
       "      <td>97.0</td>\n",
       "      <td>9.0</td>\n",
       "      <td>0.092784</td>\n",
       "      <td>0.276827</td>\n",
       "      <td>G</td>\n",
       "    </tr>\n",
       "    <tr>\n",
       "      <th>288055</th>\n",
       "      <td>1381</td>\n",
       "      <td>26</td>\n",
       "      <td>0.018827</td>\n",
       "      <td>NaN</td>\n",
       "      <td>NaN</td>\n",
       "      <td>NaN</td>\n",
       "      <td>NaN</td>\n",
       "      <td>NaN</td>\n",
       "      <td>NaN</td>\n",
       "      <td>NaN</td>\n",
       "      <td>H</td>\n",
       "    </tr>\n",
       "  </tbody>\n",
       "</table>\n",
       "</div>"
      ],
      "text/plain": [
       "        size  pos_items   support  natural_split_size  natural_split_support  \\\n",
       "review                                                                         \n",
       "121733  3707       1373  0.370380              3150.0               0.374286   \n",
       "287708  1360        256  0.188235              1156.0               0.182526   \n",
       "165805  2292        239  0.104276              1948.0               0.104209   \n",
       "258698  6976        213  0.030533              5929.0               0.030697   \n",
       "117787  1330        142  0.106767              1130.0               0.108850   \n",
       "240084   599        130  0.217028               509.0               0.227898   \n",
       "334317  4365        126  0.028866              3710.0               0.029111   \n",
       "378562   643         98  0.152411               546.0               0.163004   \n",
       "288055  1381         26  0.018827                 NaN                    NaN   \n",
       "\n",
       "        balanced_split_size  validation_split_size  \\\n",
       "review                                               \n",
       "121733               2358.0                  557.0   \n",
       "287708                422.0                  204.0   \n",
       "165805                406.0                  344.0   \n",
       "258698                364.0                 1047.0   \n",
       "117787                246.0                  200.0   \n",
       "240084                232.0                   90.0   \n",
       "334317                216.0                  655.0   \n",
       "378562                178.0                   97.0   \n",
       "288055                  NaN                    NaN   \n",
       "\n",
       "        validation_split_pos_items  validation_split_support  \\\n",
       "review                                                         \n",
       "121733                       194.0                  0.348294   \n",
       "287708                        45.0                  0.220588   \n",
       "165805                        36.0                  0.104651   \n",
       "258698                        31.0                  0.029608   \n",
       "117787                        19.0                  0.095000   \n",
       "240084                        14.0                  0.155556   \n",
       "334317                        18.0                  0.027481   \n",
       "378562                         9.0                  0.092784   \n",
       "288055                         NaN                       NaN   \n",
       "\n",
       "        balanced_train_set_frac review_label  \n",
       "review                                        \n",
       "121733                 0.636094            A  \n",
       "287708                 0.310294            B  \n",
       "165805                 0.177138            C  \n",
       "258698                 0.052179            D  \n",
       "117787                 0.184962            E  \n",
       "240084                 0.387312            I  \n",
       "334317                 0.049485            F  \n",
       "378562                 0.276827            G  \n",
       "288055                      NaN            H  "
      ]
     },
     "execution_count": 941,
     "metadata": {},
     "output_type": "execute_result"
    }
   ],
   "source": [
    "datasets.sort_values('pos_items', ascending=False)"
   ]
  },
  {
   "cell_type": "code",
   "execution_count": 955,
   "id": "37418b57-1be3-44fc-8c64-4e3af782a112",
   "metadata": {},
   "outputs": [
    {
     "name": "stdout",
     "output_type": "stream",
     "text": [
      "A Is aerosolised HOCl an effective and safe technological approach for the suppression of airborne viral loads in public spaces?\n",
      "D The social lives of point-of-care tests in low- and middle-income countries: a qualitative evidence synthesis protocol\n",
      "E Compact cities and the Covid-19 pandemic: Systematic review of the associations between transmission of Covid-19 or other respiratory viruses and population density or other features of neighbourhood design\n",
      "B What are the adaptations being implemented to address the health impacts of flooding in LMICs in the tropics and what is known about their effectiveness?\n",
      "H A systematic review of the effectiveness of heat adaptation measures for urban areas in an oceanic climate\n",
      "G Impact of the COVID-19 Pandemic and Scottish Public Sector Response on Refugees and Asylum Seekers\n",
      "F Assessing the implementation, outcomes and impact of national suicide prevention strategies: a systematic review\n",
      "C Risk of serious COVID-19 outcomes among adults and children with moderate-to-severe asthma: a systematic review and meta-analysis\n",
      "I An Evaluation of International Pandemic Recovery Strategies and Identification of Good Practice Relevant to Scotland\n"
     ]
    },
    {
     "data": {
      "text/plain": [
       "[None, None, None, None, None, None, None, None, None]"
      ]
     },
     "execution_count": 955,
     "metadata": {},
     "output_type": "execute_result"
    }
   ],
   "source": [
    "from run_common import load_reviews\n",
    "\n",
    "df = load_reviews()\n",
    "df['review_label'] = list(map(REVIEW_LABELS.get, df.index))\n",
    "[print(row.review_label, row.title) for _, row in df.iterrows()]"
   ]
  },
  {
   "cell_type": "markdown",
   "id": "de9c16a8-3450-4e76-9865-f7276da9b3bd",
   "metadata": {},
   "source": [
    "## Zero- and few-shot evaluation"
   ]
  },
  {
   "cell_type": "code",
   "execution_count": 4,
   "id": "62d5f0cc-b16e-4bfc-ab3c-f8b4d755b015",
   "metadata": {},
   "outputs": [],
   "source": [
    "api = wandb.Api()\n",
    "runs = api.runs('tberm-org/zero-shot-final')\n",
    "df = make_df_from_wandb_runs([\n",
    "    run for run in runs\n",
    "    if ('ignore' not in run.tags) and (run.config['run_config'].get('trunc_dataset', 0) == 300)\n",
    "    and '121733' in run.config['run_config']['eval_set']\n",
    "    and (\"Llama\" in run.config['model'] or \"gpt\" in run.config['model'])\n",
    "])"
   ]
  },
  {
   "cell_type": "code",
   "execution_count": 5,
   "id": "e6703601-b146-4c69-b036-37383c1f8705",
   "metadata": {},
   "outputs": [
    {
     "data": {
      "text/html": [
       "<div>\n",
       "<style scoped>\n",
       "    .dataframe tbody tr th:only-of-type {\n",
       "        vertical-align: middle;\n",
       "    }\n",
       "\n",
       "    .dataframe tbody tr th {\n",
       "        vertical-align: top;\n",
       "    }\n",
       "\n",
       "    .dataframe thead th {\n",
       "        text-align: right;\n",
       "    }\n",
       "</style>\n",
       "<table border=\"1\" class=\"dataframe\">\n",
       "  <thead>\n",
       "    <tr style=\"text-align: right;\">\n",
       "      <th></th>\n",
       "      <th>model</th>\n",
       "      <th>average_precision</th>\n",
       "      <th>auroc</th>\n",
       "      <th>f1</th>\n",
       "      <th>precision@95</th>\n",
       "    </tr>\n",
       "  </thead>\n",
       "  <tbody>\n",
       "    <tr>\n",
       "      <th>5</th>\n",
       "      <td>Meta-Llama-3-8B-instruct</td>\n",
       "      <td>0.785144</td>\n",
       "      <td>0.867035</td>\n",
       "      <td>0.716049</td>\n",
       "      <td>0.507772</td>\n",
       "    </tr>\n",
       "    <tr>\n",
       "      <th>6</th>\n",
       "      <td>gpt-4o</td>\n",
       "      <td>0.847476</td>\n",
       "      <td>0.906700</td>\n",
       "      <td>0.630872</td>\n",
       "      <td>0.333333</td>\n",
       "    </tr>\n",
       "  </tbody>\n",
       "</table>\n",
       "</div>"
      ],
      "text/plain": [
       "                      model  average_precision     auroc        f1  \\\n",
       "5  Meta-Llama-3-8B-instruct           0.785144  0.867035  0.716049   \n",
       "6                    gpt-4o           0.847476  0.906700  0.630872   \n",
       "\n",
       "   precision@95  \n",
       "5      0.507772  \n",
       "6      0.333333  "
      ]
     },
     "execution_count": 5,
     "metadata": {},
     "output_type": "execute_result"
    }
   ],
   "source": [
    "df[df['run_config/num_shots'] == 0][\n",
    "    ['model', 'average_precision', 'auroc', 'f1', 'precision@95']\n",
    "]"
   ]
  },
  {
   "cell_type": "code",
   "execution_count": 6,
   "id": "fddff0d2-8df3-4fe7-8570-4107fe28fa07",
   "metadata": {},
   "outputs": [
    {
     "data": {
      "text/html": [
       "<div>\n",
       "<style scoped>\n",
       "    .dataframe tbody tr th:only-of-type {\n",
       "        vertical-align: middle;\n",
       "    }\n",
       "\n",
       "    .dataframe tbody tr th {\n",
       "        vertical-align: top;\n",
       "    }\n",
       "\n",
       "    .dataframe thead th {\n",
       "        text-align: right;\n",
       "    }\n",
       "</style>\n",
       "<table border=\"1\" class=\"dataframe\">\n",
       "  <thead>\n",
       "    <tr style=\"text-align: right;\">\n",
       "      <th></th>\n",
       "      <th>model</th>\n",
       "      <th>average_precision</th>\n",
       "      <th>auroc</th>\n",
       "      <th>f1</th>\n",
       "      <th>precision@95</th>\n",
       "    </tr>\n",
       "  </thead>\n",
       "  <tbody>\n",
       "    <tr>\n",
       "      <th>5</th>\n",
       "      <td>Meta-Llama-3-8B-instruct</td>\n",
       "      <td>0.785144</td>\n",
       "      <td>0.867035</td>\n",
       "      <td>0.716049</td>\n",
       "      <td>0.507772</td>\n",
       "    </tr>\n",
       "    <tr>\n",
       "      <th>6</th>\n",
       "      <td>gpt-4o</td>\n",
       "      <td>0.847476</td>\n",
       "      <td>0.906700</td>\n",
       "      <td>0.630872</td>\n",
       "      <td>0.333333</td>\n",
       "    </tr>\n",
       "  </tbody>\n",
       "</table>\n",
       "</div>"
      ],
      "text/plain": [
       "                      model  average_precision     auroc        f1  \\\n",
       "5  Meta-Llama-3-8B-instruct           0.785144  0.867035  0.716049   \n",
       "6                    gpt-4o           0.847476  0.906700  0.630872   \n",
       "\n",
       "   precision@95  \n",
       "5      0.507772  \n",
       "6      0.333333  "
      ]
     },
     "execution_count": 6,
     "metadata": {},
     "output_type": "execute_result"
    }
   ],
   "source": [
    "df[df['run_config/num_shots'] == 0][\n",
    "    ['model', 'average_precision', 'auroc', 'f1', 'precision@95']\n",
    "]"
   ]
  },
  {
   "cell_type": "code",
   "execution_count": 58,
   "id": "e503b76f-6b9e-465f-ac88-b71187ea60c7",
   "metadata": {},
   "outputs": [
    {
     "data": {
      "image/png": "[encoded data removed]",
      "text/plain": [
       "<Figure size 640x480 with 1 Axes>"
      ]
     },
     "metadata": {},
     "output_type": "display_data"
    }
   ],
   "source": [
    "mistral = df[df.model.str.contains('Mistral')].sort_values('run_config/num_shots')\n",
    "llama = df[df.model.str.contains('Llama')].sort_values('run_config/num_shots')\n",
    "gpt = df[df.model.str.contains('gpt')].sort_values('run_config/num_shots')\n",
    "\n",
    "fig, ax = plt.subplots()\n",
    "#ax.plot(mistral['run_config/num_shots'], mistral.average_precision, '-x', label='Mistral 7B')\n",
    "ax.plot(llama['run_config/num_shots'], llama.average_precision, '-x', label='Llama 3 8B')\n",
    "ax.plot(gpt['run_config/num_shots'], gpt.average_precision, '-x', label='GPT-4o')\n",
    "ax.legend()\n",
    "ax.set_xlabel('Number of in-context examples')\n",
    "ax.set_ylabel('Average precision')\n",
    "\n",
    "fig.savefig(fig_dir + 'icl.pdf')"
   ]
  },
  {
   "cell_type": "markdown",
   "id": "0b4617b5-9704-4243-9a3e-b5d899211d83",
   "metadata": {},
   "source": [
    "## Single review fine-tuning"
   ]
  },
  {
   "cell_type": "code",
   "execution_count": 498,
   "id": "ec205b3f-cdc5-4cd6-be93-c74b3a97cf46",
   "metadata": {},
   "outputs": [],
   "source": [
    "api = wandb.Api()\n",
    "runs = api.runs('tberm-org/ft-new-reviews')\n",
    "runs = [run for run in runs\n",
    "        if 'baseline' not in run.tags\n",
    "        and 'average_precision' in run.summary]\n",
    "\n",
    "single_ft_df = make_df_from_wandb_runs(runs)"
   ]
  },
  {
   "cell_type": "code",
   "execution_count": 499,
   "id": "bcdc79fa-0101-40ea-87b4-2bdc0a35378e",
   "metadata": {},
   "outputs": [],
   "source": [
    "rows = [\n",
    "    {\n",
    "        'name': run.name,\n",
    "        'id': run.id,\n",
    "        'train_set': run.config['train_config']['train_set'],\n",
    "        'eval_set': run.config['run_config']['eval_set'],\n",
    "        'balanced_train_set': 'balanced' in run.config['train_config']['train_set'],\n",
    "        'review': get_review_from_eval_set(run.config['run_config']['eval_set']),\n",
    "        'f1': run.summary['f1'],\n",
    "        'average_precision': run.summary['average_precision'],\n",
    "        'acc': run.summary['acc'],\n",
    "        'precision': run.summary['precision'],\n",
    "        'recall': run.summary['recall'],\n",
    "        'contrastive_criteria': '-cc' in run.name,\n",
    "    }\n",
    "    for run in runs\n",
    "]\n",
    "\n",
    "df = pd.DataFrame(rows)\n",
    "df = df[~df.contrastive_criteria]\n"
   ]
  },
  {
   "cell_type": "code",
   "execution_count": 501,
   "id": "dffb8163-a0cf-4b68-8cc8-96c81b3501ff",
   "metadata": {},
   "outputs": [
    {
     "data": {
      "text/html": [
       "<div>\n",
       "<style scoped>\n",
       "    .dataframe tbody tr th:only-of-type {\n",
       "        vertical-align: middle;\n",
       "    }\n",
       "\n",
       "    .dataframe tbody tr th {\n",
       "        vertical-align: top;\n",
       "    }\n",
       "\n",
       "    .dataframe thead tr th {\n",
       "        text-align: left;\n",
       "    }\n",
       "\n",
       "    .dataframe thead tr:last-of-type th {\n",
       "        text-align: right;\n",
       "    }\n",
       "</style>\n",
       "<table border=\"1\" class=\"dataframe\">\n",
       "  <thead>\n",
       "    <tr>\n",
       "      <th></th>\n",
       "      <th></th>\n",
       "      <th colspan=\"2\" halign=\"left\">name</th>\n",
       "      <th colspan=\"2\" halign=\"left\">average_precision</th>\n",
       "    </tr>\n",
       "    <tr>\n",
       "      <th></th>\n",
       "      <th></th>\n",
       "      <th>first</th>\n",
       "      <th>count</th>\n",
       "      <th>min</th>\n",
       "      <th>max</th>\n",
       "    </tr>\n",
       "    <tr>\n",
       "      <th>review</th>\n",
       "      <th>balanced_train_set</th>\n",
       "      <th></th>\n",
       "      <th></th>\n",
       "      <th></th>\n",
       "      <th></th>\n",
       "    </tr>\n",
       "  </thead>\n",
       "  <tbody>\n",
       "    <tr>\n",
       "      <th rowspan=\"2\" valign=\"top\">117787</th>\n",
       "      <th>False</th>\n",
       "      <td>amapola</td>\n",
       "      <td>3</td>\n",
       "      <td>0.698029</td>\n",
       "      <td>0.764779</td>\n",
       "    </tr>\n",
       "    <tr>\n",
       "      <th>True</th>\n",
       "      <td>bluebell</td>\n",
       "      <td>7</td>\n",
       "      <td>0.632671</td>\n",
       "      <td>0.642758</td>\n",
       "    </tr>\n",
       "    <tr>\n",
       "      <th rowspan=\"2\" valign=\"top\">121733</th>\n",
       "      <th>False</th>\n",
       "      <td>clematis</td>\n",
       "      <td>1</td>\n",
       "      <td>0.910289</td>\n",
       "      <td>0.910289</td>\n",
       "    </tr>\n",
       "    <tr>\n",
       "      <th>True</th>\n",
       "      <td>daffodil</td>\n",
       "      <td>5</td>\n",
       "      <td>0.919678</td>\n",
       "      <td>0.924798</td>\n",
       "    </tr>\n",
       "    <tr>\n",
       "      <th rowspan=\"2\" valign=\"top\">165805</th>\n",
       "      <th>False</th>\n",
       "      <td>narcissus</td>\n",
       "      <td>2</td>\n",
       "      <td>0.732554</td>\n",
       "      <td>0.751899</td>\n",
       "    </tr>\n",
       "    <tr>\n",
       "      <th>True</th>\n",
       "      <td>poppy</td>\n",
       "      <td>5</td>\n",
       "      <td>0.713160</td>\n",
       "      <td>0.753641</td>\n",
       "    </tr>\n",
       "    <tr>\n",
       "      <th rowspan=\"2\" valign=\"top\">258698</th>\n",
       "      <th>False</th>\n",
       "      <td>geranium</td>\n",
       "      <td>4</td>\n",
       "      <td>0.789543</td>\n",
       "      <td>0.834458</td>\n",
       "    </tr>\n",
       "    <tr>\n",
       "      <th>True</th>\n",
       "      <td>hyacinth</td>\n",
       "      <td>7</td>\n",
       "      <td>0.790115</td>\n",
       "      <td>0.829423</td>\n",
       "    </tr>\n",
       "    <tr>\n",
       "      <th rowspan=\"2\" valign=\"top\">287708</th>\n",
       "      <th>False</th>\n",
       "      <td>foxglove</td>\n",
       "      <td>1</td>\n",
       "      <td>0.790115</td>\n",
       "      <td>0.790115</td>\n",
       "    </tr>\n",
       "    <tr>\n",
       "      <th>True</th>\n",
       "      <td>edelweiss</td>\n",
       "      <td>7</td>\n",
       "      <td>0.740821</td>\n",
       "      <td>0.921173</td>\n",
       "    </tr>\n",
       "    <tr>\n",
       "      <th rowspan=\"2\" valign=\"top\">334317</th>\n",
       "      <th>False</th>\n",
       "      <td>magnolia</td>\n",
       "      <td>2</td>\n",
       "      <td>0.435898</td>\n",
       "      <td>0.436585</td>\n",
       "    </tr>\n",
       "    <tr>\n",
       "      <th>True</th>\n",
       "      <td>lily</td>\n",
       "      <td>6</td>\n",
       "      <td>0.359680</td>\n",
       "      <td>0.458599</td>\n",
       "    </tr>\n",
       "    <tr>\n",
       "      <th rowspan=\"2\" valign=\"top\">378562</th>\n",
       "      <th>False</th>\n",
       "      <td>jasmine</td>\n",
       "      <td>2</td>\n",
       "      <td>0.731776</td>\n",
       "      <td>0.857275</td>\n",
       "    </tr>\n",
       "    <tr>\n",
       "      <th>True</th>\n",
       "      <td>iris</td>\n",
       "      <td>6</td>\n",
       "      <td>0.768612</td>\n",
       "      <td>0.840123</td>\n",
       "    </tr>\n",
       "  </tbody>\n",
       "</table>\n",
       "</div>"
      ],
      "text/plain": [
       "                                name       average_precision          \n",
       "                               first count               min       max\n",
       "review balanced_train_set                                             \n",
       "117787 False                 amapola     3          0.698029  0.764779\n",
       "       True                 bluebell     7          0.632671  0.642758\n",
       "121733 False                clematis     1          0.910289  0.910289\n",
       "       True                 daffodil     5          0.919678  0.924798\n",
       "165805 False               narcissus     2          0.732554  0.751899\n",
       "       True                    poppy     5          0.713160  0.753641\n",
       "258698 False                geranium     4          0.789543  0.834458\n",
       "       True                 hyacinth     7          0.790115  0.829423\n",
       "287708 False                foxglove     1          0.790115  0.790115\n",
       "       True                edelweiss     7          0.740821  0.921173\n",
       "334317 False                magnolia     2          0.435898  0.436585\n",
       "       True                     lily     6          0.359680  0.458599\n",
       "378562 False                 jasmine     2          0.731776  0.857275\n",
       "       True                     iris     6          0.768612  0.840123"
      ]
     },
     "execution_count": 501,
     "metadata": {},
     "output_type": "execute_result"
    }
   ],
   "source": [
    "df.groupby(['review', 'balanced_train_set']).agg(\n",
    "    {'name': ['first', 'count'], 'average_precision': ['min', 'max']}\n",
    ")"
   ]
  },
  {
   "cell_type": "markdown",
   "id": "e41138f4-4b58-4611-8562-d3edc9c1096f",
   "metadata": {},
   "source": [
    "## Multi-review fine-tuning"
   ]
  },
  {
   "cell_type": "code",
   "execution_count": 502,
   "id": "ff34c205-a1ee-4014-96b3-dfb5b56a92fa",
   "metadata": {},
   "outputs": [],
   "source": [
    "# Models fine-tuned on all reviews apart from the evaluation review\n",
    "\n",
    "api = wandb.Api()\n",
    "runs = [run for run in api.runs('tberm-org/multi-review-ft')\n",
    "        if 'average_precision' in run.summary\n",
    "        and 'three-review' not in run.tags]\n",
    "multi_ft_df = make_df_from_wandb_runs(runs)"
   ]
  },
  {
   "cell_type": "code",
   "execution_count": 503,
   "id": "bcc7038c-213a-4c8c-b638-979e62e1ae75",
   "metadata": {},
   "outputs": [],
   "source": [
    "# Models fine-tuned on best three reviews (not including the evaluation review)\n",
    "\n",
    "api = wandb.Api()\n",
    "runs = [run for run in api.runs('tberm-org/multi-review-eval')]\n",
    "three_rev_df = make_df_from_wandb_runs(runs)"
   ]
  },
  {
   "cell_type": "code",
   "execution_count": 504,
   "id": "193272c4-6fdf-41e5-a093-cb5c511d00ca",
   "metadata": {},
   "outputs": [],
   "source": [
    "# Base model evaluations\n",
    "\n",
    "api = wandb.Api()\n",
    "runs = [run for run in api.runs('tberm-org/zero-shot-baselines')]\n",
    "baseline_df = make_df_from_wandb_runs(runs)"
   ]
  },
  {
   "cell_type": "code",
   "execution_count": 505,
   "id": "955d7a34-9fb6-4c60-bbaf-86ede0fc7c1b",
   "metadata": {},
   "outputs": [],
   "source": [
    "multi_ft_df['eval_review'] = multi_ft_df['run_config/eval_set'].apply(get_review_from_eval_set)"
   ]
  },
  {
   "cell_type": "code",
   "execution_count": 506,
   "id": "572f01d9-1aaf-47f5-a92e-ef1e466eb4f5",
   "metadata": {},
   "outputs": [],
   "source": [
    "three_rev_df['eval_review'] = three_rev_df['run_config/eval_set'].apply(get_review_from_eval_set)"
   ]
  },
  {
   "cell_type": "code",
   "execution_count": 510,
   "id": "f6f586d5-3723-48f4-ac5e-1707a923ce56",
   "metadata": {},
   "outputs": [
    {
     "name": "stderr",
     "output_type": "stream",
     "text": [
      "/tmp/ipykernel_64868/4116973481.py:2: SettingWithCopyWarning: \n",
      "A value is trying to be set on a copy of a slice from a DataFrame.\n",
      "Try using .loc[row_indexer,col_indexer] = value instead\n",
      "\n",
      "See the caveats in the documentation: https://pandas.pydata.org/pandas-docs/stable/user_guide/indexing.html#returning-a-view-versus-a-copy\n",
      "  single_ft_bal['eval_review'] = single_ft_df['run_config/eval_set'].apply(get_review_from_eval_set)\n"
     ]
    }
   ],
   "source": [
    "# Models trained on the evaluation review\n",
    "\n",
    "single_ft_bal = single_ft_df[single_ft_df['train_config/train_set'].str.contains('balanced')]\n",
    "single_ft_bal['eval_review'] = single_ft_df['run_config/eval_set'].apply(get_review_from_eval_set)"
   ]
  },
  {
   "cell_type": "code",
   "execution_count": null,
   "id": "3c05ffde-3a00-41d1-aa06-c913326c8742",
   "metadata": {},
   "outputs": [],
   "source": [
    "three_rev_df[three_rev_df.eval_review == 121733][['name', 'run_config/load_wandb_model', 'average_precision', 'auroc']]"
   ]
  },
  {
   "cell_type": "code",
   "execution_count": 512,
   "id": "1e6fc857-db5c-44f5-a3e1-33e6b3d84e85",
   "metadata": {},
   "outputs": [],
   "source": [
    "baseline_df['eval_review'] = baseline_df['run_config/eval_set'].apply(get_review_from_eval_set)"
   ]
  },
  {
   "cell_type": "code",
   "execution_count": 513,
   "id": "48a40381-818d-40f5-a967-49a3e9e4627b",
   "metadata": {},
   "outputs": [
    {
     "ename": "AttributeError",
     "evalue": "'DataFrame' object has no attribute 'eval_review'",
     "output_type": "error",
     "traceback": [
      "\u001b[0;31m---------------------------------------------------------------------------\u001b[0m",
      "\u001b[0;31mAttributeError\u001b[0m                            Traceback (most recent call last)",
      "\u001b[0;32m/tmp/ipykernel_64868/3261718816.py\u001b[0m in \u001b[0;36m?\u001b[0;34m()\u001b[0m\n\u001b[1;32m      1\u001b[0m \u001b[0mrows\u001b[0m \u001b[0;34m=\u001b[0m \u001b[0;34m[\u001b[0m\u001b[0;34m]\u001b[0m\u001b[0;34m\u001b[0m\u001b[0;34m\u001b[0m\u001b[0m\n\u001b[1;32m      2\u001b[0m \u001b[0;32mfor\u001b[0m \u001b[0mreview\u001b[0m \u001b[0;32min\u001b[0m \u001b[0;34m[\u001b[0m\u001b[0;36m121733\u001b[0m\u001b[0;34m,\u001b[0m \u001b[0;36m117787\u001b[0m\u001b[0;34m,\u001b[0m \u001b[0;36m165805\u001b[0m\u001b[0;34m,\u001b[0m \u001b[0;36m258698\u001b[0m\u001b[0;34m,\u001b[0m \u001b[0;36m287708\u001b[0m\u001b[0;34m,\u001b[0m \u001b[0;36m334317\u001b[0m\u001b[0;34m,\u001b[0m \u001b[0;36m378562\u001b[0m\u001b[0;34m]\u001b[0m\u001b[0;34m:\u001b[0m\u001b[0;34m\u001b[0m\u001b[0;34m\u001b[0m\u001b[0m\n\u001b[1;32m      3\u001b[0m     \u001b[0mrow\u001b[0m \u001b[0;34m=\u001b[0m \u001b[0;34m{\u001b[0m\u001b[0;34m'review'\u001b[0m\u001b[0;34m:\u001b[0m \u001b[0mreview\u001b[0m\u001b[0;34m}\u001b[0m\u001b[0;34m\u001b[0m\u001b[0;34m\u001b[0m\u001b[0m\n\u001b[1;32m      4\u001b[0m \u001b[0;34m\u001b[0m\u001b[0m\n\u001b[0;32m----> 5\u001b[0;31m     \u001b[0msingle_ft_nat_runs\u001b[0m \u001b[0;34m=\u001b[0m \u001b[0msingle_ft_df\u001b[0m\u001b[0;34m[\u001b[0m\u001b[0msingle_ft_df\u001b[0m\u001b[0;34m.\u001b[0m\u001b[0meval_review\u001b[0m \u001b[0;34m==\u001b[0m \u001b[0mreview\u001b[0m\u001b[0;34m]\u001b[0m\u001b[0;34m\u001b[0m\u001b[0;34m\u001b[0m\u001b[0m\n\u001b[0m\u001b[1;32m      6\u001b[0m     \u001b[0mrow\u001b[0m\u001b[0;34m[\u001b[0m\u001b[0;34m'single_ft_nat'\u001b[0m\u001b[0;34m]\u001b[0m \u001b[0;34m=\u001b[0m \u001b[0msingle_ft_nat_runs\u001b[0m\u001b[0;34m[\u001b[0m\u001b[0;34m'average_precision'\u001b[0m\u001b[0;34m]\u001b[0m\u001b[0;34m.\u001b[0m\u001b[0mmean\u001b[0m\u001b[0;34m(\u001b[0m\u001b[0;34m)\u001b[0m\u001b[0;34m\u001b[0m\u001b[0;34m\u001b[0m\u001b[0m\n\u001b[1;32m      7\u001b[0m \u001b[0;34m\u001b[0m\u001b[0m\n\u001b[1;32m      8\u001b[0m     \u001b[0msingle_ft_bal_runs\u001b[0m \u001b[0;34m=\u001b[0m \u001b[0msingle_ft_bal\u001b[0m\u001b[0;34m[\u001b[0m\u001b[0msingle_ft_bal\u001b[0m\u001b[0;34m.\u001b[0m\u001b[0meval_review\u001b[0m \u001b[0;34m==\u001b[0m \u001b[0mreview\u001b[0m\u001b[0;34m]\u001b[0m\u001b[0;34m\u001b[0m\u001b[0;34m\u001b[0m\u001b[0m\n",
      "\u001b[0;32m~/anaconda3/envs/diss/lib/python3.12/site-packages/pandas/core/generic.py\u001b[0m in \u001b[0;36m?\u001b[0;34m(self, name)\u001b[0m\n\u001b[1;32m   6295\u001b[0m             \u001b[0;32mand\u001b[0m \u001b[0mname\u001b[0m \u001b[0;32mnot\u001b[0m \u001b[0;32min\u001b[0m \u001b[0mself\u001b[0m\u001b[0;34m.\u001b[0m\u001b[0m_accessors\u001b[0m\u001b[0;34m\u001b[0m\u001b[0;34m\u001b[0m\u001b[0m\n\u001b[1;32m   6296\u001b[0m             \u001b[0;32mand\u001b[0m \u001b[0mself\u001b[0m\u001b[0;34m.\u001b[0m\u001b[0m_info_axis\u001b[0m\u001b[0;34m.\u001b[0m\u001b[0m_can_hold_identifiers_and_holds_name\u001b[0m\u001b[0;34m(\u001b[0m\u001b[0mname\u001b[0m\u001b[0;34m)\u001b[0m\u001b[0;34m\u001b[0m\u001b[0;34m\u001b[0m\u001b[0m\n\u001b[1;32m   6297\u001b[0m         \u001b[0;34m)\u001b[0m\u001b[0;34m:\u001b[0m\u001b[0;34m\u001b[0m\u001b[0;34m\u001b[0m\u001b[0m\n\u001b[1;32m   6298\u001b[0m             \u001b[0;32mreturn\u001b[0m \u001b[0mself\u001b[0m\u001b[0;34m[\u001b[0m\u001b[0mname\u001b[0m\u001b[0;34m]\u001b[0m\u001b[0;34m\u001b[0m\u001b[0;34m\u001b[0m\u001b[0m\n\u001b[0;32m-> 6299\u001b[0;31m         \u001b[0;32mreturn\u001b[0m \u001b[0mobject\u001b[0m\u001b[0;34m.\u001b[0m\u001b[0m__getattribute__\u001b[0m\u001b[0;34m(\u001b[0m\u001b[0mself\u001b[0m\u001b[0;34m,\u001b[0m \u001b[0mname\u001b[0m\u001b[0;34m)\u001b[0m\u001b[0;34m\u001b[0m\u001b[0;34m\u001b[0m\u001b[0m\n\u001b[0m",
      "\u001b[0;31mAttributeError\u001b[0m: 'DataFrame' object has no attribute 'eval_review'"
     ]
    }
   ],
   "source": [
    "rows = []\n",
    "for review in [121733, 117787, 165805, 258698, 287708, 334317, 378562]:\n",
    "    row = {'review': review}\n",
    "\n",
    "    single_ft_nat_runs = single_ft_df[single_ft_df.eval_review == review]\n",
    "    row['single_ft_nat'] = single_ft_nat_runs['average_precision'].mean()\n",
    "\n",
    "    single_ft_bal_runs = single_ft_bal[single_ft_bal.eval_review == review]\n",
    "    row['single_ft_bal'] = single_ft_bal_runs['average_precision'].mean()\n",
    "    \n",
    "    multi_ft_runs = multi_ft_df[multi_ft_df.eval_review == review]\n",
    "    row['multi_ft_df'] = multi_ft_runs['average_precision'].mean()\n",
    "    \n",
    "    three_rev_runs = three_rev_df[three_rev_df.eval_review == review]\n",
    "    row['three_rev_ft'] = three_rev_runs['average_precision'].mean()\n",
    "\n",
    "    baseline_runs = baseline_df[baseline_df.eval_review == review]\n",
    "    row['baseline'] = baseline_runs['average_precision'].mean() \n",
    "    \n",
    "    rows.append(row)\n",
    "\n",
    "df = pd.DataFrame(rows).set_index('review')"
   ]
  },
  {
   "cell_type": "code",
   "execution_count": 170,
   "id": "e8196724-51db-4fa2-aaaa-2c4dd7f983f2",
   "metadata": {},
   "outputs": [
    {
     "data": {
      "text/html": [
       "<div>\n",
       "<style scoped>\n",
       "    .dataframe tbody tr th:only-of-type {\n",
       "        vertical-align: middle;\n",
       "    }\n",
       "\n",
       "    .dataframe tbody tr th {\n",
       "        vertical-align: top;\n",
       "    }\n",
       "\n",
       "    .dataframe thead th {\n",
       "        text-align: right;\n",
       "    }\n",
       "</style>\n",
       "<table border=\"1\" class=\"dataframe\">\n",
       "  <thead>\n",
       "    <tr style=\"text-align: right;\">\n",
       "      <th></th>\n",
       "      <th>single_ft_nat</th>\n",
       "      <th>single_ft_bal</th>\n",
       "      <th>multi_ft_df</th>\n",
       "      <th>three_rev_ft</th>\n",
       "      <th>baseline</th>\n",
       "    </tr>\n",
       "    <tr>\n",
       "      <th>review</th>\n",
       "      <th></th>\n",
       "      <th></th>\n",
       "      <th></th>\n",
       "      <th></th>\n",
       "      <th></th>\n",
       "    </tr>\n",
       "  </thead>\n",
       "  <tbody>\n",
       "    <tr>\n",
       "      <th>121733</th>\n",
       "      <td>0.917047</td>\n",
       "      <td>0.920425</td>\n",
       "      <td>0.791489</td>\n",
       "      <td>0.809892</td>\n",
       "      <td>0.796391</td>\n",
       "    </tr>\n",
       "    <tr>\n",
       "      <th>117787</th>\n",
       "      <td>0.686541</td>\n",
       "      <td>0.640327</td>\n",
       "      <td>0.651263</td>\n",
       "      <td>0.612291</td>\n",
       "      <td>0.554962</td>\n",
       "    </tr>\n",
       "    <tr>\n",
       "      <th>165805</th>\n",
       "      <td>0.733917</td>\n",
       "      <td>0.725608</td>\n",
       "      <td>0.612415</td>\n",
       "      <td>0.588912</td>\n",
       "      <td>0.569701</td>\n",
       "    </tr>\n",
       "    <tr>\n",
       "      <th>258698</th>\n",
       "      <td>0.813740</td>\n",
       "      <td>0.810350</td>\n",
       "      <td>0.711532</td>\n",
       "      <td>0.727879</td>\n",
       "      <td>0.576951</td>\n",
       "    </tr>\n",
       "    <tr>\n",
       "      <th>287708</th>\n",
       "      <td>0.835980</td>\n",
       "      <td>0.858912</td>\n",
       "      <td>0.743138</td>\n",
       "      <td>0.714898</td>\n",
       "      <td>0.632755</td>\n",
       "    </tr>\n",
       "    <tr>\n",
       "      <th>334317</th>\n",
       "      <td>0.426085</td>\n",
       "      <td>0.419314</td>\n",
       "      <td>0.329902</td>\n",
       "      <td>0.347066</td>\n",
       "      <td>0.219931</td>\n",
       "    </tr>\n",
       "    <tr>\n",
       "      <th>378562</th>\n",
       "      <td>0.804520</td>\n",
       "      <td>0.778143</td>\n",
       "      <td>0.546674</td>\n",
       "      <td>0.586046</td>\n",
       "      <td>0.533808</td>\n",
       "    </tr>\n",
       "  </tbody>\n",
       "</table>\n",
       "</div>"
      ],
      "text/plain": [
       "        single_ft_nat  single_ft_bal  multi_ft_df  three_rev_ft  baseline\n",
       "review                                                                   \n",
       "121733       0.917047       0.920425     0.791489      0.809892  0.796391\n",
       "117787       0.686541       0.640327     0.651263      0.612291  0.554962\n",
       "165805       0.733917       0.725608     0.612415      0.588912  0.569701\n",
       "258698       0.813740       0.810350     0.711532      0.727879  0.576951\n",
       "287708       0.835980       0.858912     0.743138      0.714898  0.632755\n",
       "334317       0.426085       0.419314     0.329902      0.347066  0.219931\n",
       "378562       0.804520       0.778143     0.546674      0.586046  0.533808"
      ]
     },
     "execution_count": 170,
     "metadata": {},
     "output_type": "execute_result"
    }
   ],
   "source": [
    "df"
   ]
  },
  {
   "cell_type": "code",
   "execution_count": 186,
   "id": "d7bbd5f9-68fa-40c6-a49f-a3e42f295db9",
   "metadata": {},
   "outputs": [
    {
     "data": {
      "text/plain": [
       "<Axes: xlabel='review'>"
      ]
     },
     "execution_count": 186,
     "metadata": {},
     "output_type": "execute_result"
    },
    {
     "data": {
      "image/png": "[encoded data removed]",
      "text/plain": [
       "<Figure size 640x480 with 1 Axes>"
      ]
     },
     "metadata": {},
     "output_type": "display_data"
    }
   ],
   "source": [
    "df.plot.bar()"
   ]
  },
  {
   "cell_type": "code",
   "execution_count": 189,
   "id": "740cc29b-2f9d-4b82-a051-54ba619268c1",
   "metadata": {},
   "outputs": [
    {
     "data": {
      "text/html": [
       "<div>\n",
       "<style scoped>\n",
       "    .dataframe tbody tr th:only-of-type {\n",
       "        vertical-align: middle;\n",
       "    }\n",
       "\n",
       "    .dataframe tbody tr th {\n",
       "        vertical-align: top;\n",
       "    }\n",
       "\n",
       "    .dataframe thead th {\n",
       "        text-align: right;\n",
       "    }\n",
       "</style>\n",
       "<table border=\"1\" class=\"dataframe\">\n",
       "  <thead>\n",
       "    <tr style=\"text-align: right;\">\n",
       "      <th></th>\n",
       "      <th>size</th>\n",
       "      <th>pos_items</th>\n",
       "      <th>natural_split_size</th>\n",
       "      <th>natural_split_support</th>\n",
       "      <th>balanced_split_size</th>\n",
       "      <th>validation_split_size</th>\n",
       "      <th>validation_split_support</th>\n",
       "    </tr>\n",
       "    <tr>\n",
       "      <th>review</th>\n",
       "      <th></th>\n",
       "      <th></th>\n",
       "      <th></th>\n",
       "      <th></th>\n",
       "      <th></th>\n",
       "      <th></th>\n",
       "      <th></th>\n",
       "    </tr>\n",
       "  </thead>\n",
       "  <tbody>\n",
       "    <tr>\n",
       "      <th>121733</th>\n",
       "      <td>3707</td>\n",
       "      <td>1373</td>\n",
       "      <td>3150.0</td>\n",
       "      <td>0.374286</td>\n",
       "      <td>2358.0</td>\n",
       "      <td>557.0</td>\n",
       "      <td>0.348294</td>\n",
       "    </tr>\n",
       "    <tr>\n",
       "      <th>287708</th>\n",
       "      <td>1360</td>\n",
       "      <td>256</td>\n",
       "      <td>1156.0</td>\n",
       "      <td>0.182526</td>\n",
       "      <td>422.0</td>\n",
       "      <td>204.0</td>\n",
       "      <td>0.220588</td>\n",
       "    </tr>\n",
       "    <tr>\n",
       "      <th>165805</th>\n",
       "      <td>2292</td>\n",
       "      <td>239</td>\n",
       "      <td>1948.0</td>\n",
       "      <td>0.104209</td>\n",
       "      <td>406.0</td>\n",
       "      <td>344.0</td>\n",
       "      <td>0.104651</td>\n",
       "    </tr>\n",
       "    <tr>\n",
       "      <th>258698</th>\n",
       "      <td>6976</td>\n",
       "      <td>213</td>\n",
       "      <td>5929.0</td>\n",
       "      <td>0.030697</td>\n",
       "      <td>364.0</td>\n",
       "      <td>1047.0</td>\n",
       "      <td>0.029608</td>\n",
       "    </tr>\n",
       "    <tr>\n",
       "      <th>117787</th>\n",
       "      <td>1330</td>\n",
       "      <td>142</td>\n",
       "      <td>1130.0</td>\n",
       "      <td>0.108850</td>\n",
       "      <td>246.0</td>\n",
       "      <td>200.0</td>\n",
       "      <td>0.095000</td>\n",
       "    </tr>\n",
       "    <tr>\n",
       "      <th>334317</th>\n",
       "      <td>4365</td>\n",
       "      <td>126</td>\n",
       "      <td>3710.0</td>\n",
       "      <td>0.029111</td>\n",
       "      <td>216.0</td>\n",
       "      <td>655.0</td>\n",
       "      <td>0.027481</td>\n",
       "    </tr>\n",
       "    <tr>\n",
       "      <th>378562</th>\n",
       "      <td>643</td>\n",
       "      <td>98</td>\n",
       "      <td>546.0</td>\n",
       "      <td>0.163004</td>\n",
       "      <td>178.0</td>\n",
       "      <td>97.0</td>\n",
       "      <td>0.092784</td>\n",
       "    </tr>\n",
       "    <tr>\n",
       "      <th>288055</th>\n",
       "      <td>1381</td>\n",
       "      <td>26</td>\n",
       "      <td>NaN</td>\n",
       "      <td>NaN</td>\n",
       "      <td>NaN</td>\n",
       "      <td>NaN</td>\n",
       "      <td>NaN</td>\n",
       "    </tr>\n",
       "  </tbody>\n",
       "</table>\n",
       "</div>"
      ],
      "text/plain": [
       "        size  pos_items  natural_split_size  natural_split_support  \\\n",
       "review                                                               \n",
       "121733  3707       1373              3150.0               0.374286   \n",
       "287708  1360        256              1156.0               0.182526   \n",
       "165805  2292        239              1948.0               0.104209   \n",
       "258698  6976        213              5929.0               0.030697   \n",
       "117787  1330        142              1130.0               0.108850   \n",
       "334317  4365        126              3710.0               0.029111   \n",
       "378562   643         98               546.0               0.163004   \n",
       "288055  1381         26                 NaN                    NaN   \n",
       "\n",
       "        balanced_split_size  validation_split_size  validation_split_support  \n",
       "review                                                                        \n",
       "121733               2358.0                  557.0                  0.348294  \n",
       "287708                422.0                  204.0                  0.220588  \n",
       "165805                406.0                  344.0                  0.104651  \n",
       "258698                364.0                 1047.0                  0.029608  \n",
       "117787                246.0                  200.0                  0.095000  \n",
       "334317                216.0                  655.0                  0.027481  \n",
       "378562                178.0                   97.0                  0.092784  \n",
       "288055                  NaN                    NaN                       NaN  "
      ]
     },
     "execution_count": 189,
     "metadata": {},
     "output_type": "execute_result"
    }
   ],
   "source": [
    "datasets.sort_values('pos_items', ascending=False)"
   ]
  },
  {
   "cell_type": "markdown",
   "id": "62a53e30-86f2-4e0a-b71b-41f7e783714e",
   "metadata": {},
   "source": [
    "### Multi-task vs adapter merging\n",
    "\n",
    "* There are runs correponding to several different strategies for selecting expert LoRA models, as well as a multi-task learning LoRA model\n",
    "* For each strategy and held out evaluation review, we have three repeated runs corresponding to different seeds\n",
    "* Compile average performance scores across seeds for all the strategies into final results csv. "
   ]
  },
  {
   "cell_type": "code",
   "execution_count": 814,
   "id": "798e1277-298f-4160-ae43-71bae40f6c9a",
   "metadata": {},
   "outputs": [],
   "source": [
    "# Multi-task learning runs\n",
    "\n",
    "import wandb\n",
    "from nb_funcs import make_df_from_wandb_runs, get_review_from_eval_set\n",
    "\n",
    "def is_good_mt_run(run):\n",
    "    if 'too-short' in run.tags:\n",
    "        return False\n",
    "    if run.config['run_config']['trunc_dataset'] is not None:\n",
    "        return False\n",
    "    eval_set = run.config['run_config']['eval_set'].split('/')[-1]\n",
    "    if eval_set not in ('full.csv', 'trunc_full.txt', 'nat_few_shot_complement.txt'):\n",
    "        return False\n",
    "    return run.state == 'finished'\n",
    "\n",
    "api = wandb.Api()\n",
    "mt_runs = api.runs('tberm-org/multi-review-ft')\n",
    "mt_runs = [\n",
    "    run for run in mt_runs if\n",
    "    is_good_mt_run(run)\n",
    "]\n",
    "config_cols = ['run_config/eval_set', 'run_config/trunc_dataset']\n",
    "summary_cols = ['average_precision', 'auroc', 'split_b_auroc', 'split_b_auroc']\n",
    "mt_df = make_df_from_wandb_runs(mt_runs, config_cols, summary_cols)\n",
    "mt_df['eval_review'] = mt_df['run_config/eval_set'].apply(get_review_from_eval_set)\n",
    "mt_agg = mt_df.groupby('eval_review').agg({\n",
    "    'auroc': ['mean', 'std'],\n",
    "    'split_b_auroc': ['mean', 'std'],\n",
    "    'run_config/eval_set': 'count',\n",
    "})"
   ]
  },
  {
   "cell_type": "code",
   "execution_count": 815,
   "id": "419978d6-99af-45b9-8792-7737bb36cae6",
   "metadata": {},
   "outputs": [],
   "source": [
    "# Adapter-merging runs (top 3 experts, all positive experts, all experts) \n",
    "\n",
    "api = wandb.Api()\n",
    "soup_runs = api.runs('tberm-org/adapter-soup')\n",
    "\n",
    "soup_runs = [\n",
    "    run for run in soup_runs if is_good_mt_run(run)\n",
    "]\n",
    "config_cols = ['run_config/eval_set', 'run_config/trunc_dataset', 'run_config/adapter_weights_sum', 'run_config/adapters_seed']\n",
    "summary_cols = ['auroc', 'auroc']\n",
    "soup_df = make_df_from_wandb_runs(soup_runs, config_cols, summary_cols)\n",
    "soup_df['eval_review'] = soup_df['run_config/eval_set'].apply(get_review_from_eval_set)\n",
    "soup_top_3_df = soup_df[soup_df.name.str.contains('top')]\n",
    "top_3_agg = soup_top_3_df.groupby('eval_review').agg({'auroc': ['mean', 'std'], 'run_config/eval_set': 'count'})\n",
    "soup_pos_df = soup_df[soup_df.name.str.contains('pos')]\n",
    "pos_agg = soup_pos_df.groupby('eval_review').agg({'auroc': ['mean', 'std'], 'run_config/eval_set': 'count'})\n",
    "soup_all_df = soup_df[soup_df.name.str.contains('all')]\n",
    "all_agg = soup_all_df.groupby('eval_review').agg({'auroc': ['mean', 'std'], 'run_config/eval_set': 'count'})\n",
    "soup_paper_sims_df = soup_df[soup_df.name.str.contains('paper-sims')]\n",
    "paper_sims_agg = soup_paper_sims_df.groupby('eval_review').agg({'auroc': ['mean', 'std'], 'run_config/eval_set': 'count'})"
   ]
  },
  {
   "cell_type": "code",
   "execution_count": 816,
   "id": "48acd73e-93ac-4f13-b98f-115a804688b7",
   "metadata": {},
   "outputs": [],
   "source": [
    "# \"fair\" selection of top 3 adapters: adapters ranked based on performance on held out split of datasets\n",
    "\n",
    "api = wandb.Api()\n",
    "soup_runs = api.runs('tberm-org/adapter-soup-fair')\n",
    "\n",
    "soup_runs = [\n",
    "    run for run in soup_runs if is_good_mt_run(run)\n",
    "]\n",
    "config_cols = ['run_config/eval_set', 'run_config/trunc_dataset']\n",
    "summary_cols = ['split_b_average_precision', 'split_b_auroc']\n",
    "soup_df = make_df_from_wandb_runs(soup_runs, config_cols, summary_cols)\n",
    "soup_df['eval_review'] = soup_df['run_config/eval_set'].apply(get_review_from_eval_set)\n",
    "soup_top_3_fair_df = soup_df[soup_df.name.str.contains('top')]\n",
    "top_3_fair_agg = soup_top_3_fair_df.groupby('eval_review').agg({'split_b_auroc': ['mean', 'std'], 'run_config/eval_set': 'count'})"
   ]
  },
  {
   "cell_type": "code",
   "execution_count": 817,
   "id": "c56d2e4b-3531-4ad5-8b2c-349330290e0d",
   "metadata": {},
   "outputs": [],
   "source": [
    "# \"informed\" selection of top 3 adapters: adapters ranked based on performance of differently-seeded adapters on same reviews\n",
    "\n",
    "api = wandb.Api()\n",
    "soup_runs = api.runs('tberm-org/adapter-soup-informed')\n",
    "\n",
    "soup_runs = [\n",
    "    run for run in soup_runs if is_good_mt_run(run)\n",
    "]\n",
    "config_cols = ['run_config/eval_set', 'run_config/trunc_dataset']\n",
    "summary_cols = ['average_precision', 'auroc']\n",
    "soup_df = make_df_from_wandb_runs(soup_runs, config_cols, summary_cols)\n",
    "soup_df['eval_review'] = soup_df['run_config/eval_set'].apply(get_review_from_eval_set)\n",
    "soup_top_3_inf_df = soup_df[soup_df.name.str.contains('top')]\n",
    "top_3_inf_agg = soup_top_3_inf_df.groupby('eval_review').agg({'auroc': ['mean', 'std'], 'run_config/eval_set': 'count'})"
   ]
  },
  {
   "cell_type": "code",
   "execution_count": 818,
   "id": "373bd79e-a9cc-4a7b-8ddc-0b9e43836dd3",
   "metadata": {},
   "outputs": [],
   "source": [
    "# \"informed\" selection of bottom 3 adapters\n",
    "\n",
    "api = wandb.Api()\n",
    "soup_runs = api.runs('tberm-org/adapter-soup-misinformed')\n",
    "\n",
    "soup_runs = [\n",
    "    run for run in soup_runs if is_good_mt_run(run)\n",
    "]\n",
    "config_cols = ['run_config/eval_set', 'run_config/trunc_dataset']\n",
    "summary_cols = ['average_precision', 'auroc']\n",
    "soup_df = make_df_from_wandb_runs(soup_runs, config_cols, summary_cols)\n",
    "soup_df['eval_review'] = soup_df['run_config/eval_set'].apply(get_review_from_eval_set)\n",
    "soup_bot_3_inf_df = soup_df[soup_df.name.str.contains('top')]\n",
    "bot_3_inf_agg = soup_bot_3_inf_df.groupby('eval_review').agg({'auroc': ['mean', 'std'], 'run_config/eval_set': 'count'})"
   ]
  },
  {
   "cell_type": "code",
   "execution_count": 819,
   "id": "ee67f025-e9fc-4236-bd72-812e9eceacac",
   "metadata": {},
   "outputs": [],
   "source": [
    "# multi-task learning plus few-shot fine-tuning on the target review\n",
    "\n",
    "api = wandb.Api()\n",
    "soup_runs = api.runs('tberm-org/mt-adapt')\n",
    "\n",
    "soup_runs = [\n",
    "    run for run in soup_runs if is_good_mt_run(run)\n",
    "]\n",
    "config_cols = ['run_config/eval_set', 'run_config/trunc_dataset']\n",
    "summary_cols = ['average_precision', 'auroc']\n",
    "soup_df = make_df_from_wandb_runs(soup_runs, config_cols, summary_cols)\n",
    "soup_df['eval_review'] = soup_df['run_config/eval_set'].apply(get_review_from_eval_set)\n",
    "mt_adapt_agg = soup_df.groupby('eval_review').agg({'auroc': ['mean', 'std'], 'run_config/eval_set': 'count'})"
   ]
  },
  {
   "cell_type": "code",
   "execution_count": 820,
   "id": "169f66b7-1302-4cd4-b25f-e96249c30154",
   "metadata": {},
   "outputs": [],
   "source": [
    "# multi-task learning plus few-shot fine-tuning on the target review, with MTL LoRA merged into base model.\n",
    "\n",
    "api = wandb.Api()\n",
    "soup_runs = api.runs('tberm-org/mt-double-adapt')\n",
    "\n",
    "soup_runs = [\n",
    "    run for run in soup_runs if is_good_mt_run(run)\n",
    "]\n",
    "config_cols = ['run_config/eval_set', 'run_config/trunc_dataset']\n",
    "summary_cols = ['average_precision', 'auroc']\n",
    "soup_df = make_df_from_wandb_runs(soup_runs, config_cols, summary_cols)\n",
    "soup_df['eval_review'] = soup_df['run_config/eval_set'].apply(get_review_from_eval_set)\n",
    "mt_dbl_adapt_agg = soup_df.groupby('eval_review').agg({'auroc': ['mean', 'std'], 'run_config/eval_set': 'count'})"
   ]
  },
  {
   "cell_type": "code",
   "execution_count": 821,
   "id": "509ba5cd-7807-448f-8583-062cebea014d",
   "metadata": {},
   "outputs": [],
   "source": [
    "# merged adapters selected based on performance on few-shot target review dataset; merged and additionally fine-tuned on the few-shot data\n",
    "\n",
    "api = wandb.Api()\n",
    "soup_runs = api.runs('tberm-org/fs-eval-adapt')\n",
    "\n",
    "soup_runs = [\n",
    "    run for run in soup_runs if is_good_mt_run(run)\n",
    "]\n",
    "config_cols = ['run_config/eval_set', 'run_config/trunc_dataset']\n",
    "summary_cols = ['average_precision', 'auroc']\n",
    "soup_df = make_df_from_wandb_runs(soup_runs, config_cols, summary_cols)\n",
    "soup_df['eval_review'] = soup_df['run_config/eval_set'].apply(get_review_from_eval_set)\n",
    "fs_eval_adapt_agg = soup_df.groupby('eval_review').agg({'auroc': ['mean', 'std'], 'run_config/eval_set': 'count'})"
   ]
  },
  {
   "cell_type": "code",
   "execution_count": 822,
   "id": "a2019e79-9a96-474b-9d5e-b6149883c237",
   "metadata": {},
   "outputs": [],
   "source": [
    "# adapters selected according to paper similarity between training and evaluation reviews;\n",
    "# merged and additionally fine-tuned on the few-shot data\n",
    "\n",
    "api = wandb.Api()\n",
    "soup_runs = api.runs('tberm-org/paper-sims-adapt')\n",
    "\n",
    "soup_runs = [\n",
    "    run for run in soup_runs if is_good_mt_run(run)\n",
    "]\n",
    "config_cols = ['run_config/eval_set', 'run_config/trunc_dataset']\n",
    "summary_cols = ['average_precision', 'auroc']\n",
    "soup_df = make_df_from_wandb_runs(soup_runs, config_cols, summary_cols)\n",
    "soup_df['eval_review'] = soup_df['run_config/eval_set'].apply(get_review_from_eval_set)\n",
    "paper_sims_adapt_agg = soup_df.groupby('eval_review').agg({'auroc': ['mean', 'std'], 'run_config/eval_set': 'count'})"
   ]
  },
  {
   "cell_type": "code",
   "execution_count": 823,
   "id": "98267a9a-fb7d-41f6-9021-05aaf4a0400a",
   "metadata": {},
   "outputs": [],
   "source": [
    "# adapters selected according to paper similarity between training and evaluation reviews;\n",
    "# merged and additionally fine-tuned on the few-shot data, with expert LoRAs merged into the base model\n",
    "\n",
    "api = wandb.Api()\n",
    "soup_runs = api.runs('tberm-org/paper-sims-double-adapt')\n",
    "\n",
    "soup_runs = [\n",
    "    run for run in soup_runs if is_good_mt_run(run)\n",
    "]\n",
    "config_cols = ['run_config/eval_set', 'run_config/trunc_dataset']\n",
    "summary_cols = ['average_precision', 'auroc']\n",
    "soup_df = make_df_from_wandb_runs(soup_runs, config_cols, summary_cols)\n",
    "soup_df['eval_review'] = soup_df['run_config/eval_set'].apply(get_review_from_eval_set)\n",
    "paper_sims_dbl_adapt_agg = soup_df.groupby('eval_review').agg({'auroc': ['mean', 'std'], 'run_config/eval_set': 'count'})"
   ]
  },
  {
   "cell_type": "code",
   "execution_count": 824,
   "id": "a2d5fd35-0f0f-4c14-99c4-c068167b2dd0",
   "metadata": {},
   "outputs": [],
   "source": [
    "# base model fine-tuned only on few-shot dataset\n",
    "\n",
    "api = wandb.Api()\n",
    "fs_ft_runs = api.runs('tberm-org/few-shot-ft-eval')\n",
    "config_cols = {'run_config/load_adapter': 'adapter', 'run_config/adapters_seed': 'seed', 'run_config/eval_set': 'eval_set'}\n",
    "summary_cols = ['average_precision', 'auroc', 'f1']\n",
    "fs_ft_df = make_df_from_wandb_runs(fs_ft_runs, config_cols, summary_cols)\n",
    "fs_ft_df['eval_review'] = fs_ft_df['eval_set'].apply(get_review_from_eval_set)\n",
    "fs_ft_df['lora_r'] = fs_ft_df.name.apply(lambda n: 8 if 'r8' in n else 4)\n",
    "\n",
    "fs_ft_agg = fs_ft_df.groupby('eval_review').agg({'auroc': ['mean', 'std'], 'eval_set': 'count'})"
   ]
  },
  {
   "cell_type": "code",
   "execution_count": 776,
   "id": "75d3462d-429d-4e44-8269-7ab54d9a8c80",
   "metadata": {},
   "outputs": [
    {
     "data": {
      "text/html": [
       "<div>\n",
       "<style scoped>\n",
       "    .dataframe tbody tr th:only-of-type {\n",
       "        vertical-align: middle;\n",
       "    }\n",
       "\n",
       "    .dataframe tbody tr th {\n",
       "        vertical-align: top;\n",
       "    }\n",
       "\n",
       "    .dataframe thead th {\n",
       "        text-align: right;\n",
       "    }\n",
       "</style>\n",
       "<table border=\"1\" class=\"dataframe\">\n",
       "  <thead>\n",
       "    <tr style=\"text-align: right;\">\n",
       "      <th></th>\n",
       "      <th>name</th>\n",
       "      <th>id</th>\n",
       "      <th>average_precision</th>\n",
       "      <th>auroc</th>\n",
       "      <th>f1</th>\n",
       "      <th>adapter</th>\n",
       "      <th>seed</th>\n",
       "      <th>eval_set</th>\n",
       "      <th>eval_review</th>\n",
       "      <th>lora_r</th>\n",
       "    </tr>\n",
       "  </thead>\n",
       "  <tbody>\n",
       "    <tr>\n",
       "      <th>18</th>\n",
       "      <td>bluebell-fs</td>\n",
       "      <td>fdaquynw</td>\n",
       "      <td>0.591773</td>\n",
       "      <td>0.911936</td>\n",
       "      <td>0.587302</td>\n",
       "      <td>file:///mnt/nfs/wandb/artifacts/nat-fs-seed-2/...</td>\n",
       "      <td>2</td>\n",
       "      <td>data/covidence/review_117787/nat_few_shot_comp...</td>\n",
       "      <td>117787</td>\n",
       "      <td>4</td>\n",
       "    </tr>\n",
       "    <tr>\n",
       "      <th>19</th>\n",
       "      <td>bluebell-fs</td>\n",
       "      <td>kdv4fyzw</td>\n",
       "      <td>0.591773</td>\n",
       "      <td>0.911936</td>\n",
       "      <td>0.587302</td>\n",
       "      <td>file:///mnt/nfs/wandb/artifacts/nat-fs-seed-2/...</td>\n",
       "      <td>1</td>\n",
       "      <td>data/covidence/review_117787/nat_few_shot_comp...</td>\n",
       "      <td>117787</td>\n",
       "      <td>4</td>\n",
       "    </tr>\n",
       "    <tr>\n",
       "      <th>20</th>\n",
       "      <td>bluebell-fs</td>\n",
       "      <td>xhf4up7y</td>\n",
       "      <td>0.591773</td>\n",
       "      <td>0.911936</td>\n",
       "      <td>0.587302</td>\n",
       "      <td>file:///mnt/nfs/wandb/artifacts/nat-fs-seed-2/...</td>\n",
       "      <td>3</td>\n",
       "      <td>data/covidence/review_117787/nat_few_shot_comp...</td>\n",
       "      <td>117787</td>\n",
       "      <td>4</td>\n",
       "    </tr>\n",
       "  </tbody>\n",
       "</table>\n",
       "</div>"
      ],
      "text/plain": [
       "           name        id  average_precision     auroc        f1  \\\n",
       "18  bluebell-fs  fdaquynw           0.591773  0.911936  0.587302   \n",
       "19  bluebell-fs  kdv4fyzw           0.591773  0.911936  0.587302   \n",
       "20  bluebell-fs  xhf4up7y           0.591773  0.911936  0.587302   \n",
       "\n",
       "                                              adapter  seed  \\\n",
       "18  file:///mnt/nfs/wandb/artifacts/nat-fs-seed-2/...     2   \n",
       "19  file:///mnt/nfs/wandb/artifacts/nat-fs-seed-2/...     1   \n",
       "20  file:///mnt/nfs/wandb/artifacts/nat-fs-seed-2/...     3   \n",
       "\n",
       "                                             eval_set  eval_review  lora_r  \n",
       "18  data/covidence/review_117787/nat_few_shot_comp...       117787       4  \n",
       "19  data/covidence/review_117787/nat_few_shot_comp...       117787       4  \n",
       "20  data/covidence/review_117787/nat_few_shot_comp...       117787       4  "
      ]
     },
     "execution_count": 776,
     "metadata": {},
     "output_type": "execute_result"
    }
   ],
   "source": [
    "r4_rows"
   ]
  },
  {
   "cell_type": "code",
   "execution_count": 802,
   "id": "5d773634-38c7-4f3d-9ae2-885f70a0e233",
   "metadata": {},
   "outputs": [
    {
     "name": "stdout",
     "output_type": "stream",
     "text": [
      "117787 (6 rows)\n",
      "    rank 4: 0.59 += 0.00105\n",
      "    rank 8: 0.60 += 0.00796\n",
      "165805 (6 rows)\n",
      "    rank 4: 0.63 += 0.00378\n",
      "    rank 8: 0.65 += 0.0159\n",
      "378562 (6 rows)\n",
      "    rank 4: 0.69 += 0.00925\n",
      "    rank 8: 0.70 += 0.0452\n",
      "258698 (6 rows)\n",
      "    rank 4: 0.59 += 0.0109\n",
      "    rank 8: 0.56 += 0.0329\n",
      "287708 (6 rows)\n",
      "    rank 4: 0.68 += 0.00425\n",
      "    rank 8: 0.66 += 0.0289\n",
      "121733 (6 rows)\n",
      "    rank 4: 0.85 += 0.00315\n",
      "    rank 8: 0.85 += 0.00454\n",
      "334317 (6 rows)\n",
      "    rank 4: 0.37 += 0.00463\n",
      "    rank 8: 0.38 += 0.0216\n",
      "Overall:\n",
      "    rank 4: 0.6282 += 0.137\n",
      "    rank 8: 0.6287 += 0.136\n"
     ]
    }
   ],
   "source": [
    "for review in fs_ft_df.eval_review.unique():\n",
    "    rows = fs_ft_df[fs_ft_df.eval_review == review]\n",
    "    print(f'{review} ({len(rows)} rows)')\n",
    "    r4_rows = rows[rows.lora_r == 4]\n",
    "    r8_rows = rows[rows.lora_r == 8]\n",
    "    mean = r4_rows.average_precision.mean()\n",
    "    std = r4_rows.average_precision.std()\n",
    "    print(f'    rank 4: {mean:.2f} += {std:.3g}') \n",
    "    mean = r8_rows.average_precision.mean()\n",
    "    std = r8_rows.average_precision.std()\n",
    "    print(f'    rank 8: {mean:.2f} += {std:.3g}')\n",
    "\n",
    "print('Overall:')\n",
    "r4_rows = fs_ft_df[fs_ft_df.lora_r == 4]\n",
    "r8_rows = fs_ft_df[fs_ft_df.lora_r == 8]\n",
    "mean = r4_rows.average_precision.mean()\n",
    "std = r4_rows.average_precision.std()\n",
    "print(f'    rank 4: {mean:.4f} += {std:.3g}') \n",
    "mean = r8_rows.average_precision.mean()\n",
    "std = r8_rows.average_precision.std()\n",
    "print(f'    rank 8: {mean:.4f} += {std:.3g}')"
   ]
  },
  {
   "cell_type": "code",
   "execution_count": 347,
   "id": "0dec3369-991b-483d-a139-cd447e21ba94",
   "metadata": {},
   "outputs": [],
   "source": [
    "summary_cols = ['acc', 'recall', 'neg_recall', 'precision', 'pos_rate', 'average_precision', 'auroc']\n",
    "config_cols = {'run_config/eval_set': 'eval_set', 'run_config/load_adapter': 'trained_model', 'run_config/adapters_seed': 'adapters_seed'}\n",
    "\n",
    "runs = [run for run in api.runs('tberm-org/cross-review-eval-sm')\n",
    "        if 'adapters_seed' in run.config['run_config']]\n",
    "\n",
    "xeval_sm_df = make_df_from_wandb_runs(runs, config_cols, summary_cols)\n",
    "xeval_sm_df['train_review'] = xeval_sm_df.trained_model.apply(get_review_from_model_name)\n",
    "xeval_sm_df['eval_review'] = xeval_sm_df.eval_set.apply(get_review_from_eval_set)\n",
    "xeval_sm_df['trained_model'] = xeval_sm_df.trained_model.apply(get_adapter_name_from_path)\n",
    "xeval_sm_df = xeval_sm_df[xeval_sm_df.train_review != xeval_sm_df.eval_review]\n",
    "\n",
    "max_idx = xeval_sm_df.groupby(['eval_review', 'adapters_seed']).average_precision.idxmax()\n",
    "best_per_seed = xeval_sm_df.loc[max_idx]\n",
    "top_1_agg = best_per_seed.groupby('eval_review').agg({'average_precision': ['mean', 'std']})"
   ]
  },
  {
   "cell_type": "markdown",
   "id": "e7d78d65-1ab9-4f76-aa41-6a2160bb58a4",
   "metadata": {},
   "source": [
    "Wondering if the benefit of the per-review adapters is not actually to do with anything about the reviews/tasks themselves, but just the fact that we're picking a best initialisation out of many (LTH).\n",
    "\n",
    "To check, pick the adapter to use not by the score it got, but by which training review performed the best on average across the other seeds."
   ]
  },
  {
   "cell_type": "code",
   "execution_count": 361,
   "id": "af98e6c7-ba6a-4e7e-bd19-a880e02e3714",
   "metadata": {},
   "outputs": [],
   "source": [
    "import numpy as np\n",
    "\n",
    "results = []\n",
    "for eval_review in soup_agg.index:\n",
    "    seed_scores = []\n",
    "    for seed in range(1, 4):\n",
    "        valid_rows = xeval_sm_df[\n",
    "            (xeval_sm_df.adapters_seed != seed)\n",
    "            & (xeval_sm_df.eval_review == eval_review)\n",
    "        ]\n",
    "        review_scores = valid_rows.groupby('train_review').average_precision.mean()\n",
    "        best_train_review = review_scores.idxmax()\n",
    "        score = xeval_sm_df[\n",
    "            (xeval_sm_df.adapters_seed == seed)\n",
    "            & (xeval_sm_df.train_review == best_train_review)\n",
    "            & (xeval_sm_df.eval_review == eval_review)\n",
    "        ].average_precision\n",
    "        seed_scores.append(score)\n",
    "        \n",
    "    results.append({'eval_review': eval_review, 'mean': np.mean(seed_scores), 'std': np.std(seed_scores)})\n",
    "\n",
    "top_review_agg = pd.DataFrame(results).set_index('eval_review')\n",
    "    \n",
    "        "
   ]
  },
  {
   "cell_type": "code",
   "execution_count": 825,
   "id": "47fbe640-f824-47f8-80a8-4106ae1c0a7e",
   "metadata": {},
   "outputs": [],
   "source": [
    "df = pd.DataFrame(index=soup_agg.index, data={\n",
    "    'baseline': bl_df.average_precision,\n",
    "    #'top_1_mean': top_1_agg.average_precision['mean'],\n",
    "    #'top_1_std': top_1_agg.average_precision['std'],\n",
    "    #'top_review_mean': top_review_agg['mean'],\n",
    "    #'top_review_std': top_review_agg['std'],\n",
    "    'top_3_mean': top_3_agg.average_precision['mean'],\n",
    "    'top_3_std': top_3_agg.average_precision['std'],\n",
    "    'pos_mean': pos_agg.average_precision['mean'],\n",
    "    'pos_std': pos_agg.average_precision['std'],\n",
    "    'paper_sims_mean': paper_sims_agg.average_precision['mean'],\n",
    "    'paper_sims_std': paper_sims_agg.average_precision['std'],\n",
    "    'all_mean': all_agg.average_precision['mean'],\n",
    "    'all_std': all_agg.average_precision['std'],\n",
    "\n",
    "    'multitask_mean': mt_agg.average_precision['mean'],\n",
    "    'multitask_std': mt_agg.average_precision['std'],\n",
    "    'top_3_inf_mean': top_3_inf_agg.average_precision['mean'],\n",
    "    'top_3_inf_std': top_3_inf_agg.average_precision['std'],\n",
    "    'bot_3_inf_mean': bot_3_inf_agg.average_precision['mean'],\n",
    "    'bot_3_inf_std': bot_3_inf_agg.average_precision['std'],\n",
    "    'top_3_fair_split_b_mean': top_3_fair_agg.split_b_average_precision['mean'],\n",
    "    'top_3_fair_split_b_std': top_3_fair_agg.split_b_average_precision['std'],\n",
    "    'multitask_split_b_mean': mt_agg.split_b_average_precision['mean'],\n",
    "    'multitask_split_b_std': mt_agg.split_b_average_precision['std'],\n",
    "\n",
    "    'fs_ft_mean': fs_ft_agg.average_precision['mean'],\n",
    "    'fs_ft_std': fs_ft_agg.average_precision['std'],\n",
    "    'mt_adapt_mean': mt_adapt_agg.average_precision['mean'],\n",
    "    'mt_adapt_std': mt_adapt_agg.average_precision['std'],\n",
    "    'mt_dbl_adapt_mean': mt_dbl_adapt_agg.average_precision['mean'],\n",
    "    'mt_dbl_adapt_std': mt_dbl_adapt_agg.average_precision['std'],\n",
    "    'fs_eval_adapt_mean': fs_eval_adapt_agg.average_precision['mean'],\n",
    "    'fs_eval_adapt_std': fs_eval_adapt_agg.average_precision['std'],\n",
    "    'paper_sims_adapt_mean': paper_sims_adapt_agg.average_precision['mean'],\n",
    "    'paper_sims_adapt_std': paper_sims_adapt_agg.average_precision['std'],\n",
    "    'paper_sims_dbl_adapt_mean': paper_sims_dbl_adapt_agg.average_precision['mean'],\n",
    "    'paper_sims_dbl_adapt_std': paper_sims_dbl_adapt_agg.average_precision['std'],\n",
    "})\n",
    "df.to_csv('approaches.csv')"
   ]
  },
  {
   "cell_type": "code",
   "execution_count": 659,
   "id": "c8869b6a-f0c7-48a0-bc23-6e0bd8a6d720",
   "metadata": {},
   "outputs": [
    {
     "data": {
      "text/plain": [
       "0.5566385521491196"
      ]
     },
     "execution_count": 659,
     "metadata": {},
     "output_type": "execute_result"
    }
   ],
   "source": [
    "df.bot_3_inf_mean.mean()"
   ]
  },
  {
   "cell_type": "markdown",
   "id": "6ca5b770-3cea-424d-99ae-acdbdea1a4f9",
   "metadata": {},
   "source": [
    "### Testing different merge methods over many possible adapter combinations"
   ]
  },
  {
   "cell_type": "code",
   "execution_count": 28,
   "id": "13860a64-92e1-46b1-b878-0f0829d3e02f",
   "metadata": {},
   "outputs": [],
   "source": [
    "# Adapters merged with AriMerge\n",
    "\n",
    "api = wandb.Api()\n",
    "runs = api.runs('tberm-org/adapter-combos')\n",
    "runs = [run for run in runs if run.state == 'finished']\n",
    "config_cols = ['active_adapters', 'run_config/eval_set', 'adapter_config/adapters_seed', 'adapter_config/adapters']\n",
    "summary_cols = ['average_precision', 'auroc']\n",
    "combos_linear_df = make_df_from_wandb_runs(runs, config_cols, summary_cols)"
   ]
  },
  {
   "cell_type": "code",
   "execution_count": 29,
   "id": "3037c8fd-4cba-424a-84b9-cd959c8c4f6a",
   "metadata": {},
   "outputs": [],
   "source": [
    "# Adapters merged with TIES\n",
    "\n",
    "runs = api.runs('tberm-org/adapter-combos-ties')\n",
    "combos_ties_df = make_df_from_wandb_runs(runs, config_cols, summary_cols)"
   ]
  },
  {
   "cell_type": "code",
   "execution_count": 35,
   "id": "ede444f2-1c26-4269-8671-95291524b7e0",
   "metadata": {},
   "outputs": [],
   "source": [
    "combos_linear_df['merge_method'] = 'linear'\n",
    "combos_ties_df['merge_method'] = 'ties'\n",
    "combos_df = pd.concat([combos_linear_df, combos_ties_df])\n",
    "combos_df['active_adapters_versioned'] = combos_df.apply(add_version_to_active_adapters, axis=1)"
   ]
  },
  {
   "cell_type": "code",
   "execution_count": 33,
   "id": "bbc11084-383a-408a-9eb9-1e6881037d0f",
   "metadata": {},
   "outputs": [],
   "source": [
    "import re\n",
    "\n",
    "def get_adapter_name_from_path(path):\n",
    "    return re.search(r'model-\\w+(-sm)?:v\\d+', path).group()"
   ]
  },
  {
   "cell_type": "code",
   "execution_count": 32,
   "id": "64ee6e3d-f9c8-4680-b4c5-9d6727fe5385",
   "metadata": {},
   "outputs": [],
   "source": [
    "def fix_model_name(model_name):\n",
    "    if model_name.startswith('org/'):\n",
    "        return 'tberm-' + model_name\n",
    "    return model_name"
   ]
  },
  {
   "cell_type": "code",
   "execution_count": 31,
   "id": "1a98ed03-af34-4c63-94dd-a23a5818e463",
   "metadata": {},
   "outputs": [],
   "source": [
    "def add_version_to_active_adapters(run_row):\n",
    "    adapter_paths = run_row['adapter_config/adapters']\n",
    "    adapter_names = [get_adapter_name_from_path(path)\n",
    "                      for path in adapter_paths]\n",
    "\n",
    "    active_short = run_row['active_adapters']\n",
    "    fixed = []\n",
    "    for short_name in active_short:\n",
    "        for full_name in adapter_names:\n",
    "            if short_name.split('/')[-1] in full_name:\n",
    "                fixed.append(full_name)\n",
    "                break\n",
    "\n",
    "    if len(fixed) != len(active_short):\n",
    "        raise RuntimeError(\"Couldn't find the full names of all adapters: \", + active_short)\n",
    "    return fixed"
   ]
  },
  {
   "cell_type": "code",
   "execution_count": 41,
   "id": "59ee95d6-8641-401d-bbb2-81ea198fa532",
   "metadata": {},
   "outputs": [],
   "source": [
    "summary_cols = ['acc', 'recall', 'neg_recall', 'precision', 'pos_rate', 'average_precision', 'auroc']\n",
    "config_cols = {'run_config/eval_set': 'eval_set', 'run_config/load_adapter': 'trained_model', 'run_config/adapters_seed': 'adapters_seed'}\n",
    "\n",
    "runs = [run for run in api.runs('tberm-org/cross-review-eval-sm')\n",
    "        if 'adapters_seed' in run.config['run_config']]\n",
    "\n",
    "# runs of models fine-tuned on one review and evaluated on another\n",
    "xeval_sm_df = make_df_from_wandb_runs(runs, config_cols, summary_cols)\n",
    "xeval_sm_df['train_review'] = xeval_sm_df.trained_model.apply(get_review_from_model_name)\n",
    "xeval_sm_df['eval_review'] = xeval_sm_df.eval_set.apply(get_review_from_eval_set)\n",
    "xeval_sm_df['trained_model'] = xeval_sm_df.trained_model.apply(get_adapter_name_from_path)\n",
    "\n",
    "def get_expected_adapter_combo_score(adapters, target_review):\n",
    "    \"\"\"\n",
    "    mean score of merged adapters\n",
    "    \"\"\"\n",
    "    xeval_rows = xeval_sm_df[\n",
    "        (xeval_sm_df.trained_model.isin(adapters))\n",
    "        & (xeval_sm_df.eval_review == target_review)\n",
    "    ]\n",
    "    # mean over repeated experiments\n",
    "    train_review_scores = xeval_rows.groupby('train_review').average_precision.mean()\n",
    "    # mean over reviews/adapters\n",
    "    return train_review_scores.mean()\n",
    "\n",
    "def get_max_adapter_combo_score(adapters, target_review):\n",
    "    \"\"\"\n",
    "    max score of merged adapters\n",
    "    \"\"\"\n",
    "    xeval_rows = xeval_sm_df[\n",
    "        (xeval_sm_df.trained_model.isin(adapters))\n",
    "        & (xeval_sm_df.eval_review == target_review)\n",
    "    ]\n",
    "    # mean over repeated experiments\n",
    "    train_review_scores = xeval_rows.groupby('train_review').average_precision.mean()\n",
    "    # max over reviews/adapters\n",
    "    return train_review_scores.max()\n",
    "\n",
    "def get_summed_adapter_combo_score(adapters, target_review):\n",
    "    \"\"\"\n",
    "    summed score of merged adapters\n",
    "    \"\"\"\n",
    "    xeval_rows = xeval_sm_df[\n",
    "        (xeval_sm_df.trained_model.isin(adapters))\n",
    "        & (xeval_sm_df.eval_review == target_review)\n",
    "    ]\n",
    "    # mean over repeated experiments\n",
    "    train_review_scores = xeval_rows.groupby('train_review').average_precision.mean()\n",
    "    # sum over reviews/adapters\n",
    "    return train_review_scores.sum()\n",
    "\n",
    "def adapters_all_positive(adapters, target_review):\n",
    "    xeval_rows = xeval_sm_df[\n",
    "        (xeval_sm_df.trained_model.isin(adapters))\n",
    "        & (xeval_sm_df.eval_review == target_review)\n",
    "    ]\n",
    "    bl = bl_df.loc[target_review].average_precision\n",
    "\n",
    "    return (xeval_rows.average_precision > bl).all()\n",
    "\n",
    "    "
   ]
  },
  {
   "cell_type": "code",
   "execution_count": 44,
   "id": "4a304bbe-8f25-4317-bb41-e8b8b44c5e92",
   "metadata": {},
   "outputs": [
    {
     "name": "stderr",
     "output_type": "stream",
     "text": [
      "/tmp/ipykernel_732573/2794557079.py:13: FutureWarning: The behavior of DataFrame concatenation with empty or all-NA entries is deprecated. In a future version, this will no longer exclude empty or all-NA columns when determining the result dtypes. To retain the old behavior, exclude the relevant entries before the concat operation.\n",
      "  combos_df = pd.concat([combos_linear_df, combos_ties_df])\n"
     ]
    }
   ],
   "source": [
    "api = wandb.Api()\n",
    "runs = api.runs('tberm-org/adapter-combos')\n",
    "runs = [run for run in runs if run.state == 'finished']\n",
    "config_cols = ['active_adapters', 'run_config/eval_set', 'adapter_config/adapters_seed', 'adapter_config/adapters', 'adapter_config/ties_density']\n",
    "summary_cols = ['average_precision', 'auroc']\n",
    "combos_linear_df = make_df_from_wandb_runs(runs, config_cols, summary_cols)\n",
    "\n",
    "runs = api.runs('tberm-org/adapter-combos-ties')\n",
    "combos_ties_df = make_df_from_wandb_runs(runs, config_cols, summary_cols)\n",
    "\n",
    "combos_linear_df['merge_method'] = 'linear'\n",
    "combos_ties_df['merge_method'] = 'ties'\n",
    "combos_df = pd.concat([combos_linear_df, combos_ties_df])\n",
    "combos_df['active_adapters_versioned'] = combos_df.apply(add_version_to_active_adapters, axis=1)\n",
    "combos_df['eval_review'] = combos_df['run_config/eval_set'].apply(get_review_from_eval_set)\n",
    "combos_df['ties_density'] = combos_df['adapter_config/ties_density'].fillna(0.2)\n",
    "\n",
    "combos_df['expected_score'] = combos_df.apply(\n",
    "    lambda s: get_expected_adapter_combo_score(s.active_adapters_versioned, s.eval_review),\n",
    "    axis=1,\n",
    ")\n",
    "\n",
    "combos_df['max_score'] = combos_df.apply(\n",
    "    lambda s: get_max_adapter_combo_score(s.active_adapters_versioned, s.eval_review),\n",
    "    axis=1,\n",
    ")\n",
    "\n",
    "combos_df['summed_score'] = combos_df.apply(\n",
    "    lambda s: get_summed_adapter_combo_score(s.active_adapters_versioned, s.eval_review),\n",
    "    axis=1,\n",
    ")\n",
    "\n",
    "combos_df['adapters_all_positive'] = combos_df.apply(\n",
    "    lambda s: adapters_all_positive(s.active_adapters_versioned, s.eval_review),\n",
    "    axis=1,\n",
    ")"
   ]
  },
  {
   "cell_type": "code",
   "execution_count": 43,
   "id": "66c8404f-f7de-4b11-bb54-62d8205d9454",
   "metadata": {},
   "outputs": [
    {
     "data": {
      "text/html": [
       "<div>\n",
       "<style scoped>\n",
       "    .dataframe tbody tr th:only-of-type {\n",
       "        vertical-align: middle;\n",
       "    }\n",
       "\n",
       "    .dataframe tbody tr th {\n",
       "        vertical-align: top;\n",
       "    }\n",
       "\n",
       "    .dataframe thead th {\n",
       "        text-align: right;\n",
       "    }\n",
       "</style>\n",
       "<table border=\"1\" class=\"dataframe\">\n",
       "  <thead>\n",
       "    <tr style=\"text-align: right;\">\n",
       "      <th></th>\n",
       "      <th>name</th>\n",
       "      <th>id</th>\n",
       "      <th>average_precision</th>\n",
       "      <th>auroc</th>\n",
       "      <th>eval_set</th>\n",
       "    </tr>\n",
       "    <tr>\n",
       "      <th>review</th>\n",
       "      <th></th>\n",
       "      <th></th>\n",
       "      <th></th>\n",
       "      <th></th>\n",
       "      <th></th>\n",
       "    </tr>\n",
       "  </thead>\n",
       "  <tbody>\n",
       "    <tr>\n",
       "      <th>240084</th>\n",
       "      <td>240</td>\n",
       "      <td>blemeelu</td>\n",
       "      <td>0.502626</td>\n",
       "      <td>0.777571</td>\n",
       "      <td>data/covidence/review_240084/full.csv</td>\n",
       "    </tr>\n",
       "    <tr>\n",
       "      <th>258698</th>\n",
       "      <td>258</td>\n",
       "      <td>dr1fy7so</td>\n",
       "      <td>0.579834</td>\n",
       "      <td>0.958245</td>\n",
       "      <td>data/covidence/review_258698/trunc_full.txt</td>\n",
       "    </tr>\n",
       "    <tr>\n",
       "      <th>121733</th>\n",
       "      <td>121</td>\n",
       "      <td>9pr3udzc</td>\n",
       "      <td>0.819144</td>\n",
       "      <td>0.882308</td>\n",
       "      <td>data/covidence/review_121733/trunc_full.txt</td>\n",
       "    </tr>\n",
       "    <tr>\n",
       "      <th>378562</th>\n",
       "      <td>378</td>\n",
       "      <td>1a36df1m</td>\n",
       "      <td>0.612577</td>\n",
       "      <td>0.890695</td>\n",
       "      <td>data/covidence/review_378562/full.csv</td>\n",
       "    </tr>\n",
       "    <tr>\n",
       "      <th>334317</th>\n",
       "      <td>334</td>\n",
       "      <td>qmcjuji9</td>\n",
       "      <td>0.282620</td>\n",
       "      <td>0.867489</td>\n",
       "      <td>data/covidence/review_334317/full.csv</td>\n",
       "    </tr>\n",
       "    <tr>\n",
       "      <th>288055</th>\n",
       "      <td>288</td>\n",
       "      <td>vd2skciu</td>\n",
       "      <td>0.124815</td>\n",
       "      <td>0.874340</td>\n",
       "      <td>data/covidence/review_288055/full.csv</td>\n",
       "    </tr>\n",
       "    <tr>\n",
       "      <th>287708</th>\n",
       "      <td>287</td>\n",
       "      <td>cdns9u7t</td>\n",
       "      <td>0.572476</td>\n",
       "      <td>0.836313</td>\n",
       "      <td>data/covidence/review_287708/full.csv</td>\n",
       "    </tr>\n",
       "    <tr>\n",
       "      <th>165805</th>\n",
       "      <td>165</td>\n",
       "      <td>drm21pex</td>\n",
       "      <td>0.549595</td>\n",
       "      <td>0.867273</td>\n",
       "      <td>data/covidence/review_165805/full.csv</td>\n",
       "    </tr>\n",
       "    <tr>\n",
       "      <th>117787</th>\n",
       "      <td>117</td>\n",
       "      <td>wqub1w38</td>\n",
       "      <td>0.564796</td>\n",
       "      <td>0.898519</td>\n",
       "      <td>data/covidence/review_117787/full.csv</td>\n",
       "    </tr>\n",
       "  </tbody>\n",
       "</table>\n",
       "</div>"
      ],
      "text/plain": [
       "       name        id  average_precision     auroc  \\\n",
       "review                                               \n",
       "240084  240  blemeelu           0.502626  0.777571   \n",
       "258698  258  dr1fy7so           0.579834  0.958245   \n",
       "121733  121  9pr3udzc           0.819144  0.882308   \n",
       "378562  378  1a36df1m           0.612577  0.890695   \n",
       "334317  334  qmcjuji9           0.282620  0.867489   \n",
       "288055  288  vd2skciu           0.124815  0.874340   \n",
       "287708  287  cdns9u7t           0.572476  0.836313   \n",
       "165805  165  drm21pex           0.549595  0.867273   \n",
       "117787  117  wqub1w38           0.564796  0.898519   \n",
       "\n",
       "                                           eval_set  \n",
       "review                                               \n",
       "240084        data/covidence/review_240084/full.csv  \n",
       "258698  data/covidence/review_258698/trunc_full.txt  \n",
       "121733  data/covidence/review_121733/trunc_full.txt  \n",
       "378562        data/covidence/review_378562/full.csv  \n",
       "334317        data/covidence/review_334317/full.csv  \n",
       "288055        data/covidence/review_288055/full.csv  \n",
       "287708        data/covidence/review_287708/full.csv  \n",
       "165805        data/covidence/review_165805/full.csv  \n",
       "117787        data/covidence/review_117787/full.csv  "
      ]
     },
     "execution_count": 43,
     "metadata": {},
     "output_type": "execute_result"
    }
   ],
   "source": [
    "# base model performance scores\n",
    "\n",
    "config_cols = {'run_config/eval_set': 'eval_set'}\n",
    "bl_df = get_wandb_runs_table('tberm-org/zero-shot-baselines-full', config_cols, summary_cols)\n",
    "bl_df['review'] = bl_df['eval_set'].apply(get_review_from_eval_set)\n",
    "bl_df = bl_df.set_index('review')\n",
    "bl_df"
   ]
  },
  {
   "cell_type": "code",
   "execution_count": 46,
   "id": "c0784e37-a235-4157-a650-f4018ccd80b3",
   "metadata": {},
   "outputs": [],
   "source": [
    "combos_df = combos_df.join(bl_df.average_precision, on='eval_review', rsuffix='_baseline')\n",
    "combos_df['expected_diff'] = combos_df.expected_score - combos_df.average_precision_baseline\n",
    "combos_df['summed_diff'] = combos_df.summed_score - 3 * combos_df.average_precision_baseline\n",
    "combos_df['max_diff'] = combos_df.max_score - combos_df.average_precision_baseline\n",
    "combos_df['actual_diff'] = combos_df.average_precision - combos_df.average_precision_baseline"
   ]
  },
  {
   "cell_type": "code",
   "execution_count": 50,
   "id": "5eafb0d8-95e3-4d49-a693-d01c97d44a2f",
   "metadata": {},
   "outputs": [
    {
     "data": {
      "image/png": "[encoded data removed]",
      "text/plain": [
       "<Figure size 640x480 with 1 Axes>"
      ]
     },
     "metadata": {},
     "output_type": "display_data"
    }
   ],
   "source": [
    "from matplotlib import pyplot as plt\n",
    "fig, ax = plt.subplots()\n",
    "\n",
    "\n",
    "\n",
    "linear = combos_df[combos_df.merge_method == 'linear']\n",
    "ax.scatter(linear.summed_diff, linear.actual_diff, s=20, alpha=0.7, label='AriMerge')\n",
    "\n",
    "ties = combos_df[(combos_df.merge_method == 'ties') & (combos_df.ties_density == 0.2)]\n",
    "ax.scatter(ties.summed_diff, ties.actual_diff, marker='^', s=20, alpha=0.7, label='TIES, $k=0.2$')\n",
    "\n",
    "#semi_ties = combos_df[(combos_df.merge_method == 'ties') & (combos_df.ties_density == 0.5)]\n",
    "#ax.scatter(semi_ties.summed_diff, semi_ties.actual_diff, marker='^', s=20, alpha=0.7, label='TIES, $k$=0.5')\n",
    "\n",
    "semi_ties = combos_df[(combos_df.merge_method == 'ties') & (combos_df.ties_density == 1)]\n",
    "ax.scatter(semi_ties.summed_diff, semi_ties.actual_diff, marker='^', s=20, alpha=0.7, label='TIES, $k=1$')\n",
    "\n",
    "ax.legend()\n",
    "\n",
    "x_range = np.array(ax.get_xlim())\n",
    "ax.plot(x_range, x_range, color='gray', alpha=0.5, lw=1)\n",
    "ax.plot(x_range, x_range/3, color='gray', alpha=0.5, lw=1)\n",
    "\n",
    "\n",
    "ax.set_ylabel(r'Merged adapter $\\Delta$AP')\n",
    "ax.set_xlabel(r\"Sum of individual adapters' $\\Delta$AP\")\n",
    "\n",
    "fig.savefig('../../report/latex/figures/adapter-combos.pdf')"
   ]
  },
  {
   "cell_type": "code",
   "execution_count": 634,
   "id": "f6039c05-9675-49a5-96e1-e0115d48c0b7",
   "metadata": {},
   "outputs": [
    {
     "data": {
      "text/plain": [
       "<matplotlib.legend.Legend at 0x740d1e7a0800>"
      ]
     },
     "execution_count": 634,
     "metadata": {},
     "output_type": "execute_result"
    },
    {
     "data": {
      "image/png": "[encoded data removed]",
      "text/plain": [
       "<Figure size 640x480 with 1 Axes>"
      ]
     },
     "metadata": {},
     "output_type": "display_data"
    }
   ],
   "source": [
    "from matplotlib import pyplot as plt\n",
    "fig, ax = plt.subplots()\n",
    "\n",
    "linear = combos_df[combos_df.merge_method == 'linear']\n",
    "ax.scatter(linear.max_diff, linear.actual_diff, s=20, alpha=0.7, label='linear')\n",
    "\n",
    "ties = combos_df[(combos_df.merge_method == 'ties') & (combos_df.ties_density == 0.2)]\n",
    "ax.scatter(ties.max_diff, ties.actual_diff, s=20, alpha=0.7, label='ties-0.2')\n",
    "\n",
    "semi_ties = combos_df[(combos_df.merge_method == 'ties') & (combos_df.ties_density == 1)]\n",
    "ax.scatter(semi_ties.max_diff, semi_ties.actual_diff, s=20, alpha=0.7, label='ties-1')\n",
    "\n",
    "x_range = ax.get_xlim()\n",
    "ax.plot(x_range, x_range, '--')\n",
    "\n",
    "ax.legend()"
   ]
  },
  {
   "cell_type": "code",
   "execution_count": 635,
   "id": "87fc08be-0cb5-46c5-97db-1671ea3333f8",
   "metadata": {},
   "outputs": [
    {
     "data": {
      "text/plain": [
       "(0.6, 0.15, 0.35)"
      ]
     },
     "execution_count": 635,
     "metadata": {},
     "output_type": "execute_result"
    }
   ],
   "source": [
    "good_combos_linear = linear[linear.adapters_all_positive]\n",
    "linear_beats_max = (good_combos_linear.average_precision > good_combos_linear.max_score).mean()\n",
    "\n",
    "good_combos_ties = ties[ties.adapters_all_positive]\n",
    "ties_beats_max = (good_combos_ties.average_precision > good_combos_ties.max_score).mean()\n",
    "\n",
    "good_combos_semi_ties = semi_ties[semi_ties.adapters_all_positive]\n",
    "semi_ties_beats_max = (good_combos_semi_ties.average_precision > good_combos_semi_ties.max_score).mean()\n",
    "\n",
    "linear_beats_max, ties_beats_max, semi_ties_beats_max"
   ]
  },
  {
   "cell_type": "code",
   "execution_count": 439,
   "id": "2d4093ab-22b9-47d7-8717-683796c376c7",
   "metadata": {},
   "outputs": [
    {
     "data": {
      "text/plain": [
       "Counter({('model-lily-sm:v3',\n",
       "          'model-daffodil-sm:v2',\n",
       "          'model-bluebell-sm:v2'): 2,\n",
       "         ('model-lily-sm:v3', 'model-poppy-sm:v2', 'model-bluebell-sm:v2'): 1,\n",
       "         ('model-lily-sm:v3', 'model-daffodil-sm:v2', 'model-poppy-sm:v2'): 1,\n",
       "         ('model-edelweiss-sm:v3',\n",
       "          'model-lily-sm:v3',\n",
       "          'model-bluebell-sm:v2'): 1,\n",
       "         ('model-edelweiss-sm:v3',\n",
       "          'model-lily-sm:v3',\n",
       "          'model-daffodil-sm:v2'): 1,\n",
       "         ('model-daffodil-sm:v2',\n",
       "          'model-poppy-sm:v2',\n",
       "          'model-bluebell-sm:v2'): 1,\n",
       "         ('model-hyacinth-sm:v3',\n",
       "          'model-poppy-sm:v2',\n",
       "          'model-bluebell-sm:v2'): 1,\n",
       "         ('model-hyacinth-sm:v3',\n",
       "          'model-daffodil-sm:v2',\n",
       "          'model-bluebell-sm:v2'): 1,\n",
       "         ('model-hyacinth-sm:v3',\n",
       "          'model-daffodil-sm:v2',\n",
       "          'model-poppy-sm:v2'): 1,\n",
       "         ('model-lily-sm:v3',\n",
       "          'model-hyacinth-sm:v3',\n",
       "          'model-bluebell-sm:v2'): 1,\n",
       "         ('model-lily-sm:v3',\n",
       "          'model-hyacinth-sm:v3',\n",
       "          'model-daffodil-sm:v2'): 1})"
      ]
     },
     "execution_count": 439,
     "metadata": {},
     "output_type": "execute_result"
    }
   ],
   "source": [
    "good_combos = linear[linear.average_precision > linear.max_score].active_adapters_versioned\n",
    "good_counts = Counter(apt for combo in good_combos for apt in combo)\n",
    "\n",
    "bad_combos = linear[linear.average_precision <= linear.max_score].active_adapters_versioned\n",
    "bad_counts = Counter(apt for combo in bad_combos for apt in combo)\n",
    "\n",
    "Counter([tuple(gc) for gc in good_combos])"
   ]
  },
  {
   "cell_type": "code",
   "execution_count": 380,
   "id": "97cfcb17-23d7-49d8-b01a-7991c84c7e39",
   "metadata": {},
   "outputs": [
    {
     "data": {
      "text/plain": [
       "[<matplotlib.lines.Line2D at 0x740d14833170>]"
      ]
     },
     "execution_count": 380,
     "metadata": {},
     "output_type": "execute_result"
    },
    {
     "data": {
      "image/png": "[encoded data removed]",
      "text/plain": [
       "<Figure size 640x480 with 1 Axes>"
      ]
     },
     "metadata": {},
     "output_type": "display_data"
    }
   ],
   "source": [
    "colors = combos_df.merge_method.apply(lambda mm: 'blue' if mm == 'ties' else 'yellow')\n",
    "sizes = combos_df.merge_method.apply(lambda mm: 20 if mm == 'ties' else 40)\n",
    "ax = combos_df.plot.scatter('expected_score', 'average_precision', c=colors, alpha=0.5, s=sizes)\n",
    "\n",
    "x_range = ax.get_xlim()\n",
    "ax.plot(x_range, x_range, '--')"
   ]
  },
  {
   "cell_type": "code",
   "execution_count": 381,
   "id": "440adf01-e480-489d-a71f-f7150f42d2ee",
   "metadata": {},
   "outputs": [
    {
     "data": {
      "text/plain": [
       "[<matplotlib.lines.Line2D at 0x740d1c30c590>]"
      ]
     },
     "execution_count": 381,
     "metadata": {},
     "output_type": "execute_result"
    },
    {
     "data": {
      "image/png": "[encoded data removed]",
      "text/plain": [
       "<Figure size 640x480 with 1 Axes>"
      ]
     },
     "metadata": {},
     "output_type": "display_data"
    }
   ],
   "source": [
    "ax = combos_df.plot.scatter('expected_diff', 'actual_diff', c=colors, alpha=0.5, s=sizes)\n",
    "\n",
    "x_range = ax.get_xlim()\n",
    "ax.plot(x_range, x_range, '--')"
   ]
  },
  {
   "cell_type": "code",
   "execution_count": 303,
   "id": "3b71b8d8-f6a7-4857-97d4-e80fc44a6a7d",
   "metadata": {},
   "outputs": [
    {
     "data": {
      "text/plain": [
       "[<matplotlib.lines.Line2D at 0x740d15ee3740>]"
      ]
     },
     "execution_count": 303,
     "metadata": {},
     "output_type": "execute_result"
    },
    {
     "data": {
      "image/png": "[encoded data removed]",
      "text/plain": [
       "<Figure size 640x480 with 1 Axes>"
      ]
     },
     "metadata": {},
     "output_type": "display_data"
    }
   ],
   "source": [
    "colors = combos_df.merge_method.apply(lambda mm: 'blue' if mm == 'ties' else 'yellow')\n",
    "sizes = combos_df.merge_method.apply(lambda mm: 20 if mm == 'ties' else 40)\n",
    "ax = combos_df.plot.scatter('max_score', 'average_precision', c=colors, alpha=0.5, s=sizes)\n",
    "\n",
    "x_range = ax.get_xlim()\n",
    "ax.plot(x_range, x_range, '--')"
   ]
  },
  {
   "cell_type": "markdown",
   "id": "12c5aed0-4b9c-4e1d-9cc1-0df971b019f9",
   "metadata": {},
   "source": [
    "### Finding good weightings for few-shot adaptation"
   ]
  },
  {
   "cell_type": "code",
   "execution_count": 665,
   "id": "9d9bb6e2-c609-47db-953e-13dd77445880",
   "metadata": {},
   "outputs": [
    {
     "data": {
      "text/plain": [
       "Index(['name', 'pos_rate', 'acc_bs_mean', 'Eval results/ncols',\n",
       "       'Eval results/nrows', 'Eval results/sha256',\n",
       "       'Eval results/artifact_path', 'Eval results/_latest_artifact_path',\n",
       "       'Eval results/path', 'Eval results/size', 'Eval results/_type',\n",
       "       'specificity@99', 'av_prec_bs_stdev', 'auroc', 'neg_recall',\n",
       "       'f1_bs_stdev', 'precision@95', 'specificity@95', 'average_precision',\n",
       "       'acc', 'acc_bs_stdev', 'precision@99', 'f1_bs_mean', 'recall',\n",
       "       'precision', 'precision@98', 'specificity@98', 'av_prec_bs_mean', 'f1',\n",
       "       'model', 'use_gpu', 'start_ts', 'run_config/eval_set',\n",
       "       'run_config/num_shots', 'run_config/allow_pass',\n",
       "       'run_config/batch_size', 'run_config/save_every',\n",
       "       'run_config/example_ids', 'run_config/prompt_file',\n",
       "       'run_config/results_dir', 'run_config/adapters_seed',\n",
       "       'run_config/prompt_format', 'run_config/trunc_dataset',\n",
       "       'run_config/load_multi_adapters', 'run_config/adapter_merge_method',\n",
       "       'run_config/partial_results_file', 'wandb_config/log',\n",
       "       'wandb_config/entity', 'wandb_config/log_dir', 'wandb_config/project',\n",
       "       'config_source', 'use_biomed_ft', 'skip_repo_check', 'use_qlora_config',\n",
       "       'use_flash_attention', 'wandb_config/run_id', 'wandb_config/run_name'],\n",
       "      dtype='object')"
      ]
     },
     "execution_count": 665,
     "metadata": {},
     "output_type": "execute_result"
    }
   ],
   "source": [
    "df = get_wandb_runs_table('tberm-org/few-shot-adapt-hp-tune')\n",
    "df.columns"
   ]
  },
  {
   "cell_type": "code",
   "execution_count": 669,
   "id": "bd0eb440-9b20-4cd4-a5d0-9089ad93cd6a",
   "metadata": {},
   "outputs": [
    {
     "data": {
      "text/plain": [
       "{'tberm-org/multi-review-ft/model-hernandez:v3': 0.8,\n",
       " 'file:///mnt/nfs/wandb/artifacts/fs-r8-seed-1/iris-fs-r8-final': 0.19999999999999996}"
      ]
     },
     "execution_count": 669,
     "metadata": {},
     "output_type": "execute_result"
    }
   ],
   "source": [
    "mt_df['run_config/load_multi_adapters'][0]"
   ]
  },
  {
   "cell_type": "code",
   "execution_count": null,
   "id": "8db4de67-8445-441f-a974-d478b8735115",
   "metadata": {},
   "outputs": [],
   "source": [
    "mt_df = df[df.name.str.contains('mt')]\n",
    "mod_df = df[df.name.str.contains('mod')]"
   ]
  },
  {
   "cell_type": "code",
   "execution_count": 683,
   "id": "067f5f9e-b9e7-4fa6-892d-43134611eeb9",
   "metadata": {},
   "outputs": [
    {
     "name": "stdout",
     "output_type": "stream",
     "text": [
      "378562\n",
      "   few_shot_weight  average_precision\n",
      "0              0.2           0.692730\n",
      "2              0.8           0.695692\n",
      "1              0.5           0.709198\n",
      "334317\n",
      "    few_shot_weight  average_precision\n",
      "10              0.2           0.338416\n",
      "9               0.5           0.357429\n",
      "3               0.8           0.369332\n",
      "287708\n",
      "    few_shot_weight  average_precision\n",
      "12              0.2           0.585934\n",
      "4               0.8           0.603005\n",
      "11              0.5           0.608773\n",
      "258698\n",
      "    few_shot_weight  average_precision\n",
      "5               0.8           0.596814\n",
      "14              0.2           0.647567\n",
      "13              0.5           0.667432\n",
      "165805\n",
      "    few_shot_weight  average_precision\n",
      "16              0.2           0.639735\n",
      "6               0.8           0.645270\n",
      "15              0.5           0.657820\n",
      "121733\n",
      "    few_shot_weight  average_precision\n",
      "18              0.2           0.850832\n",
      "17              0.5           0.863181\n",
      "7               0.8           0.866617\n",
      "117787\n",
      "    few_shot_weight  average_precision\n",
      "8               0.8           0.529155\n",
      "19              0.5           0.539104\n",
      "20              0.2           0.540119\n"
     ]
    },
    {
     "name": "stderr",
     "output_type": "stream",
     "text": [
      "/tmp/ipykernel_64868/373968037.py:1: SettingWithCopyWarning: \n",
      "A value is trying to be set on a copy of a slice from a DataFrame.\n",
      "Try using .loc[row_indexer,col_indexer] = value instead\n",
      "\n",
      "See the caveats in the documentation: https://pandas.pydata.org/pandas-docs/stable/user_guide/indexing.html#returning-a-view-versus-a-copy\n",
      "  mt_df['few_shot_weight'] = mt_df['run_config/load_multi_adapters'].apply(\n",
      "/tmp/ipykernel_64868/373968037.py:4: SettingWithCopyWarning: \n",
      "A value is trying to be set on a copy of a slice from a DataFrame.\n",
      "Try using .loc[row_indexer,col_indexer] = value instead\n",
      "\n",
      "See the caveats in the documentation: https://pandas.pydata.org/pandas-docs/stable/user_guide/indexing.html#returning-a-view-versus-a-copy\n",
      "  mt_df['eval_review'] = mt_df['run_config/eval_set'].apply(get_review_from_eval_set)\n"
     ]
    }
   ],
   "source": [
    "mt_df['few_shot_weight'] = mt_df['run_config/load_multi_adapters'].apply(\n",
    "    lambda adapters: [round(weight, 1) for apt, weight in adapters.items() if 'fs-' in apt][0]\n",
    ")\n",
    "mt_df['eval_review'] = mt_df['run_config/eval_set'].apply(get_review_from_eval_set)\n",
    "\n",
    "for review in mt_df.eval_review.unique():\n",
    "    rows = mt_df[mt_df.eval_review == review]\n",
    "    print(review)\n",
    "    print(rows.sort_values('average_precision')[['few_shot_weight', 'average_precision']])"
   ]
  },
  {
   "cell_type": "code",
   "execution_count": 684,
   "id": "1c440f7f-fce0-4ba1-bb91-8a67abcfe389",
   "metadata": {},
   "outputs": [
    {
     "name": "stdout",
     "output_type": "stream",
     "text": [
      "378562\n",
      "    few_shot_weight  average_precision\n",
      "35              0.2           0.765305\n",
      "21              0.8           0.766386\n",
      "28              0.5           0.780458\n",
      "334317\n",
      "    few_shot_weight  average_precision\n",
      "36              0.2           0.367461\n",
      "29              0.5           0.380178\n",
      "22              0.8           0.383284\n",
      "287708\n",
      "    few_shot_weight  average_precision\n",
      "23              0.8           0.623909\n",
      "30              0.5           0.636456\n",
      "37              0.2           0.641940\n",
      "258698\n",
      "    few_shot_weight  average_precision\n",
      "24              0.8           0.429775\n",
      "31              0.5           0.469627\n",
      "38              0.2           0.540756\n",
      "165805\n",
      "    few_shot_weight  average_precision\n",
      "39              0.2           0.644057\n",
      "32              0.5           0.658190\n",
      "25              0.8           0.660628\n",
      "121733\n",
      "    few_shot_weight  average_precision\n",
      "26              0.8           0.880052\n",
      "40              0.2           0.883948\n",
      "33              0.5           0.883950\n",
      "117787\n",
      "    few_shot_weight  average_precision\n",
      "27              0.8           0.527080\n",
      "34              0.5           0.540336\n",
      "41              0.2           0.547694\n"
     ]
    },
    {
     "name": "stderr",
     "output_type": "stream",
     "text": [
      "/tmp/ipykernel_64868/1825710382.py:1: SettingWithCopyWarning: \n",
      "A value is trying to be set on a copy of a slice from a DataFrame.\n",
      "Try using .loc[row_indexer,col_indexer] = value instead\n",
      "\n",
      "See the caveats in the documentation: https://pandas.pydata.org/pandas-docs/stable/user_guide/indexing.html#returning-a-view-versus-a-copy\n",
      "  mod_df['few_shot_weight'] = mod_df['run_config/load_multi_adapters'].apply(\n",
      "/tmp/ipykernel_64868/1825710382.py:4: SettingWithCopyWarning: \n",
      "A value is trying to be set on a copy of a slice from a DataFrame.\n",
      "Try using .loc[row_indexer,col_indexer] = value instead\n",
      "\n",
      "See the caveats in the documentation: https://pandas.pydata.org/pandas-docs/stable/user_guide/indexing.html#returning-a-view-versus-a-copy\n",
      "  mod_df['eval_review'] = mod_df['run_config/eval_set'].apply(get_review_from_eval_set)\n"
     ]
    }
   ],
   "source": [
    "mod_df['few_shot_weight'] = mod_df['run_config/load_multi_adapters'].apply(\n",
    "    lambda adapters: [round(weight, 1) for apt, weight in adapters.items() if 'few-shot-' in apt][0]\n",
    ")\n",
    "mod_df['eval_review'] = mod_df['run_config/eval_set'].apply(get_review_from_eval_set)\n",
    "\n",
    "for review in mod_df.eval_review.unique():\n",
    "    rows = mod_df[mod_df.eval_review == review]\n",
    "    print(review)\n",
    "    print(rows.sort_values('average_precision')[['few_shot_weight', 'average_precision']])"
   ]
  },
  {
   "cell_type": "code",
   "execution_count": 688,
   "id": "9c31a190-a4d2-42f1-a315-e5de1ede3156",
   "metadata": {},
   "outputs": [],
   "source": [
    "api = wandb.Api()\n",
    "runs  = api.runs('tberm-org/few-shot-adapt-hp-tune')\n"
   ]
  },
  {
   "cell_type": "code",
   "execution_count": 703,
   "id": "cf5e7086-fa5e-46ad-ae83-76ea62d6145a",
   "metadata": {},
   "outputs": [],
   "source": [
    "api = wandb.Api()\n",
    "multi_review_ft = [run for run in api.runs('tberm-org/multi-review-ft')\n",
    "                   if 'manual' not in run.tags and 'too-short' not in run.tags\n",
    "                   and 'full' in run.config['run_config']['eval_set']]\n",
    "                   \n"
   ]
  },
  {
   "cell_type": "code",
   "execution_count": 718,
   "id": "dec550d3-e2ad-40bc-8197-ec363c001879",
   "metadata": {},
   "outputs": [],
   "source": [
    "from nb_funcs import get_model_from_run\n",
    "\n",
    "multi_review_df = make_df_from_wandb_runs(multi_review_ft)\n",
    "models_to_runs = {}\n",
    "for run in multi_review_ft:\n",
    "    model = get_model_from_run(run)\n",
    "    models_to_runs[model.name] = run.id"
   ]
  },
  {
   "cell_type": "code",
   "execution_count": 706,
   "id": "c19c85d6-f3d4-48fc-8281-699fc99608df",
   "metadata": {},
   "outputs": [
    {
     "data": {
      "text/plain": [
       "{'model-bartra:v6': 'l5dr18o7',\n",
       " 'model-carles:v6': 's3qu60te',\n",
       " 'model-arbeloa:v5': 'ib9vuqls',\n",
       " 'model-gavi:v5': '5di7n829',\n",
       " 'model-carles:v5': 'gax2eke5',\n",
       " 'model-carles:v3': 'b5ssg4nx',\n",
       " 'model-diarra:v5': 'iy43zc2v',\n",
       " 'model-hernandez:v5': '881mfzdb',\n",
       " 'model-ferran:v5': 'x7yovtij',\n",
       " 'model-gavi:v4': 'efdqtaj3',\n",
       " 'model-hernandez:v3': 'z9b8edlq',\n",
       " 'model-bartra:v5': '7wvxqyl1',\n",
       " 'model-gavi:v3': 'nec7zd1y',\n",
       " 'model-arbeloa:v4': '9v4kieou',\n",
       " 'model-ferran:v3': 'ol1uwfmm',\n",
       " 'model-bartra:v4': 'w0yg5vzf',\n",
       " 'model-diarra:v3': 'nm7z3qzv',\n",
       " 'model-arbeloa:v3': 'ikm6ew8i'}"
      ]
     },
     "execution_count": 706,
     "metadata": {},
     "output_type": "execute_result"
    }
   ],
   "source": [
    "models_to_runs"
   ]
  },
  {
   "cell_type": "code",
   "execution_count": 736,
   "id": "9e880719-b7f8-4e39-8602-9d937600bca6",
   "metadata": {},
   "outputs": [],
   "source": [
    "def select_nat_few_shot(df, min_pos=5):\n",
    "    few_shot_df = df.sample(50)\n",
    "    pos_count = few_shot_df.label.sum()\n",
    "    if pos_count >= min_pos:\n",
    "        return few_shot_df\n",
    "        \n",
    "    pos_needed = min_pos - pos_count\n",
    "    few_shot_df = pd.concat([\n",
    "        few_shot_df.iloc[:-pos_needed],\n",
    "        df[df.label == 1].sample(pos_needed),\n",
    "    ]).sample(frac=1)\n",
    "    return few_shot_df"
   ]
  },
  {
   "cell_type": "code",
   "execution_count": 741,
   "id": "98a54f7d-9d14-470b-9872-2b576bc028db",
   "metadata": {},
   "outputs": [
    {
     "data": {
      "text/html": [
       "<div>\n",
       "<style scoped>\n",
       "    .dataframe tbody tr th:only-of-type {\n",
       "        vertical-align: middle;\n",
       "    }\n",
       "\n",
       "    .dataframe tbody tr th {\n",
       "        vertical-align: top;\n",
       "    }\n",
       "\n",
       "    .dataframe thead th {\n",
       "        text-align: right;\n",
       "    }\n",
       "</style>\n",
       "<table border=\"1\" class=\"dataframe\">\n",
       "  <thead>\n",
       "    <tr style=\"text-align: right;\">\n",
       "      <th></th>\n",
       "      <th>name</th>\n",
       "      <th>acc</th>\n",
       "      <th>recall</th>\n",
       "      <th>neg_recall</th>\n",
       "      <th>precision</th>\n",
       "      <th>pos_rate</th>\n",
       "      <th>average_precision</th>\n",
       "      <th>auroc</th>\n",
       "      <th>eval_set</th>\n",
       "    </tr>\n",
       "    <tr>\n",
       "      <th>review</th>\n",
       "      <th></th>\n",
       "      <th></th>\n",
       "      <th></th>\n",
       "      <th></th>\n",
       "      <th></th>\n",
       "      <th></th>\n",
       "      <th></th>\n",
       "      <th></th>\n",
       "      <th></th>\n",
       "    </tr>\n",
       "  </thead>\n",
       "  <tbody>\n",
       "    <tr>\n",
       "      <th>258698</th>\n",
       "      <td>258</td>\n",
       "      <td>0.938269</td>\n",
       "      <td>0.753247</td>\n",
       "      <td>0.943916</td>\n",
       "      <td>0.290727</td>\n",
       "      <td>0.076731</td>\n",
       "      <td>0.579834</td>\n",
       "      <td>0.958245</td>\n",
       "      <td>data/covidence/review_258698/trunc_full.txt</td>\n",
       "    </tr>\n",
       "    <tr>\n",
       "      <th>121733</th>\n",
       "      <td>121</td>\n",
       "      <td>0.779730</td>\n",
       "      <td>0.438662</td>\n",
       "      <td>0.974522</td>\n",
       "      <td>0.907692</td>\n",
       "      <td>0.175676</td>\n",
       "      <td>0.819144</td>\n",
       "      <td>0.882308</td>\n",
       "      <td>data/covidence/review_121733/trunc_full.txt</td>\n",
       "    </tr>\n",
       "    <tr>\n",
       "      <th>378562</th>\n",
       "      <td>378</td>\n",
       "      <td>0.880249</td>\n",
       "      <td>0.479592</td>\n",
       "      <td>0.952294</td>\n",
       "      <td>0.643836</td>\n",
       "      <td>0.113530</td>\n",
       "      <td>0.612577</td>\n",
       "      <td>0.890695</td>\n",
       "      <td>data/covidence/review_378562/full.csv</td>\n",
       "    </tr>\n",
       "    <tr>\n",
       "      <th>334317</th>\n",
       "      <td>334</td>\n",
       "      <td>0.818328</td>\n",
       "      <td>0.777778</td>\n",
       "      <td>0.819533</td>\n",
       "      <td>0.113557</td>\n",
       "      <td>0.197709</td>\n",
       "      <td>0.282620</td>\n",
       "      <td>0.867489</td>\n",
       "      <td>data/covidence/review_334317/full.csv</td>\n",
       "    </tr>\n",
       "    <tr>\n",
       "      <th>288055</th>\n",
       "      <td>288</td>\n",
       "      <td>0.920348</td>\n",
       "      <td>0.307692</td>\n",
       "      <td>0.932103</td>\n",
       "      <td>0.080000</td>\n",
       "      <td>0.072411</td>\n",
       "      <td>0.124815</td>\n",
       "      <td>0.874340</td>\n",
       "      <td>data/covidence/review_288055/full.csv</td>\n",
       "    </tr>\n",
       "    <tr>\n",
       "      <th>287708</th>\n",
       "      <td>287</td>\n",
       "      <td>0.824265</td>\n",
       "      <td>0.546875</td>\n",
       "      <td>0.888587</td>\n",
       "      <td>0.532319</td>\n",
       "      <td>0.193382</td>\n",
       "      <td>0.572476</td>\n",
       "      <td>0.836313</td>\n",
       "      <td>data/covidence/review_287708/full.csv</td>\n",
       "    </tr>\n",
       "    <tr>\n",
       "      <th>165805</th>\n",
       "      <td>165</td>\n",
       "      <td>0.915358</td>\n",
       "      <td>0.380753</td>\n",
       "      <td>0.977594</td>\n",
       "      <td>0.664234</td>\n",
       "      <td>0.059773</td>\n",
       "      <td>0.549595</td>\n",
       "      <td>0.867273</td>\n",
       "      <td>data/covidence/review_165805/full.csv</td>\n",
       "    </tr>\n",
       "    <tr>\n",
       "      <th>117787</th>\n",
       "      <td>117</td>\n",
       "      <td>0.916541</td>\n",
       "      <td>0.394366</td>\n",
       "      <td>0.978956</td>\n",
       "      <td>0.691358</td>\n",
       "      <td>0.060902</td>\n",
       "      <td>0.564796</td>\n",
       "      <td>0.898519</td>\n",
       "      <td>data/covidence/review_117787/full.csv</td>\n",
       "    </tr>\n",
       "  </tbody>\n",
       "</table>\n",
       "</div>"
      ],
      "text/plain": [
       "       name       acc    recall  neg_recall  precision  pos_rate  \\\n",
       "review                                                             \n",
       "258698  258  0.938269  0.753247    0.943916   0.290727  0.076731   \n",
       "121733  121  0.779730  0.438662    0.974522   0.907692  0.175676   \n",
       "378562  378  0.880249  0.479592    0.952294   0.643836  0.113530   \n",
       "334317  334  0.818328  0.777778    0.819533   0.113557  0.197709   \n",
       "288055  288  0.920348  0.307692    0.932103   0.080000  0.072411   \n",
       "287708  287  0.824265  0.546875    0.888587   0.532319  0.193382   \n",
       "165805  165  0.915358  0.380753    0.977594   0.664234  0.059773   \n",
       "117787  117  0.916541  0.394366    0.978956   0.691358  0.060902   \n",
       "\n",
       "        average_precision     auroc  \\\n",
       "review                                \n",
       "258698           0.579834  0.958245   \n",
       "121733           0.819144  0.882308   \n",
       "378562           0.612577  0.890695   \n",
       "334317           0.282620  0.867489   \n",
       "288055           0.124815  0.874340   \n",
       "287708           0.572476  0.836313   \n",
       "165805           0.549595  0.867273   \n",
       "117787           0.564796  0.898519   \n",
       "\n",
       "                                           eval_set  \n",
       "review                                               \n",
       "258698  data/covidence/review_258698/trunc_full.txt  \n",
       "121733  data/covidence/review_121733/trunc_full.txt  \n",
       "378562        data/covidence/review_378562/full.csv  \n",
       "334317        data/covidence/review_334317/full.csv  \n",
       "288055        data/covidence/review_288055/full.csv  \n",
       "287708        data/covidence/review_287708/full.csv  \n",
       "165805        data/covidence/review_165805/full.csv  \n",
       "117787        data/covidence/review_117787/full.csv  "
      ]
     },
     "execution_count": 741,
     "metadata": {},
     "output_type": "execute_result"
    }
   ],
   "source": [
    "bl_df"
   ]
  },
  {
   "cell_type": "code",
   "execution_count": 737,
   "id": "98026d7b-4ae9-444a-881a-7e40ee62ce2a",
   "metadata": {},
   "outputs": [
    {
     "name": "stderr",
     "output_type": "stream",
     "text": [
      "\u001b[34m\u001b[1mwandb\u001b[0m: \u001b[33mWARNING\u001b[0m A graphql request initiated by the public wandb API timed out (timeout=19 sec). Create a new API with an integer timeout larger than 19, e.g., `api = wandb.Api(timeout=29)` to increase the graphql timeout.\n",
      "\u001b[34m\u001b[1mwandb\u001b[0m:   1 of 1 files downloaded.  \n"
     ]
    }
   ],
   "source": [
    "from ast import literal_eval\n",
    "\n",
    "\n",
    "hp_tune_run = mt_df.iloc[0]\n",
    "adapters = hp_tune_run['run_config/load_multi_adapters']\n",
    "mt_adapter = [apt for apt in adapters if 'multi-review-ft' in apt][0]\n",
    "training_run_id = models_to_runs[mt_adapter.split('/')[-1]]\n",
    "training_run = [run for run in multi_review_ft if run.id == training_run_id][0]\n",
    "results_df = get_results_df_for_run(training_run)\n",
    "few_shot_results_df = select_nat_few_shot(results_df)\n",
    "few_shot_results_df['pos_prob'] = few_shot_results_df.label_probs.apply(lambda p: literal_eval(p)[1])\n",
    "fs_metrics = compute_metrics(few_shot_results_df)\n"
   ]
  },
  {
   "cell_type": "code",
   "execution_count": 740,
   "id": "a2372971-3252-45e2-9c26-06a80f95fad4",
   "metadata": {},
   "outputs": [
    {
     "data": {
      "text/plain": [
       "{'acc': 0.94,\n",
       " 'precision': 0.7,\n",
       " 'recall': 1.0,\n",
       " 'f1': 0.8235294117647058,\n",
       " 'neg_recall': 0.9302325581395349,\n",
       " 'pos_rate': 0.2,\n",
       " 'average_precision': 0.7916666666666665,\n",
       " 'auroc': 0.9634551495016611,\n",
       " 'specificity@95': 0.9302325581395349,\n",
       " 'specificity@98': 0.9302325581395349,\n",
       " 'specificity@99': 0.9302325581395349,\n",
       " 'precision@95': 0.7,\n",
       " 'precision@98': 0.7,\n",
       " 'precision@99': 0.7}"
      ]
     },
     "execution_count": 740,
     "metadata": {},
     "output_type": "execute_result"
    }
   ],
   "source": [
    "\n"
   ]
  },
  {
   "cell_type": "markdown",
   "id": "b6fc5455-c3a2-4778-bf62-16e9d9d5e882",
   "metadata": {},
   "source": [
    "#### Are fine-tuned models biased towards papers in their training review?"
   ]
  },
  {
   "cell_type": "code",
   "execution_count": 204,
   "id": "b77abf15-edb5-4385-baf7-a1d1d9066bcc",
   "metadata": {},
   "outputs": [],
   "source": [
    "summary_cols = ['f1', 'acc', 'recall', 'neg_recall', 'precision', 'pos_rate', 'average_precision']\n",
    "config_cols = {'run_config/eval_set': 'eval_set', 'run_config/load_wandb_model': 'trained_model'}\n",
    "\n",
    "import re\n",
    "\n",
    "runs_to_reviews = {\n",
    "    'bluebell': 117787,\n",
    "    'daffodil': 121733,\n",
    "    'hyacinth': 258698,\n",
    "    'edelweiss': 287708,\n",
    "    'lily': 334317,\n",
    "    'iris': 378562,\n",
    "    'poppy': 165805\n",
    "}\n",
    "\n",
    "def get_review_from_model_name(model_name):\n",
    "    match = re.search(r'/model-(\\w+):v\\d', model_name)\n",
    "    run_name = match.groups()[0]\n",
    "    return runs_to_reviews[run_name]\n",
    "    \n",
    "xeval_df = get_wandb_runs_table('tberm-org/cross-review-eval', config_cols, summary_cols)\n",
    "xeval_df['train_review'] = xeval_df.trained_model.apply(get_review_from_model_name)\n",
    "xeval_df['eval_review'] = xeval_df.eval_set.apply(get_review_from_eval_set)"
   ]
  },
  {
   "cell_type": "code",
   "execution_count": 212,
   "id": "50a704e4-76f2-4972-a942-a7a414efc807",
   "metadata": {},
   "outputs": [
    {
     "name": "stdout",
     "output_type": "stream",
     "text": [
      "Base model positive rate: 0.14183123877917414\n",
      "Trained model positive rate: 0.14542190305206462\n"
     ]
    }
   ],
   "source": [
    "train_review = 258698\n",
    "criteria_review = 121733\n",
    "\n",
    "zero_shot = baseline_df[baseline_df.eval_review == criteria_review].iloc[0]\n",
    "print('Base model positive rate:', zero_shot.pos_rate)\n",
    "\n",
    "trained = xeval_df[\n",
    "    (xeval_df.train_review == train_review)\n",
    "    & (xeval_df.eval_review == criteria_review)\n",
    "]\n",
    "print('Trained model positive rate:', trained.pos_rate.mean())"
   ]
  },
  {
   "cell_type": "markdown",
   "id": "855ed74f-8b95-4073-9bb9-9be2055df821",
   "metadata": {},
   "source": [
    "#### For the two very similar papers, which ones does the train model get wrong versus the baseline?"
   ]
  },
  {
   "cell_type": "code",
   "execution_count": 242,
   "id": "9df670f5-1ff5-4cd3-a3a3-dfe143631e63",
   "metadata": {},
   "outputs": [
    {
     "name": "stderr",
     "output_type": "stream",
     "text": [
      "\u001b[34m\u001b[1mwandb\u001b[0m:   1 of 1 files downloaded.  \n",
      "\u001b[34m\u001b[1mwandb\u001b[0m:   1 of 1 files downloaded.  \n"
     ]
    }
   ],
   "source": [
    "train_review = 278807\n",
    "eval_review = 288055\n",
    "\n",
    "api = wandb.Api()\n",
    "runs = api.runs('tberm-org/mismatched-review')\n",
    "zero_shot_run = [run for run in runs if run.name == 'darwin'][0]\n",
    "zero_shot_results = get_results_df_for_run(zero_shot_run)\n",
    "trained_run = [run for run in runs if run.name == 'cervantes'][0]\n",
    "trained_results = get_results_df_for_run(trained_run)"
   ]
  },
  {
   "cell_type": "code",
   "execution_count": 257,
   "id": "ae25d709-af53-47f9-8a71-db5c2bbcda39",
   "metadata": {},
   "outputs": [],
   "source": [
    "zero_shot_pos = zero_shot_results[zero_shot_results.predicted_label == 1]"
   ]
  },
  {
   "cell_type": "code",
   "execution_count": 256,
   "id": "5cd54d4f-29b6-4baf-986b-dddb9610651d",
   "metadata": {},
   "outputs": [],
   "source": [
    "trained_pos = trained_results[trained_results.predicted_label == 1]"
   ]
  },
  {
   "cell_type": "code",
   "execution_count": 271,
   "id": "002148b7-de06-4516-97e5-67dec0064ecf",
   "metadata": {
    "scrolled": true
   },
   "outputs": [],
   "source": [
    "eval_df = pd.read_csv('../data/covidence/review_287708/zero-shot-eval.csv', index_col=0)"
   ]
  },
  {
   "cell_type": "code",
   "execution_count": 288,
   "id": "da5d16c9-ae6e-483c-861e-03a82b29d7dd",
   "metadata": {},
   "outputs": [
    {
     "data": {
      "text/html": [
       "<div>\n",
       "<style scoped>\n",
       "    .dataframe tbody tr th:only-of-type {\n",
       "        vertical-align: middle;\n",
       "    }\n",
       "\n",
       "    .dataframe tbody tr th {\n",
       "        vertical-align: top;\n",
       "    }\n",
       "\n",
       "    .dataframe thead th {\n",
       "        text-align: right;\n",
       "    }\n",
       "</style>\n",
       "<table border=\"1\" class=\"dataframe\">\n",
       "  <thead>\n",
       "    <tr style=\"text-align: right;\">\n",
       "      <th></th>\n",
       "      <th>orig_index</th>\n",
       "      <th>title</th>\n",
       "      <th>abstract</th>\n",
       "      <th>label</th>\n",
       "      <th>review_id</th>\n",
       "    </tr>\n",
       "    <tr>\n",
       "      <th>index</th>\n",
       "      <th></th>\n",
       "      <th></th>\n",
       "      <th></th>\n",
       "      <th></th>\n",
       "      <th></th>\n",
       "    </tr>\n",
       "  </thead>\n",
       "  <tbody>\n",
       "    <tr>\n",
       "      <th>12</th>\n",
       "      <td>12</td>\n",
       "      <td>Public Health Aspects of Climate Change Adapta...</td>\n",
       "      <td>Climate change presents an unprecedented publi...</td>\n",
       "      <td>1</td>\n",
       "      <td>287708</td>\n",
       "    </tr>\n",
       "    <tr>\n",
       "      <th>24</th>\n",
       "      <td>24</td>\n",
       "      <td>Impact of extreme weather conditions on health...</td>\n",
       "      <td>Extreme weather events pose significant threat...</td>\n",
       "      <td>1</td>\n",
       "      <td>287708</td>\n",
       "    </tr>\n",
       "    <tr>\n",
       "      <th>96</th>\n",
       "      <td>71</td>\n",
       "      <td>Climate Change Adaptation Strategies Vary With...</td>\n",
       "      <td>Vietnam faces several adverse climatic stresse...</td>\n",
       "      <td>1</td>\n",
       "      <td>287708</td>\n",
       "    </tr>\n",
       "    <tr>\n",
       "      <th>180</th>\n",
       "      <td>155</td>\n",
       "      <td>Autonomous adaptation to global environmental ...</td>\n",
       "      <td>The growth of pen-urban areas is increasingly ...</td>\n",
       "      <td>1</td>\n",
       "      <td>287708</td>\n",
       "    </tr>\n",
       "    <tr>\n",
       "      <th>237</th>\n",
       "      <td>212</td>\n",
       "      <td>Sustainable adaptation for resolving climate d...</td>\n",
       "      <td>Purpose - Climate change is affecting people d...</td>\n",
       "      <td>1</td>\n",
       "      <td>287708</td>\n",
       "    </tr>\n",
       "    <tr>\n",
       "      <th>250</th>\n",
       "      <td>225</td>\n",
       "      <td>Urban Climate Justice, Human Health, and Citiz...</td>\n",
       "      <td>Urban informal settlements or slums are among ...</td>\n",
       "      <td>1</td>\n",
       "      <td>287708</td>\n",
       "    </tr>\n",
       "    <tr>\n",
       "      <th>277</th>\n",
       "      <td>16</td>\n",
       "      <td>Cost Benefit/Fiffectiveness Analysis of Climat...</td>\n",
       "      <td>Northern Punjab region of Pakistan, known as P...</td>\n",
       "      <td>0</td>\n",
       "      <td>287708</td>\n",
       "    </tr>\n",
       "  </tbody>\n",
       "</table>\n",
       "</div>"
      ],
      "text/plain": [
       "       orig_index                                              title  \\\n",
       "index                                                                  \n",
       "12             12  Public Health Aspects of Climate Change Adapta...   \n",
       "24             24  Impact of extreme weather conditions on health...   \n",
       "96             71  Climate Change Adaptation Strategies Vary With...   \n",
       "180           155  Autonomous adaptation to global environmental ...   \n",
       "237           212  Sustainable adaptation for resolving climate d...   \n",
       "250           225  Urban Climate Justice, Human Health, and Citiz...   \n",
       "277            16  Cost Benefit/Fiffectiveness Analysis of Climat...   \n",
       "\n",
       "                                                abstract  label  review_id  \n",
       "index                                                                       \n",
       "12     Climate change presents an unprecedented publi...      1     287708  \n",
       "24     Extreme weather events pose significant threat...      1     287708  \n",
       "96     Vietnam faces several adverse climatic stresse...      1     287708  \n",
       "180    The growth of pen-urban areas is increasingly ...      1     287708  \n",
       "237    Purpose - Climate change is affecting people d...      1     287708  \n",
       "250    Urban informal settlements or slums are among ...      1     287708  \n",
       "277    Northern Punjab region of Pakistan, known as P...      0     287708  "
      ]
     },
     "execution_count": 288,
     "metadata": {},
     "output_type": "execute_result"
    }
   ],
   "source": [
    "eval_df.loc[zero_shot_pos.index]"
   ]
  },
  {
   "cell_type": "code",
   "execution_count": 282,
   "id": "ef5b8156-03fe-489c-88cd-426b36f46ae5",
   "metadata": {},
   "outputs": [
    {
     "data": {
      "text/html": [
       "<div>\n",
       "<style scoped>\n",
       "    .dataframe tbody tr th:only-of-type {\n",
       "        vertical-align: middle;\n",
       "    }\n",
       "\n",
       "    .dataframe tbody tr th {\n",
       "        vertical-align: top;\n",
       "    }\n",
       "\n",
       "    .dataframe thead th {\n",
       "        text-align: right;\n",
       "    }\n",
       "</style>\n",
       "<table border=\"1\" class=\"dataframe\">\n",
       "  <thead>\n",
       "    <tr style=\"text-align: right;\">\n",
       "      <th></th>\n",
       "      <th>orig_index</th>\n",
       "      <th>title</th>\n",
       "      <th>abstract</th>\n",
       "      <th>label</th>\n",
       "      <th>review_id</th>\n",
       "    </tr>\n",
       "    <tr>\n",
       "      <th>index</th>\n",
       "      <th></th>\n",
       "      <th></th>\n",
       "      <th></th>\n",
       "      <th></th>\n",
       "      <th></th>\n",
       "    </tr>\n",
       "  </thead>\n",
       "  <tbody>\n",
       "    <tr>\n",
       "      <th>3</th>\n",
       "      <td>3</td>\n",
       "      <td>Health coping strategies of the people vulnera...</td>\n",
       "      <td>Background: Among the many challenges faced by...</td>\n",
       "      <td>1</td>\n",
       "      <td>287708</td>\n",
       "    </tr>\n",
       "    <tr>\n",
       "      <th>12</th>\n",
       "      <td>12</td>\n",
       "      <td>Public Health Aspects of Climate Change Adapta...</td>\n",
       "      <td>Climate change presents an unprecedented publi...</td>\n",
       "      <td>1</td>\n",
       "      <td>287708</td>\n",
       "    </tr>\n",
       "    <tr>\n",
       "      <th>17</th>\n",
       "      <td>17</td>\n",
       "      <td>Who defines \"good\" climate change adaptation a...</td>\n",
       "      <td>Pacific Island Countries, despite significant ...</td>\n",
       "      <td>1</td>\n",
       "      <td>287708</td>\n",
       "    </tr>\n",
       "    <tr>\n",
       "      <th>51</th>\n",
       "      <td>26</td>\n",
       "      <td>Individual, communal and institutional respons...</td>\n",
       "      <td>The relationship between \"coping\" and \"resilie...</td>\n",
       "      <td>1</td>\n",
       "      <td>287708</td>\n",
       "    </tr>\n",
       "    <tr>\n",
       "      <th>61</th>\n",
       "      <td>36</td>\n",
       "      <td>Pro-poor adaptation for the urban extreme poor...</td>\n",
       "      <td>Purpose The purpose of this paper is to examin...</td>\n",
       "      <td>1</td>\n",
       "      <td>287708</td>\n",
       "    </tr>\n",
       "    <tr>\n",
       "      <th>96</th>\n",
       "      <td>71</td>\n",
       "      <td>Climate Change Adaptation Strategies Vary With...</td>\n",
       "      <td>Vietnam faces several adverse climatic stresse...</td>\n",
       "      <td>1</td>\n",
       "      <td>287708</td>\n",
       "    </tr>\n",
       "    <tr>\n",
       "      <th>142</th>\n",
       "      <td>117</td>\n",
       "      <td>Building responsiveness to climate change thro...</td>\n",
       "      <td>This article explores the drivers, benefits, a...</td>\n",
       "      <td>1</td>\n",
       "      <td>287708</td>\n",
       "    </tr>\n",
       "    <tr>\n",
       "      <th>163</th>\n",
       "      <td>138</td>\n",
       "      <td>Farmers' perspective towards climate change vu...</td>\n",
       "      <td>Pakistan has become a highly vulnerable countr...</td>\n",
       "      <td>1</td>\n",
       "      <td>287708</td>\n",
       "    </tr>\n",
       "    <tr>\n",
       "      <th>180</th>\n",
       "      <td>155</td>\n",
       "      <td>Autonomous adaptation to global environmental ...</td>\n",
       "      <td>The growth of pen-urban areas is increasingly ...</td>\n",
       "      <td>1</td>\n",
       "      <td>287708</td>\n",
       "    </tr>\n",
       "    <tr>\n",
       "      <th>187</th>\n",
       "      <td>162</td>\n",
       "      <td>Understanding climate change vulnerability, ad...</td>\n",
       "      <td>Purpose This study aims to investigate risks a...</td>\n",
       "      <td>1</td>\n",
       "      <td>287708</td>\n",
       "    </tr>\n",
       "    <tr>\n",
       "      <th>227</th>\n",
       "      <td>202</td>\n",
       "      <td>Adaptation opportunities and maladaptive outco...</td>\n",
       "      <td>How climate change adaptation practices can co...</td>\n",
       "      <td>1</td>\n",
       "      <td>287708</td>\n",
       "    </tr>\n",
       "    <tr>\n",
       "      <th>233</th>\n",
       "      <td>208</td>\n",
       "      <td>Children's perspective on adaptation to heat w...</td>\n",
       "      <td>Dhaka is one of the most vulnerable cities of ...</td>\n",
       "      <td>1</td>\n",
       "      <td>287708</td>\n",
       "    </tr>\n",
       "    <tr>\n",
       "      <th>250</th>\n",
       "      <td>225</td>\n",
       "      <td>Urban Climate Justice, Human Health, and Citiz...</td>\n",
       "      <td>Urban informal settlements or slums are among ...</td>\n",
       "      <td>1</td>\n",
       "      <td>287708</td>\n",
       "    </tr>\n",
       "  </tbody>\n",
       "</table>\n",
       "</div>"
      ],
      "text/plain": [
       "       orig_index                                              title  \\\n",
       "index                                                                  \n",
       "3               3  Health coping strategies of the people vulnera...   \n",
       "12             12  Public Health Aspects of Climate Change Adapta...   \n",
       "17             17  Who defines \"good\" climate change adaptation a...   \n",
       "51             26  Individual, communal and institutional respons...   \n",
       "61             36  Pro-poor adaptation for the urban extreme poor...   \n",
       "96             71  Climate Change Adaptation Strategies Vary With...   \n",
       "142           117  Building responsiveness to climate change thro...   \n",
       "163           138  Farmers' perspective towards climate change vu...   \n",
       "180           155  Autonomous adaptation to global environmental ...   \n",
       "187           162  Understanding climate change vulnerability, ad...   \n",
       "227           202  Adaptation opportunities and maladaptive outco...   \n",
       "233           208  Children's perspective on adaptation to heat w...   \n",
       "250           225  Urban Climate Justice, Human Health, and Citiz...   \n",
       "\n",
       "                                                abstract  label  review_id  \n",
       "index                                                                       \n",
       "3      Background: Among the many challenges faced by...      1     287708  \n",
       "12     Climate change presents an unprecedented publi...      1     287708  \n",
       "17     Pacific Island Countries, despite significant ...      1     287708  \n",
       "51     The relationship between \"coping\" and \"resilie...      1     287708  \n",
       "61     Purpose The purpose of this paper is to examin...      1     287708  \n",
       "96     Vietnam faces several adverse climatic stresse...      1     287708  \n",
       "142    This article explores the drivers, benefits, a...      1     287708  \n",
       "163    Pakistan has become a highly vulnerable countr...      1     287708  \n",
       "180    The growth of pen-urban areas is increasingly ...      1     287708  \n",
       "187    Purpose This study aims to investigate risks a...      1     287708  \n",
       "227    How climate change adaptation practices can co...      1     287708  \n",
       "233    Dhaka is one of the most vulnerable cities of ...      1     287708  \n",
       "250    Urban informal settlements or slums are among ...      1     287708  "
      ]
     },
     "execution_count": 282,
     "metadata": {},
     "output_type": "execute_result"
    }
   ],
   "source": [
    "eval_df.loc[trained_pos.index]"
   ]
  },
  {
   "cell_type": "code",
   "execution_count": 289,
   "id": "6794f849-6df7-45ca-b8dd-439040cd90a2",
   "metadata": {},
   "outputs": [
    {
     "name": "stdout",
     "output_type": "stream",
     "text": [
      "Purpose The purpose of this paper is to examine pro-poor urban asset adaptation to climate variability and change. It constructs a conceptual framework that explores the appropriate asset adaptation strategies for extreme poor households as well as the process of supporting these households and groups in accumulating these assets. Design/methodology/approach Qualitative data are obtained from life histories, key informant interviews (KIIs) and focus-group discussions (FGDs). These data are collected, coded and themed. Findings This research identifies that households among the urban extreme poor do their best to adapt to perceived climate changes; however, in the absence of savings, and access to credit and insurance, they are forced to adopt adverse coping strategies. Individual adaptation practices yield minimal results and are short lived and even harmful because the urban extreme poor are excluded from formal policies and institutions as they lack formal rights and entitlements. For the poorest, the process of facilitating and maintaining patron-client relationships is a central coping strategy. Social policy approaches are found to be effective in facilitating asset adaptation for the urban extreme poor because they contribute to greater resilience to climate change. Originality/value This study analyses the empirical evidence through the lens of a pro-poor asset-adaptation framework. It shows that the asset-transfer approach is an effective in building household-adaptation strategies. Equally important is the capacity to participate in and influence the institutions from which these people have previously been excluded.\n"
     ]
    }
   ],
   "source": [
    "print(eval_df.loc[61].abstract)"
   ]
  },
  {
   "cell_type": "markdown",
   "id": "7d7f4a02-cf64-4bd1-b548-752f42c55645",
   "metadata": {},
   "source": [
    "### Estimating uncertainty from validation set size"
   ]
  },
  {
   "cell_type": "code",
   "execution_count": 590,
   "id": "402812a6-d823-43af-a7c6-988f5a371271",
   "metadata": {},
   "outputs": [],
   "source": [
    "import wandb\n",
    "api = wandb.Api()\n",
    "runs = api.runs('tberm-org/one-offs')\n",
    "run = [run for run in runs if run.name == 'full-eval'][0]"
   ]
  },
  {
   "cell_type": "code",
   "execution_count": 591,
   "id": "1751ec8d-ce7e-4412-9ffa-3a76ab610b93",
   "metadata": {},
   "outputs": [
    {
     "name": "stderr",
     "output_type": "stream",
     "text": [
      "\u001b[34m\u001b[1mwandb\u001b[0m:   1 of 1 files downloaded.  \n"
     ]
    }
   ],
   "source": [
    "df = get_results_df_for_run(run)"
   ]
  },
  {
   "cell_type": "code",
   "execution_count": 7,
   "id": "e245d54b-82c2-4c52-8d3b-2f325d17ee8d",
   "metadata": {},
   "outputs": [
    {
     "data": {
      "text/plain": [
       "0.7879687078500135"
      ]
     },
     "execution_count": 7,
     "metadata": {},
     "output_type": "execute_result"
    }
   ],
   "source": [
    "(df.label == df.predicted_label).mean()"
   ]
  },
  {
   "cell_type": "code",
   "execution_count": 588,
   "id": "77775de7-f17e-4831-a80b-0f988757a79b",
   "metadata": {},
   "outputs": [],
   "source": [
    "import pandas as pd\n",
    "import numpy as np\n",
    "import sys\n",
    "from ast import literal_eval\n",
    "sys.path.append('/home/tom/msc/diss/experiments')\n",
    "\n",
    "from evaluate import compute_metrics\n",
    "\n",
    "def bootstrap(df, size, balance=True):\n",
    "    if balance:\n",
    "        split_df = pd.concat([\n",
    "            df[df.label == 1].sample(size//2, replace=True),\n",
    "            df[df.label == 0].sample(size-size//2, replace=True),\n",
    "        ])\n",
    "    else:\n",
    "        split_df = df.sample(size, replace=True)\n",
    "        \n",
    "    # NOTE the average precision will be technically wrong since we are not using the normed probs here!\n",
    "    probs = split_df.label_probs.apply(literal_eval).to_list()\n",
    "    split_df['pos_prob'] = np.array(probs)[:, 1]\n",
    "    return split_df"
   ]
  },
  {
   "cell_type": "markdown",
   "id": "ed4e422e-b34e-45fc-a841-7d079dbd4b6b",
   "metadata": {},
   "source": [
    "#### Balanced"
   ]
  },
  {
   "cell_type": "code",
   "execution_count": 35,
   "id": "1a869acc-379d-4ae9-96b8-951e23f60002",
   "metadata": {},
   "outputs": [
    {
     "name": "stdout",
     "output_type": "stream",
     "text": [
      "Bootstrapping samples of size 30...\n",
      "Bootstrapping samples of size 60...\n",
      "Bootstrapping samples of size 120...\n",
      "Bootstrapping samples of size 240...\n",
      "Bootstrapping samples of size 480...\n",
      "Bootstrapping samples of size 1000...\n",
      "Bootstrapping samples of size 2000...\n"
     ]
    }
   ],
   "source": [
    "bal_results = []\n",
    "sizes = (30, 60, 120, 240, 480, 1000, 2000)\n",
    "for size in sizes:\n",
    "    print(f'Bootstrapping samples of size {size}...')\n",
    "    bstrap_results = []\n",
    "    for i in range(1000):\n",
    "        split = bootstrap(df, size, balance=True)\n",
    "        bstrap_results.append(compute_metrics(split))\n",
    "\n",
    "    ap_scores = np.array([run['average_precision'] for run in bstrap_results])\n",
    "    bal_results.append({\n",
    "        'mean': ap_scores.mean(),\n",
    "        'std': ap_scores.std(),\n",
    "    })"
   ]
  },
  {
   "cell_type": "code",
   "execution_count": 24,
   "id": "38922c99-a3a1-468b-8797-0b897ab31f4e",
   "metadata": {},
   "outputs": [
    {
     "data": {
      "text/plain": [
       "[<matplotlib.lines.Line2D at 0x7d48da31e090>]"
      ]
     },
     "execution_count": 24,
     "metadata": {},
     "output_type": "execute_result"
    },
    {
     "data": {
      "image/png": "[encoded data removed]",
      "text/plain": [
       "<Figure size 640x480 with 1 Axes>"
      ]
     },
     "metadata": {},
     "output_type": "display_data"
    }
   ],
   "source": [
    "import matplotlib.pyplot as plt\n",
    "\n",
    "high_line = [point['mean'] + point['std'] for point in results]\n",
    "low_line = [point['mean'] - point['std'] for point in results]\n",
    "mean = [point['mean'] for point in results]\n",
    "fig, ax = plt.subplots()\n",
    "ax.fill_between(sizes, low_line, high_line, alpha=0.4)\n",
    "ax.plot(sizes, mean, '--')\n"
   ]
  },
  {
   "cell_type": "markdown",
   "id": "38f3379b-a4af-4d7c-95c6-df90c66c09ca",
   "metadata": {},
   "source": [
    "#### Natural"
   ]
  },
  {
   "cell_type": "code",
   "execution_count": 594,
   "id": "fe4db3ec-3a7b-47cc-a0f4-2244a2017b78",
   "metadata": {},
   "outputs": [
    {
     "data": {
      "text/plain": [
       "[{'mean': 0.8399964152835417, 'std': 0.0973882719075436},\n",
       " {'mean': 0.8391605094634176, 'std': 0.07380343294180383},\n",
       " {'mean': 0.8410829468220236, 'std': 0.04955219180495522},\n",
       " {'mean': 0.8331400431362324, 'std': 0.035661093496280556},\n",
       " {'mean': 0.8314282938403785, 'std': 0.026831321501849185},\n",
       " {'mean': 0.8327211078700171, 'std': 0.01828194450080841},\n",
       " {'mean': 0.8321825806554729, 'std': 0.013514495090740066}]"
      ]
     },
     "execution_count": 594,
     "metadata": {},
     "output_type": "execute_result"
    }
   ],
   "source": [
    "nat_results"
   ]
  },
  {
   "cell_type": "code",
   "execution_count": 592,
   "id": "cfa925f7-1d3b-4589-ac95-ca7cfd89426c",
   "metadata": {},
   "outputs": [
    {
     "name": "stdout",
     "output_type": "stream",
     "text": [
      "Bootstrapping samples of size 30...\n",
      "Bootstrapping samples of size 60...\n",
      "Bootstrapping samples of size 120...\n",
      "Bootstrapping samples of size 240...\n",
      "Bootstrapping samples of size 480...\n",
      "Bootstrapping samples of size 1000...\n",
      "Bootstrapping samples of size 2000...\n"
     ]
    }
   ],
   "source": [
    "nat_results = []\n",
    "sizes = (30, 60, 120, 240, 480, 1000, 2000)\n",
    "for size in sizes:\n",
    "    print(f'Bootstrapping samples of size {size}...')\n",
    "    bstrap_results = []\n",
    "    for i in range(1000):\n",
    "        split = bootstrap(df, size, balance=False)\n",
    "        bstrap_results.append(compute_metrics(split))\n",
    "\n",
    "    ap_scores = np.array([run['average_precision'] for run in bstrap_results])\n",
    "    nat_results.append({\n",
    "        'mean': ap_scores.mean(),\n",
    "        'std': ap_scores.std(),\n",
    "    })"
   ]
  },
  {
   "cell_type": "code",
   "execution_count": 26,
   "id": "50d1e94c-1228-4bbd-b001-4d351ad05340",
   "metadata": {},
   "outputs": [
    {
     "data": {
      "text/plain": [
       "[<matplotlib.lines.Line2D at 0x7d48da022780>]"
      ]
     },
     "execution_count": 26,
     "metadata": {},
     "output_type": "execute_result"
    },
    {
     "data": {
      "image/png": "[encoded data removed]",
      "text/plain": [
       "<Figure size 640x480 with 1 Axes>"
      ]
     },
     "metadata": {},
     "output_type": "display_data"
    }
   ],
   "source": [
    "import matplotlib.pyplot as plt\n",
    "\n",
    "high_line = [point['mean'] + point['std'] for point in nat_results]\n",
    "low_line = [point['mean'] - point['std'] for point in nat_results]\n",
    "mean = [point['mean'] for point in nat_results]\n",
    "fig, ax = plt.subplots()\n",
    "ax.fill_between(sizes, low_line, high_line, alpha=0.4)\n",
    "ax.plot(sizes, mean, '--')"
   ]
  },
  {
   "cell_type": "code",
   "execution_count": 37,
   "id": "9b13f3a6-7645-4aaf-9f4d-dd1d6d169fd9",
   "metadata": {},
   "outputs": [
    {
     "data": {
      "text/plain": [
       "<matplotlib.legend.Legend at 0x7d48dc54b4d0>"
      ]
     },
     "execution_count": 37,
     "metadata": {},
     "output_type": "execute_result"
    },
    {
     "data": {
      "image/png": "[encoded data removed]",
      "text/plain": [
       "<Figure size 640x480 with 1 Axes>"
      ]
     },
     "metadata": {},
     "output_type": "display_data"
    }
   ],
   "source": [
    "support = df.label.mean()\n",
    "sizes = np.array(sizes)\n",
    "pos_sample_size_bal = sizes / 2\n",
    "pos_sample_size_nat = sizes * support\n",
    "std_nat = [point['std'] for point in nat_results]\n",
    "std_bal = [point['std'] for point in bal_results]\n",
    "\n",
    "fig, ax = plt.subplots()\n",
    "ax.plot(pos_sample_size_bal, std_bal, label='balanced std')\n",
    "ax.plot(pos_sample_size_nat, std_nat, label='natural std')\n",
    "ax.set_xlabel('Number of positive examples')\n",
    "ax.legend()"
   ]
  },
  {
   "cell_type": "code",
   "execution_count": 40,
   "id": "14ccdaa1-ac67-4275-86f6-0ebfa96a983b",
   "metadata": {},
   "outputs": [
    {
     "data": {
      "text/plain": [
       "[0.09902893490111862,\n",
       " 0.07487186155183663,\n",
       " 0.05170768966237528,\n",
       " 0.03843726852921541,\n",
       " 0.026493835660264267,\n",
       " 0.018701816933764825,\n",
       " 0.012930022728238807]"
      ]
     },
     "execution_count": 40,
     "metadata": {},
     "output_type": "execute_result"
    }
   ],
   "source": [
    "std_nat"
   ]
  },
  {
   "cell_type": "code",
   "execution_count": 46,
   "id": "a6e412d4-1e58-4db0-980d-b2bd27438333",
   "metadata": {},
   "outputs": [
    {
     "name": "stdout",
     "output_type": "stream",
     "text": [
      "For balanced bootstraps:\n",
      "Mean: 0.7978275000000001\n",
      "Std. dev: 0.02021383174338799\n",
      "For natural bootstraps:\n",
      "Mean: 0.7872814814814815\n",
      "Std. dev: 0.017398005341104722\n"
     ]
    }
   ],
   "source": [
    "bstrap_results = []\n",
    "for i in range(1000):\n",
    "    split = bootstrap(df, 400, balance=True)\n",
    "    metrics = compute_metrics(split)\n",
    "    bstrap_results.append(metrics['acc'])\n",
    "\n",
    "bstrap_results = np.array(bstrap_results)\n",
    "print('For balanced bootstraps:')\n",
    "print('Mean:', bstrap_results.mean())\n",
    "print('Std. dev:', bstrap_results.std())\n",
    "\n",
    "support = df.label.mean()\n",
    "bstrap_results = []\n",
    "for i in range(1000):\n",
    "    split = bootstrap(df, round(200 / support), balance=False)\n",
    "    metrics = compute_metrics(split)\n",
    "    bstrap_results.append(metrics['acc'])\n",
    "\n",
    "bstrap_results = np.array(bstrap_results)\n",
    "print('For natural bootstraps:')\n",
    "print('Mean:', bstrap_results.mean())\n",
    "print('Std. dev:', bstrap_results.std())\n",
    "    "
   ]
  },
  {
   "cell_type": "code",
   "execution_count": 64,
   "id": "51ba31a1-d1a3-491c-b895-ac1388c77018",
   "metadata": {},
   "outputs": [],
   "source": [
    "api = wandb.Api()\n",
    "runs = api.runs('tberm-org/ft-new-reviews')\n"
   ]
  },
  {
   "cell_type": "code",
   "execution_count": 81,
   "id": "4aff9c8d-2af9-4ec3-b14c-a2604182680c",
   "metadata": {},
   "outputs": [
    {
     "name": "stdout",
     "output_type": "stream",
     "text": [
      "model-iris:v7\n",
      "model-edelweiss:v12\n",
      "model-lily:v6\n",
      "model-hyacinth:v8\n",
      "model-daffodil:v6\n",
      "model-poppy:v6\n",
      "model-bluebell:v7\n",
      "model-iris:v6\n",
      "model-lily:v5\n",
      "model-daffodil:v5\n",
      "model-hyacinth:v7\n",
      "model-edelweiss:v9\n",
      "model-poppy:v5\n",
      "model-bluebell:v6\n",
      "model-lily:v4\n",
      "model-bluebell:v5\n",
      "model-daffodil:v4\n",
      "model-hyacinth:v6\n",
      "model-iris:v5\n",
      "model-edelweiss:v8\n",
      "model-poppy:v4\n",
      "model-hyacinth-cc:v1\n",
      "model-edelweiss-cc:v1\n",
      "model-poppy-cc:v1\n",
      "model-lily-cc:v1\n",
      "model-daffodil-cc:v1\n",
      "model-iris-cc:v1\n",
      "model-bluebell-cc:v1\n",
      "model-euphorbia:v2\n",
      "model-geranium:v5\n",
      "model-amapola:v3\n",
      "model-magnolia:v3\n",
      "model-jasmine:v2\n",
      "model-narcissus:v4\n",
      "model-clematis:v4\n",
      "model-lily-short:v1\n",
      "model-foxglove:v1\n"
     ]
    }
   ],
   "source": [
    "runs_with_model = []\n",
    "for run in runs:\n",
    "    for art in run.logged_artifacts():\n",
    "        if art.file_count > 4:\n",
    "            print(art.name)\n",
    "            runs_with_model.append(run)\n",
    "            break"
   ]
  },
  {
   "cell_type": "code",
   "execution_count": 82,
   "id": "58ca13d6-1855-4f5a-8205-c716383625e0",
   "metadata": {},
   "outputs": [],
   "source": [
    "from collections import defaultdict\n",
    "from nb_funcs import get_review_from_eval_set\n",
    "\n",
    "models_by_review = defaultdict(list)\n",
    "for run in runs_with_model:\n",
    "    if run.name.endswith('-cc'):\n",
    "        continue\n",
    "    review = get_review_from_eval_set(run.config['train_config']['train_set'])\n",
    "    models_by_review[review].append(run)"
   ]
  },
  {
   "cell_type": "code",
   "execution_count": 85,
   "id": "bbb33161-a0cd-4519-be8f-109ff61650bb",
   "metadata": {},
   "outputs": [],
   "source": [
    "relevant_runs = [run for group in models_by_review.values() for run in group]\n",
    "runs_df = make_df_from_wandb_runs(relevant_runs)"
   ]
  },
  {
   "cell_type": "markdown",
   "id": "253ddd0f-1106-4d17-af92-9e825d3326de",
   "metadata": {},
   "source": [
    "### Why are results so different for different sample sizes?"
   ]
  },
  {
   "cell_type": "code",
   "execution_count": 28,
   "id": "02d35e75-cc28-4fea-9554-ce89d8907215",
   "metadata": {},
   "outputs": [
    {
     "name": "stderr",
     "output_type": "stream",
     "text": [
      "\u001b[34m\u001b[1mwandb\u001b[0m:   1 of 1 files downloaded.  \n",
      "\u001b[34m\u001b[1mwandb\u001b[0m:   1 of 1 files downloaded.  \n"
     ]
    }
   ],
   "source": [
    "import pandas as pd\n",
    "\n",
    "api = wandb.Api()\n",
    "# diarra evaluated on the whole of 258698\n",
    "full_eval_art = api.artifact('tberm-org/one-offs/run-n2q2h8ng-Evalresults:v0')\n",
    "table = full_eval_art.get('Eval results')\n",
    "full_eval_df = pd.DataFrame(data=table.data, columns=table.columns).set_index('index')\n",
    "\n",
    "part_eval_art = api.artifact('tberm-org/multi-review-ft/run-nm7z3qzv-Evalresults:v1')\n",
    "table = part_eval_art.get('Eval results')\n",
    "part_eval_df = pd.DataFrame(data=table.data, columns=table.columns).set_index('index')"
   ]
  },
  {
   "cell_type": "code",
   "execution_count": 40,
   "id": "bf26d0e2-6c04-4542-a909-fb8d361de26f",
   "metadata": {},
   "outputs": [],
   "source": [
    "from ast import literal_eval\n",
    "part_eval_df['pos_prob'] = part_eval_df.label_probs.apply(lambda lis: literal_eval(lis)[1])\n",
    "full_eval_df['pos_prob'] = full_eval_df.label_probs.apply(lambda lis: literal_eval(lis)[1])"
   ]
  },
  {
   "cell_type": "code",
   "execution_count": 41,
   "id": "4b46a5e9-c25c-4693-8317-79c97141e2ee",
   "metadata": {},
   "outputs": [
    {
     "data": {
      "text/plain": [
       "<sklearn.metrics._plot.precision_recall_curve.PrecisionRecallDisplay at 0x7bdb873dcce0>"
      ]
     },
     "execution_count": 41,
     "metadata": {},
     "output_type": "execute_result"
    },
    {
     "data": {
      "image/png": "[encoded data removed]",
      "text/plain": [
       "<Figure size 640x480 with 1 Axes>"
      ]
     },
     "metadata": {},
     "output_type": "display_data"
    }
   ],
   "source": [
    "from sklearn.metrics import PrecisionRecallDisplay\n",
    "\n",
    "PrecisionRecallDisplay.from_predictions(full_eval_df.label, full_eval_df.pos_prob)"
   ]
  },
  {
   "cell_type": "code",
   "execution_count": 42,
   "id": "0d2cc1bd-75bb-4022-a863-b169f90c9fa1",
   "metadata": {},
   "outputs": [
    {
     "data": {
      "text/plain": [
       "<sklearn.metrics._plot.precision_recall_curve.PrecisionRecallDisplay at 0x7bdb8739ec00>"
      ]
     },
     "execution_count": 42,
     "metadata": {},
     "output_type": "execute_result"
    },
    {
     "data": {
      "image/png": "[encoded data removed]",
      "text/plain": [
       "<Figure size 640x480 with 1 Axes>"
      ]
     },
     "metadata": {},
     "output_type": "display_data"
    }
   ],
   "source": [
    "PrecisionRecallDisplay.from_predictions(part_eval_df.label, part_eval_df.pos_prob)"
   ]
  },
  {
   "cell_type": "code",
   "execution_count": 50,
   "id": "7668a82c-c4b3-4040-a904-09b58ca59293",
   "metadata": {},
   "outputs": [
    {
     "name": "stdout",
     "output_type": "stream",
     "text": [
      "2500\n",
      "2750\n",
      "3000\n",
      "3500\n",
      "4000\n",
      "4750\n",
      "5500\n",
      "6500\n"
     ]
    }
   ],
   "source": [
    "from sklearn.metrics import average_precision_score\n",
    "import numpy as np\n",
    "\n",
    "sizes = (2500, 2750, 3000, 3500, 4000, 4750, 5500, 6500)\n",
    "results = []\n",
    "for df_size in sizes:\n",
    "    print(df_size)\n",
    "    this_size_results = []\n",
    "    for i in range(500):\n",
    "        sample_df = full_eval_df.sample(df_size)\n",
    "        this_size_results.append(\n",
    "            average_precision_score(sample_df.label, sample_df.pos_prob)\n",
    "        )\n",
    "    this_size_results = np.array(this_size_results)\n",
    "    results.append({\n",
    "        'mean': this_size_results.mean(),\n",
    "        'std': this_size_results.std(),\n",
    "    })                   "
   ]
  },
  {
   "cell_type": "code",
   "execution_count": 51,
   "id": "9a21cfee-8781-465a-95ce-e452ba0623ca",
   "metadata": {},
   "outputs": [
    {
     "data": {
      "text/plain": [
       "[<matplotlib.lines.Line2D at 0x7bdb7d75a5d0>]"
      ]
     },
     "execution_count": 51,
     "metadata": {},
     "output_type": "execute_result"
    },
    {
     "data": {
      "image/png": "[encoded data removed]",
      "text/plain": [
       "<Figure size 640x480 with 1 Axes>"
      ]
     },
     "metadata": {},
     "output_type": "display_data"
    }
   ],
   "source": [
    "import matplotlib.pyplot as plt\n",
    "\n",
    "high_line = [point['mean'] + point['std'] for point in results]\n",
    "low_line = [point['mean'] - point['std'] for point in results]\n",
    "mean = [point['mean'] for point in results]\n",
    "fig, ax = plt.subplots()\n",
    "ax.fill_between(sizes, low_line, high_line, alpha=0.4)\n",
    "ax.plot(sizes, mean, '--')"
   ]
  },
  {
   "cell_type": "code",
   "execution_count": 56,
   "id": "d4aa9280-2a23-43cf-8a62-b76270f30a33",
   "metadata": {},
   "outputs": [
    {
     "name": "stdout",
     "output_type": "stream",
     "text": [
      "Mean: 0.5439028444969931\n",
      "Stdev: 0.03377424510643903\n"
     ]
    }
   ],
   "source": [
    "scores = []\n",
    "for i in range(1000):\n",
    "    bs_df = bootstrap(full_eval_df, 6976, balance=False)\n",
    "    scores.append(\n",
    "        average_precision_score(bs_df.label, bs_df.pos_prob)\n",
    "    )\n",
    "scores = np.array(scores)\n",
    "print('Mean:', scores.mean())\n",
    "print('Stdev:', scores.std())"
   ]
  },
  {
   "cell_type": "markdown",
   "id": "f6f627e5-fff3-4889-a833-252a6d84d6e8",
   "metadata": {},
   "source": [
    "### Final comparison of best approach with GPT"
   ]
  },
  {
   "cell_type": "code",
   "execution_count": 848,
   "id": "216344e4-c3ff-435d-8d22-562235d94aa7",
   "metadata": {},
   "outputs": [
    {
     "name": "stderr",
     "output_type": "stream",
     "text": [
      "\u001b[34m\u001b[1mwandb\u001b[0m:   1 of 1 files downloaded.  \n",
      "\u001b[34m\u001b[1mwandb\u001b[0m:   1 of 1 files downloaded.  \n",
      "\u001b[34m\u001b[1mwandb\u001b[0m:   1 of 1 files downloaded.  \n",
      "\u001b[34m\u001b[1mwandb\u001b[0m:   1 of 1 files downloaded.  \n",
      "\u001b[34m\u001b[1mwandb\u001b[0m:   1 of 1 files downloaded.  \n",
      "\u001b[34m\u001b[1mwandb\u001b[0m:   1 of 1 files downloaded.  \n",
      "\u001b[34m\u001b[1mwandb\u001b[0m:   1 of 1 files downloaded.  \n"
     ]
    }
   ],
   "source": [
    "api = wandb.Api()\n",
    "runs = api.runs('tberm-org/paper-sims-double-adapt')\n",
    "\n",
    "runs = [\n",
    "    run for run in runs if is_good_mt_run(run)\n",
    "    and run.config['train_config']['seed'] == 1\n",
    "]\n",
    "\n",
    "\n",
    "dfs = []\n",
    "for run in runs:\n",
    "    results = get_results_df_for_run(run)\n",
    "    review = get_review_from_eval_set(run.config['run_config']['eval_set'])\n",
    "    results['review_id'] = review\n",
    "    dfs.append(results)"
   ]
  },
  {
   "cell_type": "code",
   "execution_count": 926,
   "id": "eb11b82b",
   "metadata": {},
   "outputs": [
    {
     "name": "stderr",
     "output_type": "stream",
     "text": [
      "\u001b[34m\u001b[1mwandb\u001b[0m:   1 of 1 files downloaded.  \n",
      "\u001b[34m\u001b[1mwandb\u001b[0m:   1 of 1 files downloaded.  \n",
      "\u001b[34m\u001b[1mwandb\u001b[0m:   1 of 1 files downloaded.  \n"
     ]
    },
    {
     "name": "stdout",
     "output_type": "stream",
     "text": [
      "WARNING: run contains several eval tables. Using run-l5dr18o7-Evalresults:v2\n"
     ]
    },
    {
     "name": "stderr",
     "output_type": "stream",
     "text": [
      "\u001b[34m\u001b[1mwandb\u001b[0m:   1 of 1 files downloaded.  \n",
      "\u001b[34m\u001b[1mwandb\u001b[0m:   1 of 1 files downloaded.  \n",
      "\u001b[34m\u001b[1mwandb\u001b[0m:   1 of 1 files downloaded.  \n",
      "\u001b[34m\u001b[1mwandb\u001b[0m:   1 of 1 files downloaded.  \n",
      "\u001b[34m\u001b[1mwandb\u001b[0m:   1 of 1 files downloaded.  \n",
      "\u001b[34m\u001b[1mwandb\u001b[0m:   1 of 1 files downloaded.  \n"
     ]
    },
    {
     "name": "stdout",
     "output_type": "stream",
     "text": [
      "WARNING: run contains several eval tables. Using run-iy43zc2v-Evalresults:v3\n"
     ]
    },
    {
     "name": "stderr",
     "output_type": "stream",
     "text": [
      "\u001b[34m\u001b[1mwandb\u001b[0m:   1 of 1 files downloaded.  \n"
     ]
    },
    {
     "name": "stdout",
     "output_type": "stream",
     "text": [
      "WARNING: run contains several eval tables. Using run-881mfzdb-Evalresults:v1\n"
     ]
    },
    {
     "name": "stderr",
     "output_type": "stream",
     "text": [
      "\u001b[34m\u001b[1mwandb\u001b[0m:   1 of 1 files downloaded.  \n"
     ]
    },
    {
     "name": "stdout",
     "output_type": "stream",
     "text": [
      "WARNING: run contains several eval tables. Using run-x7yovtij-Evalresults:v1\n"
     ]
    },
    {
     "name": "stderr",
     "output_type": "stream",
     "text": [
      "\u001b[34m\u001b[1mwandb\u001b[0m:   1 of 1 files downloaded.  \n",
      "\u001b[34m\u001b[1mwandb\u001b[0m:   1 of 1 files downloaded.  \n",
      "\u001b[34m\u001b[1mwandb\u001b[0m:   1 of 1 files downloaded.  \n"
     ]
    },
    {
     "name": "stdout",
     "output_type": "stream",
     "text": [
      "WARNING: run contains several eval tables. Using run-7wvxqyl1-Evalresults:v2\n"
     ]
    },
    {
     "name": "stderr",
     "output_type": "stream",
     "text": [
      "\u001b[34m\u001b[1mwandb\u001b[0m:   1 of 1 files downloaded.  \n",
      "\u001b[34m\u001b[1mwandb\u001b[0m:   1 of 1 files downloaded.  \n",
      "\u001b[34m\u001b[1mwandb\u001b[0m:   1 of 1 files downloaded.  \n",
      "\u001b[34m\u001b[1mwandb\u001b[0m:   1 of 1 files downloaded.  \n"
     ]
    },
    {
     "name": "stdout",
     "output_type": "stream",
     "text": [
      "WARNING: run contains several eval tables. Using run-w0yg5vzf-Evalresults:v2\n"
     ]
    },
    {
     "name": "stderr",
     "output_type": "stream",
     "text": [
      "\u001b[34m\u001b[1mwandb\u001b[0m:   1 of 1 files downloaded.  \n"
     ]
    },
    {
     "name": "stdout",
     "output_type": "stream",
     "text": [
      "WARNING: run contains several eval tables. Using run-nm7z3qzv-Evalresults:v3\n"
     ]
    },
    {
     "name": "stderr",
     "output_type": "stream",
     "text": [
      "\u001b[34m\u001b[1mwandb\u001b[0m:   1 of 1 files downloaded.  \n",
      "\u001b[34m\u001b[1mwandb\u001b[0m:   1 of 1 files downloaded.  \n"
     ]
    }
   ],
   "source": [
    "api = wandb.Api()\n",
    "runs = api.runs('tberm-org/multi-review-ft')\n",
    "\n",
    "runs = [\n",
    "    run for run in runs if is_good_mt_run(run)\n",
    "]\n",
    "\n",
    "\n",
    "zshot_dfs = []\n",
    "reviews_seen = set()\n",
    "for run in runs:\n",
    "    review = get_review_from_eval_set(run.config['run_config']['eval_set'])\n",
    "    if review in reviews_seen:\n",
    "        continue\n",
    "    reviews_seen.add(review)\n",
    "    results = get_results_df_for_run(run)\n",
    "    results['review_id'] = review\n",
    "    zshot_dfs.append(results)"
   ]
  },
  {
   "cell_type": "code",
   "execution_count": 833,
   "id": "76a100e5-9991-4ba5-9d44-92bae89913fd",
   "metadata": {},
   "outputs": [
    {
     "name": "stdout",
     "output_type": "stream",
     "text": [
      "Using config from /home/tom/msc/diss/experiments/configs/gpt-eval.yaml\n",
      "eval split has 455 items (98 positive)\n"
     ]
    }
   ],
   "source": [
    "from run_common import init_config, load_dataset\n",
    "init_config('gpt-eval')\n",
    "eval_df = load_dataset('eval', return_df=True)"
   ]
  },
  {
   "cell_type": "code",
   "execution_count": 849,
   "id": "cda6f5de-b09b-4009-9b6c-09955eede6b9",
   "metadata": {},
   "outputs": [],
   "source": [
    "all_preds = pd.concat(dfs)\n",
    "all_preds['df_index'] = all_preds.index\n",
    "all_preds = all_preds.set_index(['df_index', 'review_id'])"
   ]
  },
  {
   "cell_type": "code",
   "execution_count": 927,
   "id": "7d6e8760",
   "metadata": {},
   "outputs": [],
   "source": [
    "zshot_all_preds = pd.concat(zshot_dfs)\n",
    "zshot_all_preds['df_index'] = zshot_all_preds.index\n",
    "zshot_all_preds = zshot_all_preds.set_index(['df_index', 'review_id'])"
   ]
  },
  {
   "cell_type": "code",
   "execution_count": 870,
   "id": "d4e5c3a5-8b11-4127-9715-10d56069c5d1",
   "metadata": {},
   "outputs": [],
   "source": [
    "dropped_idx = [(3628, 258698), (5954, 258698), (490, 258698), (898, 258698), (5084, 258698), (1854, 258698), (3052, 258698), (6261, 258698), (5173, 258698), (1201, 258698), (3819, 258698), (3503, 258698)]"
   ]
  },
  {
   "cell_type": "code",
   "execution_count": 871,
   "id": "10f314f7-33c5-467d-8a9a-71e9f55c88d5",
   "metadata": {},
   "outputs": [],
   "source": [
    "eval_df = eval_df.drop(index=dropped_idx)"
   ]
  },
  {
   "cell_type": "code",
   "execution_count": 876,
   "id": "1fee079d-44e2-4115-ac56-749e6851f4f0",
   "metadata": {},
   "outputs": [],
   "source": [
    "from ast import literal_eval\n",
    "\n",
    "preds = all_preds.loc[eval_df.index]\n",
    "preds['pos_prob'] = preds.label_probs.apply(lambda p: literal_eval(p)[1])\n"
   ]
  },
  {
   "cell_type": "code",
   "execution_count": 918,
   "id": "008a7ac4-c723-4ddd-a166-2251f8001201",
   "metadata": {},
   "outputs": [],
   "source": [
    "zshot_dropped_idx = [(1377, 121733), (2213, 121733), (1635, 121733), (1168, 121733), (1420, 121733), (1766, 121733), (3242, 121733), (3617, 121733), (1600, 121733), (1876, 121733), (459, 121733), (2735, 121733), (3760, 121733), (2719, 121733), (2782, 121733), (3104, 121733), (493, 121733), (3135, 121733), (2452, 121733), (3303, 121733), (987, 121733), (2871, 121733), (2165, 121733), (3583, 121733), (1212, 121733), (1980, 121733), (2747, 121733), (3768, 121733), (2392, 121733), (1063, 121733), (586, 121733), (2367, 121733), (867, 121733), (3818, 121733), (3544, 121733), (141, 121733), (3494, 121733), (808, 121733), (1720, 121733), (1650, 121733), (3606, 121733), (183, 121733), (3511, 121733), (157, 121733), (803, 121733), (3114, 121733), (1794, 121733), (2063, 121733), (647, 121733), (2772, 121733), (2988, 121733), (103, 121733), (2480, 121733), (920, 121733), (882, 121733), (1062, 121733)]"
   ]
  },
  {
   "cell_type": "code",
   "execution_count": 928,
   "id": "a525b0b8",
   "metadata": {},
   "outputs": [
    {
     "data": {
      "text/plain": [
       "387"
      ]
     },
     "execution_count": 928,
     "metadata": {},
     "output_type": "execute_result"
    }
   ],
   "source": [
    "from ast import literal_eval\n",
    "\n",
    "eval_df_adj = eval_df.drop(index=zshot_dropped_idx)\n",
    "zshot_preds = zshot_all_preds.loc[eval_df_adj.index]\n",
    "zshot_preds['pos_prob'] = zshot_preds.label_probs.apply(lambda p: literal_eval(p)[1])\n",
    "len(zshot_preds)\n"
   ]
  },
  {
   "cell_type": "code",
   "execution_count": 877,
   "id": "fc0d092f-343b-493a-93c4-8b4e9e87778e",
   "metadata": {},
   "outputs": [
    {
     "data": {
      "text/plain": [
       "{'acc': 0.8623024830699775,\n",
       " 'precision': 0.7228915662650602,\n",
       " 'recall': 0.6122448979591837,\n",
       " 'f1': 0.6629834254143647,\n",
       " 'neg_recall': 0.9333333333333333,\n",
       " 'pos_rate': 0.1873589164785553,\n",
       " 'average_precision': 0.7347281315558418,\n",
       " 'auroc': 0.886631174208814,\n",
       " 'specificity@95': 0.42028985507246375,\n",
       " 'specificity@98': 0.24927536231884062,\n",
       " 'specificity@99': 0.23478260869565215,\n",
       " 'precision@95': 0.3197278911564626,\n",
       " 'precision@98': 0.27247191011235955,\n",
       " 'precision@99': 0.27071823204419887}"
      ]
     },
     "execution_count": 877,
     "metadata": {},
     "output_type": "execute_result"
    }
   ],
   "source": [
    "compute_metrics(preds)"
   ]
  },
  {
   "cell_type": "code",
   "execution_count": 867,
   "id": "a0552304-2855-4442-b646-ea30dc867afb",
   "metadata": {},
   "outputs": [
    {
     "data": {
      "text/plain": [
       "orig_index                                                 3406\n",
       "title         Development of a phone survey tool to measure ...\n",
       "abstract      Background: Respectful maternity care (RMC) is...\n",
       "label                                                         0\n",
       "review_id                                                258698\n",
       "Name: 3628, dtype: object"
      ]
     },
     "execution_count": 867,
     "metadata": {},
     "output_type": "execute_result"
    }
   ],
   "source": [
    "df = pd.read_csv('../data/covidence/review_258698/full.csv', index_col=0)\n",
    "df = df.loc[np.genfromtxt('../data/covidence/review_258698/nat_few_shot_complement.txt')]\n",
    "df.loc[3628]"
   ]
  },
  {
   "cell_type": "code",
   "execution_count": 880,
   "id": "99ae0fd8-c784-4d3f-8d63-6e20b0e1922d",
   "metadata": {},
   "outputs": [
    {
     "data": {
      "text/plain": [
       "<sklearn.metrics._plot.precision_recall_curve.PrecisionRecallDisplay at 0x740d19c43cb0>"
      ]
     },
     "execution_count": 880,
     "metadata": {},
     "output_type": "execute_result"
    },
    {
     "data": {
      "image/png": "[encoded data removed]",
      "text/plain": [
       "<Figure size 640x480 with 1 Axes>"
      ]
     },
     "metadata": {},
     "output_type": "display_data"
    }
   ],
   "source": [
    "from sklearn.metrics import PrecisionRecallDisplay, precision_recall_curve\n",
    "\n",
    "PrecisionRecallDisplay.from_predictions(preds.label, preds.pos_prob)"
   ]
  },
  {
   "cell_type": "code",
   "execution_count": 1,
   "id": "9bc8c1d1-7856-40d2-90f2-617e114e7e54",
   "metadata": {},
   "outputs": [
    {
     "ename": "NameError",
     "evalue": "name 'pd' is not defined",
     "output_type": "error",
     "traceback": [
      "\u001b[0;31m---------------------------------------------------------------------------\u001b[0m",
      "\u001b[0;31mNameError\u001b[0m                                 Traceback (most recent call last)",
      "Cell \u001b[0;32mIn[1], line 1\u001b[0m\n\u001b[0;32m----> 1\u001b[0m gpt_preds \u001b[38;5;241m=\u001b[39m \u001b[43mpd\u001b[49m\u001b[38;5;241m.\u001b[39mread_csv(\u001b[38;5;124m'\u001b[39m\u001b[38;5;124m../openai/gpt_final_preds.csv\u001b[39m\u001b[38;5;124m'\u001b[39m, index_col\u001b[38;5;241m=\u001b[39m\u001b[38;5;241m0\u001b[39m)\n",
      "\u001b[0;31mNameError\u001b[0m: name 'pd' is not defined"
     ]
    }
   ],
   "source": [
    "gpt_preds = pd.read_csv('../openai/gpt_final_preds.csv', index_col=0)"
   ]
  },
  {
   "cell_type": "code",
   "execution_count": 2,
   "id": "401f37ea-8967-4979-9d2b-7b3f8c7fdcad",
   "metadata": {},
   "outputs": [
    {
     "ename": "NameError",
     "evalue": "name 'gpt_preds' is not defined",
     "output_type": "error",
     "traceback": [
      "\u001b[0;31m---------------------------------------------------------------------------\u001b[0m",
      "\u001b[0;31mNameError\u001b[0m                                 Traceback (most recent call last)",
      "Cell \u001b[0;32mIn[2], line 1\u001b[0m\n\u001b[0;32m----> 1\u001b[0m gpt_preds[\u001b[38;5;124m'\u001b[39m\u001b[38;5;124mdf_index\u001b[39m\u001b[38;5;124m'\u001b[39m] \u001b[38;5;241m=\u001b[39m \u001b[43mgpt_preds\u001b[49m\u001b[38;5;241m.\u001b[39mindex\n\u001b[1;32m      2\u001b[0m gpt_preds \u001b[38;5;241m=\u001b[39m gpt_preds\u001b[38;5;241m.\u001b[39mset_index([\u001b[38;5;124m'\u001b[39m\u001b[38;5;124mdf_index\u001b[39m\u001b[38;5;124m'\u001b[39m, \u001b[38;5;124m'\u001b[39m\u001b[38;5;124mreview_id\u001b[39m\u001b[38;5;124m'\u001b[39m])\n",
      "\u001b[0;31mNameError\u001b[0m: name 'gpt_preds' is not defined"
     ]
    }
   ],
   "source": [
    "gpt_preds['df_index'] = gpt_preds.index\n",
    "gpt_preds = gpt_preds.set_index(['df_index', 'review_id'])"
   ]
  },
  {
   "cell_type": "code",
   "execution_count": 934,
   "id": "eea3f0cf-c3b8-4b2f-a284-f76ee0868f07",
   "metadata": {},
   "outputs": [
    {
     "data": {
      "text/plain": [
       "({'acc': 0.8465011286681715,\n",
       "  'precision': 0.6744186046511628,\n",
       "  'recall': 0.5918367346938775,\n",
       "  'f1': 0.6304347826086958,\n",
       "  'neg_recall': 0.9188405797101449,\n",
       "  'pos_rate': 0.19413092550790068,\n",
       "  'average_precision': 0.6376468915599844,\n",
       "  'auroc': 0.8641821946169772,\n",
       "  'specificity@95': 0.0,\n",
       "  'specificity@98': 0.0,\n",
       "  'specificity@99': 0.0,\n",
       "  'precision@95': 0.22121896162528218,\n",
       "  'precision@98': 0.22121896162528218,\n",
       "  'precision@99': 0.22121896162528218},\n",
       " {'acc': 0.8623024830699775,\n",
       "  'precision': 0.7228915662650602,\n",
       "  'recall': 0.6122448979591837,\n",
       "  'f1': 0.6629834254143647,\n",
       "  'neg_recall': 0.9333333333333333,\n",
       "  'pos_rate': 0.1873589164785553,\n",
       "  'average_precision': 0.7347281315558418,\n",
       "  'auroc': 0.886631174208814,\n",
       "  'specificity@95': 0.42028985507246375,\n",
       "  'specificity@98': 0.24927536231884062,\n",
       "  'specificity@99': 0.23478260869565215,\n",
       "  'precision@95': 0.3197278911564626,\n",
       "  'precision@98': 0.27247191011235955,\n",
       "  'precision@99': 0.27071823204419887})"
      ]
     },
     "execution_count": 934,
     "metadata": {},
     "output_type": "execute_result"
    },
    {
     "data": {
      "image/png": "[encoded data removed]",
      "text/plain": [
       "<Figure size 640x480 with 1 Axes>"
      ]
     },
     "metadata": {},
     "output_type": "display_data"
    }
   ],
   "source": [
    "gpt_preds_adj = gpt_preds.drop(index=dropped_idx)\n",
    "\n",
    "fig, ax = plt.subplots()\n",
    "\n",
    "PrecisionRecallDisplay.from_predictions(preds.label, preds.pos_prob, ax=ax, label = 'Llama 3 8B + experts')\n",
    "PrecisionRecallDisplay.from_predictions(gpt_preds_adj.label, gpt_preds_adj.yes_probability, ax=ax, label = 'GPT-4o')\n",
    "\n",
    "ax.legend()\n",
    "\n",
    "ax.grid(True)\n",
    "ax.set_xlim([0,1])\n",
    "ax.set_ylim([0,1])\n",
    "ax.set_aspect('equal')\n",
    "ax.set_xlabel('Recall')\n",
    "ax.set_ylabel('Precision')\n",
    "\n",
    "#fig.savefig('../../report/latex/figures/pr_lines.pdf')\n",
    "\n",
    "compute_metrics(gpt_preds_adj.rename(columns={'yes_probability': 'pos_prob'})), compute_metrics(preds) "
   ]
  },
  {
   "cell_type": "code",
   "execution_count": 932,
   "id": "979c89b8",
   "metadata": {},
   "outputs": [
    {
     "data": {
      "text/plain": [
       "Text(0, 0.5, 'Precision')"
      ]
     },
     "execution_count": 932,
     "metadata": {},
     "output_type": "execute_result"
    },
    {
     "data": {
      "image/png": "[encoded data removed]",
      "text/plain": [
       "<Figure size 640x480 with 1 Axes>"
      ]
     },
     "metadata": {},
     "output_type": "display_data"
    }
   ],
   "source": [
    "gpt_preds_adj = gpt_preds.drop(index=zshot_dropped_idx).drop(dropped_idx)\n",
    "\n",
    "fig, ax = plt.subplots()\n",
    "\n",
    "preds_dbl_adj = preds.drop(index=zshot_dropped_idx)\n",
    "zshot_preds_dbl_adj = zshot_preds.drop(index=dropped_idx, errors='ignore')\n",
    "\n",
    "PrecisionRecallDisplay.from_predictions(preds_dbl_adj.label, preds_dbl_adj.pos_prob, ax=ax, label = 'Llama 3 8B few shot')\n",
    "PrecisionRecallDisplay.from_predictions(zshot_preds_dbl_adj.label, zshot_preds_dbl_adj.pos_prob, ax=ax, label = 'Llama 3 8B 0 shot')\n",
    "PrecisionRecallDisplay.from_predictions(gpt_preds_adj.label, gpt_preds_adj.yes_probability, ax=ax, label = 'GPT-4o')\n",
    "\n",
    "ax.legend()\n",
    "\n",
    "ax.grid(True)\n",
    "ax.set_xlim([0,1])\n",
    "ax.set_ylim([0,1])\n",
    "ax.set_aspect('equal')\n",
    "ax.set_xlabel('Recall')\n",
    "ax.set_ylabel('Precision')\n",
    "\n",
    "#fig.savefig('../../report/latex/figures/pr_lines.pdf')"
   ]
  },
  {
   "cell_type": "code",
   "execution_count": 7,
   "id": "fe3a60c5-afb5-4d06-a612-e7aac6922109",
   "metadata": {},
   "outputs": [
    {
     "name": "stderr",
     "output_type": "stream",
     "text": [
      "\u001b[34m\u001b[1mwandb\u001b[0m:   1 of 1 files downloaded.  \n"
     ]
    }
   ],
   "source": [
    "import wandb\n",
    "from ast import literal_eval\n",
    "\n",
    "api = wandb.Api()\n",
    "gpt_run = api.run('tberm-org/zero-shot-final/1jye0sm7')\n",
    "gpt_eval_df = get_results_df_for_run(gpt_run)"
   ]
  },
  {
   "cell_type": "code",
   "execution_count": 8,
   "id": "28ecd5b0-820e-4b2a-b178-0463ebe3caf3",
   "metadata": {},
   "outputs": [
    {
     "name": "stderr",
     "output_type": "stream",
     "text": [
      "\u001b[34m\u001b[1mwandb\u001b[0m:   1 of 1 files downloaded.  \n"
     ]
    }
   ],
   "source": [
    "paper_sims_run = api.run('tberm-org/paper-sims-adapt/iuhjul0t')\n",
    "ps_eval_df = get_results_df_for_run(paper_sims_run)\n",
    "ps_eval_df['pos_prob'] = ps_eval_df.label_probs.apply(lambda p: literal_eval(p)[1])"
   ]
  },
  {
   "cell_type": "code",
   "execution_count": 9,
   "id": "07e0537e",
   "metadata": {},
   "outputs": [
    {
     "name": "stderr",
     "output_type": "stream",
     "text": [
      "\u001b[34m\u001b[1mwandb\u001b[0m:   1 of 1 files downloaded.  \n"
     ]
    }
   ],
   "source": [
    "llama0_run = api.run('tberm-org/zero-shot-final/zy03mng3')\n",
    "llama0_eval_df = get_results_df_for_run(llama0_run)\n",
    "llama0_eval_df['pos_prob'] = llama0_eval_df.label_probs.apply(lambda p: literal_eval(p)[1])"
   ]
  },
  {
   "cell_type": "code",
   "execution_count": 10,
   "id": "86905ddb-6a40-49fd-9a6d-71b5e6009a4e",
   "metadata": {},
   "outputs": [],
   "source": [
    "gpt_eval_df = gpt_eval_df.rename(columns={'yes_probability': 'pos_prob'})"
   ]
  },
  {
   "cell_type": "code",
   "execution_count": 11,
   "id": "8d1de2a7-ad71-483a-91c4-e094886cf508",
   "metadata": {},
   "outputs": [
    {
     "data": {
      "text/plain": [
       "67"
      ]
     },
     "execution_count": 11,
     "metadata": {},
     "output_type": "execute_result"
    }
   ],
   "source": [
    "gpt_eval_df.label.sum()"
   ]
  },
  {
   "cell_type": "code",
   "execution_count": 12,
   "id": "2a1e2124-48f2-4ab6-a259-4ee58e165e7d",
   "metadata": {},
   "outputs": [],
   "source": [
    "short_ps_eval_df = ps_eval_df.loc[gpt_eval_df.index]"
   ]
  },
  {
   "cell_type": "code",
   "execution_count": 18,
   "id": "ed656dd2-f459-4bf9-b9a7-3970b3d6f779",
   "metadata": {},
   "outputs": [],
   "source": [
    "import matplotlib as mpl\n",
    "from cycler import cycler \n",
    "\n",
    "#mpl.rcParams['axes.prop_cycle'] = cycler(color=['#065143', '#93B7BE', '#EE8434'])\n",
    "mpl.rcParams['axes.grid'] = True\n",
    "mpl.rcParams['axes.spines.right'] = False\n",
    "mpl.rcParams['axes.spines.top'] = False\n",
    "mpl.rcParams['font.size'] = 11"
   ]
  },
  {
   "cell_type": "code",
   "execution_count": 14,
   "id": "b880fcf2-3b9a-4ac4-bc19-dbc2d5517269",
   "metadata": {},
   "outputs": [
    {
     "data": {
      "text/plain": [
       "'/home/tom/anaconda3/envs/diss/lib/python3.12/site-packages/matplotlib/mpl-data/matplotlibrc'"
      ]
     },
     "execution_count": 14,
     "metadata": {},
     "output_type": "execute_result"
    }
   ],
   "source": [
    "import matplotlib\n",
    "import matplotlib.pyplot as plt\n",
    "matplotlib.matplotlib_fname()"
   ]
  },
  {
   "cell_type": "code",
   "execution_count": 20,
   "id": "463df124-0b23-4338-901a-019b5c4f0d6c",
   "metadata": {},
   "outputs": [
    {
     "data": {
      "image/png": "[encoded data removed]",
      "text/plain": [
       "<Figure size 640x480 with 1 Axes>"
      ]
     },
     "metadata": {},
     "output_type": "display_data"
    }
   ],
   "source": [
    "from sklearn.metrics import PrecisionRecallDisplay, precision_recall_curve\n",
    "fig, ax = plt.subplots()\n",
    "PrecisionRecallDisplay.from_predictions(short_ps_eval_df.label, short_ps_eval_df.pos_prob, ax=ax, label = 'Llama 3 8B + experts')\n",
    "PrecisionRecallDisplay.from_predictions(gpt_eval_df.label, gpt_eval_df.pos_prob, ax=ax, label = 'GPT-4o')\n",
    "#PrecisionRecallDisplay.from_predictions(llama0_eval_df.label, llama0_eval_df.pos_prob, ax=ax, label = 'Llama 3 8B')\n",
    "\n",
    "fig.savefig('../../report/latex/figures/pr_lines.pdf')"
   ]
  },
  {
   "cell_type": "code",
   "execution_count": 991,
   "id": "d642c294-cee6-433d-a109-b74a3820f134",
   "metadata": {},
   "outputs": [
    {
     "data": {
      "text/plain": [
       "{'acc': 0.8133333333333334,\n",
       " 'precision': 0.6410256410256411,\n",
       " 'recall': 0.373134328358209,\n",
       " 'f1': 0.4716981132075472,\n",
       " 'neg_recall': 0.9399141630901288,\n",
       " 'pos_rate': 0.13,\n",
       " 'average_precision': 0.5654793929853237,\n",
       " 'auroc': 0.8159631029402344,\n",
       " 'specificity@95': 0.3819742489270386,\n",
       " 'specificity@98': 0.24892703862660948,\n",
       " 'specificity@99': 0.02145922746781115,\n",
       " 'precision@95': 0.3076923076923077,\n",
       " 'precision@98': 0.27385892116182575,\n",
       " 'precision@99': 0.2271186440677966}"
      ]
     },
     "execution_count": 991,
     "metadata": {},
     "output_type": "execute_result"
    }
   ],
   "source": [
    "compute_metrics(short_ps_eval_df)"
   ]
  },
  {
   "cell_type": "code",
   "execution_count": 990,
   "id": "3583062a",
   "metadata": {},
   "outputs": [
    {
     "data": {
      "text/plain": [
       "{'acc': 0.7733333333333333,\n",
       " 'precision': 0.4915254237288136,\n",
       " 'recall': 0.43283582089552236,\n",
       " 'f1': 0.46031746031746035,\n",
       " 'neg_recall': 0.871244635193133,\n",
       " 'pos_rate': 0.19666666666666666,\n",
       " 'average_precision': 0.46511231727050534,\n",
       " 'auroc': 0.6783678175645378,\n",
       " 'specificity@95': 0.0,\n",
       " 'specificity@98': 0.0,\n",
       " 'specificity@99': 0.0,\n",
       " 'precision@95': 0.22333333333333333,\n",
       " 'precision@98': 0.22333333333333333,\n",
       " 'precision@99': 0.22333333333333333}"
      ]
     },
     "execution_count": 990,
     "metadata": {},
     "output_type": "execute_result"
    }
   ],
   "source": [
    "compute_metrics(gpt_eval_df)"
   ]
  },
  {
   "cell_type": "code",
   "execution_count": 982,
   "id": "1f840ee0-7504-454f-90ba-ed6359094b06",
   "metadata": {},
   "outputs": [],
   "source": [
    "precision, recall, _ = precision_recall_curve(gpt_eval_df.label, gpt_eval_df.pos_prob)"
   ]
  },
  {
   "cell_type": "code",
   "execution_count": 977,
   "id": "780dd935",
   "metadata": {},
   "outputs": [
    {
     "data": {
      "text/plain": [
       "<sklearn.metrics._plot.precision_recall_curve.PrecisionRecallDisplay at 0x740ceeca4c20>"
      ]
     },
     "execution_count": 977,
     "metadata": {},
     "output_type": "execute_result"
    },
    {
     "data": {
      "image/png": "[encoded data removed]",
      "text/plain": [
       "<Figure size 640x480 with 1 Axes>"
      ]
     },
     "metadata": {},
     "output_type": "display_data"
    }
   ],
   "source": [
    "fig, ax = plt.subplots()\n",
    "PrecisionRecallDisplay.from_predictions(ps_eval_df.label, ps_eval_df.pos_prob, ax=ax, label = 'Llama 3 8B + experts')\n",
    "PrecisionRecallDisplay.from_predictions(gpt_eval_df.label, gpt_eval_df.pos_prob, ax=ax, label = 'GPT-4o')"
   ]
  }
 ],
 "metadata": {
  "kernelspec": {
   "display_name": "Python 3 (ipykernel)",
   "language": "python",
   "name": "python3"
  },
  "language_info": {
   "codemirror_mode": {
    "name": "ipython",
    "version": 3
   },
   "file_extension": ".py",
   "mimetype": "text/x-python",
   "name": "python",
   "nbconvert_exporter": "python",
   "pygments_lexer": "ipython3",
   "version": "3.12.3"
  }
 },
 "nbformat": 4,
 "nbformat_minor": 5
}
